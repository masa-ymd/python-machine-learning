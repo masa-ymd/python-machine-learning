{
 "cells": [
  {
   "cell_type": "markdown",
   "metadata": {},
   "source": [
    "# １．ロジスティック関数"
   ]
  },
  {
   "cell_type": "markdown",
   "metadata": {},
   "source": [
    "オッズ比(p は正事象の確率を表す)\n",
    "\n",
    "$$\n",
    "\\frac{p}{(1 - p)}\n",
    "$$\n",
    "\n",
    "ロジット関数…オッズ比の対数\n",
    "\n",
    "$$\n",
    "logit(p) = log \\frac{p}{1 - p}\n",
    "$$\n",
    "\n",
    "ロジット関数はp(0 <= p <= 1) を受け取り実数の全範囲の値に変換する\n",
    "\n",
    "\n",
    "特徴量xの時 y=1 になる確率p\n",
    "\n",
    "$$\n",
    "logit(p(y = 1 | {\\bf x} )) = w_0x_0 + w_1x_1 + \\ldots + w_mx_m = \\sum_{i=0}^{m} w_ix_i = \\bf w^T \\bf{x}\n",
    "$$\n",
    "\n",
    "x…次元\n",
    "w…係数\n",
    "\n",
    "上記で実数全体を表現\n",
    "\n",
    "ここで、求めたいのはwxの時のp(確率)　それはロジット関数の逆関数（wxを入力するとpが返ってくる）で求められる\n",
    "これがロジスティック関数\n",
    "\n",
    "$$\n",
    "\\phi(z) = \\frac{1}{1 + e^{-z}}\n",
    "$$\n",
    "\n",
    "ここで\n",
    "\n",
    "$$\n",
    "{\\bf z} =  {\\bf w^Tx} = w_1x_1 + w_2x_2 + \\ldots + w_ix_i\n",
    "$$"
   ]
  },
  {
   "cell_type": "markdown",
   "metadata": {},
   "source": [
    "# 2. ロジスティック関数をプロット"
   ]
  },
  {
   "cell_type": "code",
   "execution_count": 9,
   "metadata": {
    "collapsed": false
   },
   "outputs": [
    {
     "data": {
      "image/png": "[encoded data removed]",
      "text/plain": [
       "<matplotlib.figure.Figure at 0x7fc43e476e90>"
      ]
     },
     "metadata": {},
     "output_type": "display_data"
    }
   ],
   "source": [
    "import matplotlib.pyplot as plt\n",
    "import numpy as np\n",
    "\n",
    "# ロジスティック関数を定義\n",
    "def sigmoid(z):\n",
    "    return 1.0 / (1.0 + np.exp(-z))\n",
    "\n",
    "# zの範囲指定\n",
    "z = np.arange(-7, 7, 0.1)\n",
    "# sigmoid関数の結果を取得\n",
    "phi_z = sigmoid(z)\n",
    "# プロット\n",
    "plt.plot(z, phi_z)\n",
    "\n",
    "# 装飾\n",
    "plt.axvline(0.0, color='k')\n",
    "plt.ylim(-0.1, 1,1)\n",
    "plt.xlabel('z')\n",
    "plt.ylabel('$\\phi (z) $')\n",
    "plt.yticks([0.0, 0.5, 1.0])\n",
    "ax = plt.gca()\n",
    "ax.yaxis.grid(True)\n",
    "plt.show()\n"
   ]
  },
  {
   "cell_type": "code",
   "execution_count": null,
   "metadata": {
    "collapsed": true
   },
   "outputs": [],
   "source": []
  }
 ],
 "metadata": {
  "kernelspec": {
   "display_name": "Python 2",
   "language": "python",
   "name": "python2"
  },
  "language_info": {
   "codemirror_mode": {
    "name": "ipython",
    "version": 2
   },
   "file_extension": ".py",
   "mimetype": "text/x-python",
   "name": "python",
   "nbconvert_exporter": "python",
   "pygments_lexer": "ipython2",
   "version": "2.7.12"
  }
 },
 "nbformat": 4,
 "nbformat_minor": 1
}
