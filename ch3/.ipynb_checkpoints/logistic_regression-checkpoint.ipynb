{
 "cells": [
  {
   "cell_type": "markdown",
   "metadata": {},
   "source": [
    "# １．ロジスティック関数"
   ]
  },
  {
   "cell_type": "markdown",
   "metadata": {},
   "source": [
    "オッズ比(p は正事象の確率を表す)\n",
    "\n",
    "$$\n",
    "\\frac{p}{(1 - p)}\n",
    "$$\n",
    "\n",
    "ロジット関数…オッズ比の対数\n",
    "\n",
    "$$\n",
    "logit(p) = log \\frac{p}{1 - p}\n",
    "$$\n",
    "\n",
    "ロジット関数はp(0 <= p <= 1) を受け取り実数の全範囲の値に変換する\n",
    "\n",
    "\n",
    "特徴量xの時 y=1 になる確率p\n",
    "\n",
    "$$\n",
    "logit(p(y = 1 | {\\bf x} )) = w_0x_0 + w_1x_1 + \\ldots + w_mx_m = \\sum_{i=0}^{m} w_ix_i = \\bf w^T \\bf{x}\n",
    "$$\n",
    "\n",
    "x…次元\n",
    "w…係数\n",
    "\n",
    "上記で実数全体を表現\n",
    "\n",
    "ここで、求めたいのはwxの時のp(確率)　それはロジット関数の逆関数（wxを入力するとpが返ってくる）で求められる\n",
    "これがロジスティック関数\n",
    "\n",
    "$$\n",
    "\\phi(z) = \\frac{1}{1 + e^{-z}}\n",
    "$$\n",
    "\n",
    "ここで\n",
    "\n",
    "$$\n",
    "{\\bf z} =  {\\bf w^Tx} = w_1x_1 + w_2x_2 + \\ldots + w_ix_i\n",
    "$$"
   ]
  },
  {
   "cell_type": "markdown",
   "metadata": {},
   "source": [
    "# 2. ロジスティック関数をプロット"
   ]
  },
  {
   "cell_type": "code",
   "execution_count": 3,
   "metadata": {
    "collapsed": false
   },
   "outputs": [
    {
     "data": {
      "image/png": "[encoded data removed]",
      "text/plain": [
       "<matplotlib.figure.Figure at 0x7f449c5af550>"
      ]
     },
     "metadata": {},
     "output_type": "display_data"
    }
   ],
   "source": [
    "import matplotlib.pyplot as plt\n",
    "import numpy as np\n",
    "\n",
    "# ロジスティック関数を定義\n",
    "def sigmoid(z):\n",
    "    return 1.0 / (1.0 + np.exp(-z))\n",
    "\n",
    "# zの範囲指定\n",
    "z = np.arange(-7, 7, 0.1)\n",
    "# sigmoid関数の結果を取得\n",
    "phi_z = sigmoid(z)\n",
    "# プロット\n",
    "plt.plot(z, phi_z)\n",
    "\n",
    "# 装飾\n",
    "plt.axvline(0.0, color='k')\n",
    "plt.ylim(-0.1, 1,1)\n",
    "plt.xlabel('z')\n",
    "plt.ylabel('$\\phi (z) $')\n",
    "plt.yticks([0.0, 0.5, 1.0])\n",
    "ax = plt.gca()\n",
    "ax.yaxis.grid(True)\n",
    "plt.show()\n"
   ]
  },
  {
   "cell_type": "markdown",
   "metadata": {
    "collapsed": true
   },
   "source": [
    "p($\\phi(z)$)を求めたあと、量子化器で２値化する\n",
    "\n",
    "$$\n",
    "\\begin{eqnarray}\n",
    "\\hat{y} = \\left\\{\n",
    "\\begin{array}{l}\n",
    "1 & \\phi(z) \\geq 0.5 \\\\\n",
    "0 & \\phi(z) < 0.5 \\\\\n",
    "\\end{array}\n",
    "\\right.\n",
    "\\end{eqnarray}\n",
    "$$\n",
    "\n",
    "条件をzに置き換えると\n",
    "\n",
    "$$\n",
    "\\begin{eqnarray}\n",
    "\\hat{y} = \\left\\{\n",
    "\\begin{array}{l}\n",
    "1 & z \\geq 0.0 \\\\\n",
    "0 & z < 0.0 \\\\\n",
    "\\end{array}\n",
    "\\right.\n",
    "\\end{eqnarray}\n",
    "$$"
   ]
  },
  {
   "cell_type": "markdown",
   "metadata": {},
   "source": [
    "# ロジスティック関数の重み"
   ]
  },
  {
   "cell_type": "markdown",
   "metadata": {},
   "source": [
    "尤度$\\bf L$(尤もらしさ)を定義する\n",
    "\n",
    "$$\n",
    "L({\\bf w}) = P({\\bf y} | {\\bf x ; w}) = \\prod_{i=1}^n P(y^{(i)}|x^{(i)}; {\\bf w}) = \\prod_{i=1}^n (\\phi(z^{(i)}))^{y^{(i)}}(1-\\phi(z^{(i)}))^{1-y^{(i)}}\n",
    "$$\n",
    "y=1の時は$\\phi(z^{(i)})$、y=0のとき$(1-\\phi(z^{(i)}))$<br>\n",
    "\n",
    "これを最大化すればよい <br>\n",
    "が、尤度の対数（対数尤度）を最大化するほうが簡単\n",
    "\n",
    "$$\n",
    "l({\\bf w}) = logL({\\bf w}) = \\sum_{i=1}^{n}[y^{(i)}log(\\phi(x^{(i)})) + (1 - y^{(i)})log(1 - \\phi(z^{(i)}))]\n",
    "$$\n",
    "\n",
    "勾配降下法を用いて最小化できるよう、コスト関数Jとして定義\n",
    "\n",
    "$$\n",
    "J({\\bf w}) = \\sum_{i=1}^{n}[-y^{(i)}log(\\phi(x^{(i)})) - (1 - y^{(i)})log(1 - \\phi(z^{(i)}))]\n",
    "$$\n",
    "\n",
    "※最小化したいので、尤度にマイナスをかける<br>\n",
    "\n",
    "一つのサンプルで計算されるコストをみると、y=1の時は1つ目の項のみに、y=0の時は2つ目の項のみになる\n",
    "\n",
    "$$\n",
    "J(\\phi(z),y;{\\bf w}) = \\left\\{\n",
    "\\begin{array}{l}\n",
    "-log(\\phi(z)) & y = 1 \\\\\n",
    "-log(1 - \\phi(z)) & y = 0 \\\\\n",
    "\\end{array}\n",
    "\\right.\n",
    "$$"
   ]
  },
  {
   "cell_type": "code",
   "execution_count": 20,
   "metadata": {
    "collapsed": false
   },
   "outputs": [
    {
     "data": {
      "image/png": "[encoded data removed]",
      "text/plain": [
       "<matplotlib.figure.Figure at 0x7f4471d89090>"
      ]
     },
     "metadata": {},
     "output_type": "display_data"
    }
   ],
   "source": [
    "# zの範囲指定\n",
    "z = np.arange(0.01, 1.00, 0.01)\n",
    "# -log(phi)関数の結果を取得\n",
    "log_z = - np.log(z)\n",
    "# -log(1-phi)関数の結果を取得\n",
    "log_z2 = - np.log(1 - z)\n",
    "# プロット\n",
    "plt.plot(z, log_z, label=\"J(x) y=1\")\n",
    "plt.plot(z, log_z2,label=\"J(x) y=0\")\n",
    "\n",
    "# 装飾\n",
    "plt.axvline(0.0, color='k')\n",
    "plt.ylabel('J(x)')\n",
    "plt.xlabel('$\\phi (z) $')\n",
    "plt.legend()\n",
    "plt.show()"
   ]
  },
  {
   "cell_type": "code",
   "execution_count": null,
   "metadata": {
    "collapsed": true
   },
   "outputs": [],
   "source": []
  }
 ],
 "metadata": {
  "kernelspec": {
   "display_name": "Python 2",
   "language": "python",
   "name": "python2"
  },
  "language_info": {
   "codemirror_mode": {
    "name": "ipython",
    "version": 2
   },
   "file_extension": ".py",
   "mimetype": "text/x-python",
   "name": "python",
   "nbconvert_exporter": "python",
   "pygments_lexer": "ipython2",
   "version": "2.7.12"
  }
 },
 "nbformat": 4,
 "nbformat_minor": 1
}
