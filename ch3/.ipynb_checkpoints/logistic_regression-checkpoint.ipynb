{
 "cells": [
  {
   "cell_type": "markdown",
   "metadata": {},
   "source": [
    "# １．ロジスティック関数"
   ]
  },
  {
   "cell_type": "markdown",
   "metadata": {},
   "source": [
    "オッズ比(p は正事象の確率を表す)\n",
    "\n",
    "$$\n",
    "\\frac{p}{(1 - p)}\n",
    "$$\n",
    "\n",
    "ロジット関数…オッズ比の対数\n",
    "\n",
    "$$\n",
    "logit(p) = log \\frac{p}{1 - p}\n",
    "$$\n",
    "\n",
    "ロジット関数はp(0 <= p <= 1) を受け取り実数の全範囲の値に変換する\n",
    "\n",
    "\n",
    "特徴量xの時 y=1 になる確率p\n",
    "\n",
    "$$\n",
    "logit(p(y = 1 | {\\bf x} )) = w_0x_0 + w_1x_1 + \\ldots + w_mx_m = \\sum_{i=0}^{m} w_ix_i = \\bf w^T \\bf{x}\n",
    "$$\n",
    "\n",
    "x…次元\n",
    "w…係数\n",
    "\n",
    "上記で実数全体を表現\n",
    "\n",
    "ここで、求めたいのはwxの時のp(確率)　それはロジット関数の逆関数（wxを入力するとpが返ってくる）で求められる\n",
    "これがロジスティック関数\n",
    "\n",
    "$$\n",
    "\\phi(z) = \\frac{1}{1 + e^{-z}}\n",
    "$$\n",
    "\n",
    "ここで\n",
    "\n",
    "$$\n",
    "{\\bf z} =  {\\bf w^Tx} = w_1x_1 + w_2x_2 + \\ldots + w_ix_i\n",
    "$$"
   ]
  },
  {
   "cell_type": "markdown",
   "metadata": {},
   "source": [
    "# 2. ロジスティック関数をプロット"
   ]
  },
  {
   "cell_type": "code",
   "execution_count": 1,
   "metadata": {
    "collapsed": false
   },
   "outputs": [
    {
     "data": {
      "image/png": "[encoded data removed]",
      "text/plain": [
       "<matplotlib.figure.Figure at 0x7f176d300bd0>"
      ]
     },
     "metadata": {},
     "output_type": "display_data"
    }
   ],
   "source": [
    "import matplotlib.pyplot as plt\n",
    "import numpy as np\n",
    "\n",
    "# ロジスティック関数を定義\n",
    "def sigmoid(z):\n",
    "    return 1.0 / (1.0 + np.exp(-z))\n",
    "\n",
    "# zの範囲指定\n",
    "z = np.arange(-7, 7, 0.1)\n",
    "# sigmoid関数の結果を取得\n",
    "phi_z = sigmoid(z)\n",
    "# プロット\n",
    "plt.plot(z, phi_z)\n",
    "\n",
    "# 装飾\n",
    "plt.axvline(0.0, color='k')\n",
    "plt.ylim(-0.1, 1,1)\n",
    "plt.xlabel('z')\n",
    "plt.ylabel('$\\phi (z) $')\n",
    "plt.yticks([0.0, 0.5, 1.0])\n",
    "ax = plt.gca()\n",
    "ax.yaxis.grid(True)\n",
    "plt.show()\n"
   ]
  },
  {
   "cell_type": "markdown",
   "metadata": {
    "collapsed": true
   },
   "source": [
    "p($\\phi(z)$)を求めたあと、量子化器で２値化する\n",
    "\n",
    "$$\n",
    "\\begin{eqnarray}\n",
    "\\hat{y} = \\left\\{\n",
    "\\begin{array}{l}\n",
    "1 & \\phi(z) \\geq 0.5 \\\\\n",
    "0 & \\phi(z) < 0.5 \\\\\n",
    "\\end{array}\n",
    "\\right.\n",
    "\\end{eqnarray}\n",
    "$$\n",
    "\n",
    "条件をzに置き換えると\n",
    "\n",
    "$$\n",
    "\\begin{eqnarray}\n",
    "\\hat{y} = \\left\\{\n",
    "\\begin{array}{l}\n",
    "1 & z \\geq 0.0 \\\\\n",
    "0 & z < 0.0 \\\\\n",
    "\\end{array}\n",
    "\\right.\n",
    "\\end{eqnarray}\n",
    "$$"
   ]
  },
  {
   "cell_type": "markdown",
   "metadata": {},
   "source": [
    "# ロジスティック関数の重み"
   ]
  },
  {
   "cell_type": "markdown",
   "metadata": {},
   "source": [
    "尤度$\\bf L$(尤もらしさ)を定義する\n",
    "\n",
    "$$\n",
    "L({\\bf w}) = P({\\bf y} | {\\bf x ; w}) = \\prod_{i=1}^n P(y^{(i)}|x^{(i)}; {\\bf w}) = \\prod_{i=1}^n (\\phi(z^{(i)}))^{y^{(i)}}(1-\\phi(z^{(i)}))^{1-y^{(i)}}\n",
    "$$\n",
    "y=1の時は$\\phi(z^{(i)})$、y=0のとき$(1-\\phi(z^{(i)}))$<br>\n",
    "\n",
    "これを最大化すればよい <br>\n",
    "が、尤度の対数（対数尤度）を最大化するほうが簡単\n",
    "\n",
    "$$\n",
    "l({\\bf w}) = logL({\\bf w}) = \\sum_{i=1}^{n}[y^{(i)}log(\\phi(x^{(i)})) + (1 - y^{(i)})log(1 - \\phi(z^{(i)}))]\n",
    "$$\n",
    "\n",
    "勾配降下法を用いて最小化できるよう、コスト関数Jとして定義\n",
    "\n",
    "$$\n",
    "J({\\bf w}) = \\sum_{i=1}^{n}[-y^{(i)}log(\\phi(x^{(i)})) - (1 - y^{(i)})log(1 - \\phi(z^{(i)}))]\n",
    "$$\n",
    "\n",
    "※最小化したいので、尤度にマイナスをかける<br>\n",
    "\n",
    "一つのサンプルで計算されるコストをみると、y=1の時は1つ目の項のみに、y=0の時は2つ目の項のみになる\n",
    "\n",
    "$$\n",
    "J(\\phi(z),y;{\\bf w}) = \\left\\{\n",
    "\\begin{array}{l}\n",
    "-log(\\phi(z)) & y = 1 \\\\\n",
    "-log(1 - \\phi(z)) & y = 0 \\\\\n",
    "\\end{array}\n",
    "\\right.\n",
    "$$"
   ]
  },
  {
   "cell_type": "code",
   "execution_count": 2,
   "metadata": {
    "collapsed": false
   },
   "outputs": [
    {
     "data": {
      "image/png": "[encoded data removed]",
      "text/plain": [
       "<matplotlib.figure.Figure at 0x7f176d300950>"
      ]
     },
     "metadata": {},
     "output_type": "display_data"
    }
   ],
   "source": [
    "# zの範囲指定\n",
    "z = np.arange(0.01, 1.00, 0.01)\n",
    "# -log(phi)関数の結果を取得\n",
    "log_z = - np.log(z)\n",
    "# -log(1-phi)関数の結果を取得\n",
    "log_z2 = - np.log(1 - z)\n",
    "# プロット\n",
    "plt.plot(z, log_z, label=\"J(x) y=1\")\n",
    "plt.plot(z, log_z2,label=\"J(x) y=0\")\n",
    "\n",
    "# 装飾\n",
    "plt.axvline(0.0, color='k')\n",
    "plt.ylabel('J(x)')\n",
    "plt.xlabel('$\\phi (z) $')\n",
    "plt.legend()\n",
    "plt.show()"
   ]
  },
  {
   "cell_type": "markdown",
   "metadata": {
    "collapsed": true
   },
   "source": [
    "# scikit-learnのロジスティック回帰モデルのトレーニング"
   ]
  },
  {
   "cell_type": "code",
   "execution_count": 3,
   "metadata": {
    "collapsed": true
   },
   "outputs": [],
   "source": [
    "from sklearn import datasets\n",
    "import numpy as np\n",
    "\n",
    "# iris データセットをロード\n",
    "iris = datasets.load_iris()\n",
    "# 3,4列目の特徴量を抽出\n",
    "X = iris.data[:, [2, 3]]\n",
    "# クラスラベルを取得\n",
    "y = iris.target"
   ]
  },
  {
   "cell_type": "code",
   "execution_count": 4,
   "metadata": {
    "collapsed": false
   },
   "outputs": [],
   "source": [
    "from sklearn.model_selection import train_test_split\n",
    "# 全体の30% をテストデータに分割\n",
    "X_train, X_test, y_train, y_test = train_test_split(X, y, test_size=0.3, random_state=0)"
   ]
  },
  {
   "cell_type": "code",
   "execution_count": 5,
   "metadata": {
    "collapsed": true
   },
   "outputs": [],
   "source": [
    "from sklearn.preprocessing import StandardScaler\n",
    "sc = StandardScaler()\n",
    "# トレーニングデータの平均と標準偏差を計算\n",
    "sc.fit(X_train)\n",
    "# 計算した結果を元にデータを標準化\n",
    "X_train_std = sc.transform(X_train)\n",
    "X_test_std = sc.transform(X_test)"
   ]
  },
  {
   "cell_type": "code",
   "execution_count": 6,
   "metadata": {
    "collapsed": true
   },
   "outputs": [],
   "source": [
    "from matplotlib.colors import ListedColormap\n",
    "import matplotlib.pyplot as plt\n",
    "\n",
    "def plot_decision_regions(X, y, classifier, test_idx=None, resolution=0.02, xlabel='x', ylabel='y', title='title', legend_loc='upper left'):\n",
    "    \n",
    "    # マーカーとカラーマップの準備\n",
    "    markers = ('s', 'o', 'v', '^', 'x')\n",
    "    colors = ('red', 'blue', 'lightgreen', 'gray', 'cyan')\n",
    "    cmap = ListedColormap(colors[:len(np.unique(y))])\n",
    "    \n",
    "    # 決定領域のプロット\n",
    "    x1_min, x1_max = X[:, 0].min() - 1, X[:, 0].max() + 1\n",
    "    x2_min, x2_max = X[:, 1].min() - 1, X[:, 1].max() + 1\n",
    "    # グリッドポイントの生成\n",
    "    xx1, xx2 = np.meshgrid(np.arange(x1_min, x1_max, resolution),\n",
    "                           np.arange(x2_min, x2_max, resolution))\n",
    "    print 'xx1'\n",
    "    print xx1\n",
    "    print 'xx2'\n",
    "    print xx2\n",
    "    print 'xx1.ravel()'\n",
    "    print xx1.ravel()\n",
    "    print 'xx2.ravel()'\n",
    "    print xx2.ravel()\n",
    "    \n",
    "    # 各特徴量を1次元配列に変換して予測を実行\n",
    "    Z = classifier.predict(np.array([xx1.ravel(), xx2.ravel()]).T)\n",
    "    # 予測結果を元のグリッドポイントのデータサイズに変換\n",
    "    Z = Z.reshape(xx1.shape)\n",
    "    print 'Z'\n",
    "    print Z\n",
    "    # グリッドポイントの等高線のプロット\n",
    "    plt.contourf(xx1, xx2, Z, aplha=0.4, cmap=cmap)\n",
    "    # 軸の範囲の設定\n",
    "    plt.xlim(xx1.min(), xx1.max())\n",
    "    plt.ylim(xx2.min(), xx2.max())\n",
    "    \n",
    "    # クラスごとにサンプルをプロット\n",
    "    for idx, cl in enumerate(np.unique(y)):\n",
    "        plt.scatter(x=X[y == cl, 0], y=X[y == cl, 1], alpha=0.8, c=cmap(idx), marker=markers[idx], label=cl)\n",
    "        \n",
    "    # テストサンプルを目立たせる\n",
    "    if test_idx:\n",
    "        X_test, y_test = X[test_idx, :], y[test_idx]\n",
    "        plt.scatter(X_test[:, 0], X_test[:, 1], c='',\n",
    "                   alpha=1.0, linewidths=1, marker='o',\n",
    "                   s=55, label='test set')\n",
    "        \n",
    "    # 軸のラベルの設定\n",
    "    plt.xlabel(xlabel)\n",
    "    plt.ylabel(ylabel)\n",
    "    # タイトル設定\n",
    "    plt.title(title)\n",
    "    # 凡例の設定\n",
    "    plt.legend(loc=legend_loc)\n",
    "    # 図の表示\n",
    "    plt.show()"
   ]
  },
  {
   "cell_type": "code",
   "execution_count": 7,
   "metadata": {
    "collapsed": true
   },
   "outputs": [],
   "source": [
    "# トレーニングデータとテストデータを行方向に結合\n",
    "X_combined_std = np.vstack((X_train_std, X_test_std))\n",
    "# 同様にクラスラベルも結合\n",
    "y_combined = np.hstack((y_train, y_test))"
   ]
  },
  {
   "cell_type": "code",
   "execution_count": 8,
   "metadata": {
    "collapsed": false
   },
   "outputs": [
    {
     "name": "stdout",
     "output_type": "stream",
     "text": [
      "xx1\n",
      "[[-2.57496421 -2.55496421 -2.53496421 ...,  2.66503579  2.68503579\n",
      "   2.70503579]\n",
      " [-2.57496421 -2.55496421 -2.53496421 ...,  2.66503579  2.68503579\n",
      "   2.70503579]\n",
      " [-2.57496421 -2.55496421 -2.53496421 ...,  2.66503579  2.68503579\n",
      "   2.70503579]\n",
      " ..., \n",
      " [-2.57496421 -2.55496421 -2.53496421 ...,  2.66503579  2.68503579\n",
      "   2.70503579]\n",
      " [-2.57496421 -2.55496421 -2.53496421 ...,  2.66503579  2.68503579\n",
      "   2.70503579]\n",
      " [-2.57496421 -2.55496421 -2.53496421 ...,  2.66503579  2.68503579\n",
      "   2.70503579]]\n",
      "xx2\n",
      "[[-2.4487218 -2.4487218 -2.4487218 ..., -2.4487218 -2.4487218 -2.4487218]\n",
      " [-2.4287218 -2.4287218 -2.4287218 ..., -2.4287218 -2.4287218 -2.4287218]\n",
      " [-2.4087218 -2.4087218 -2.4087218 ..., -2.4087218 -2.4087218 -2.4087218]\n",
      " ..., \n",
      " [ 2.5912782  2.5912782  2.5912782 ...,  2.5912782  2.5912782  2.5912782]\n",
      " [ 2.6112782  2.6112782  2.6112782 ...,  2.6112782  2.6112782  2.6112782]\n",
      " [ 2.6312782  2.6312782  2.6312782 ...,  2.6312782  2.6312782  2.6312782]]\n",
      "xx1.ravel()\n",
      "[-2.57496421 -2.55496421 -2.53496421 ...,  2.66503579  2.68503579\n",
      "  2.70503579]\n",
      "xx2.ravel()\n",
      "[-2.4487218 -2.4487218 -2.4487218 ...,  2.6312782  2.6312782  2.6312782]\n",
      "Z\n",
      "[[0 0 0 ..., 1 1 1]\n",
      " [0 0 0 ..., 1 1 1]\n",
      " [0 0 0 ..., 1 1 1]\n",
      " ..., \n",
      " [0 0 0 ..., 2 2 2]\n",
      " [0 0 0 ..., 2 2 2]\n",
      " [0 0 0 ..., 2 2 2]]\n"
     ]
    },
    {
     "data": {
      "image/png": "[encoded data removed]",
      "text/plain": [
       "<matplotlib.figure.Figure at 0x7f1739249a10>"
      ]
     },
     "metadata": {},
     "output_type": "display_data"
    }
   ],
   "source": [
    "from sklearn.linear_model import LogisticRegression\n",
    "# ロジスティック回帰のインスタンスを生成\n",
    "lr = LogisticRegression(C=1000.0, random_state=0)\n",
    "# トレーニング\n",
    "lr.fit(X_train_std, y_train)\n",
    "# 決定境界をプロット\n",
    "plot_decision_regions(X_combined_std, y_combined, classifier=lr, test_idx=range(105, 150),\n",
    "                      xlabel='petal length [standardized]', ylabel='petal width [standardized]')"
   ]
  },
  {
   "cell_type": "markdown",
   "metadata": {},
   "source": [
    "## サンプルの各カテゴリへの所属確率を表示"
   ]
  },
  {
   "cell_type": "code",
   "execution_count": 9,
   "metadata": {
    "collapsed": false
   },
   "outputs": [
    {
     "data": {
      "text/plain": [
       "array([[  2.05743774e-11,   6.31620264e-02,   9.36837974e-01]])"
      ]
     },
     "execution_count": 9,
     "metadata": {},
     "output_type": "execute_result"
    }
   ],
   "source": [
    "# 1つ目のサンプルで確認\n",
    "lr.predict_proba(X_test_std[0, :].reshape(1, -1))\n",
    "# Iris-Virginicaに属する確率が93.7%"
   ]
  },
  {
   "cell_type": "code",
   "execution_count": 10,
   "metadata": {
    "collapsed": false
   },
   "outputs": [
    {
     "data": {
      "text/plain": [
       "array([[ 0.70793846,  1.50872803]])"
      ]
     },
     "execution_count": 10,
     "metadata": {},
     "output_type": "execute_result"
    }
   ],
   "source": [
    "X_test_std[0, :].reshape(1,-1)"
   ]
  },
  {
   "cell_type": "markdown",
   "metadata": {},
   "source": [
    "# バイアスとバリアンス"
   ]
  },
  {
   "cell_type": "markdown",
   "metadata": {},
   "source": [
    "過学習…トレーニングデータではうまく行くがテストデータでうまく汎化されない-high variance<br>\n",
    "　　　　パラメータの数が多すぎて、データに対してモデルが複雑すぎる場合などに発生<br>\n",
    "学習不足…トレーニングデータのパターンを捕捉できておらず、テストデータでも性能が低い-high bias<br>\n",
    "　　　　　モデルの複雑さが十分ではない時に発生"
   ]
  },
  {
   "cell_type": "markdown",
   "metadata": {},
   "source": [
    "# 正則化"
   ]
  },
  {
   "cell_type": "markdown",
   "metadata": {},
   "source": [
    "共線性…特徴量の間の相関の高さ<br>\n",
    "正則化…極端なパラメータの重みにペナルティを科すための追加情報を導入する<br>\n",
    "\n",
    "L2正則化<br>\n",
    "\n",
    "$$\n",
    "\\frac{\\lambda}{2}\\|{\\bf w}\\|^2 = \\frac{\\lambda}{2}\\sum_{j=1}^mw_j^2\n",
    "$$\n",
    "\n",
    "$\\lambda$は正則化パラメータ<br>\n",
    "正則化を正常に機能させるには、すべての特徴量が比較可能な尺度になるように標準化などのスケーリングを行う必要がある<br>\n",
    "適用するにはコスト関数に正則化項を追加する\n",
    "\n",
    "$$\n",
    "J({\\bf w}) = \\sum_{i=1}^{n}[-y^{(i)}log(\\phi(x^{(i)})) - (1 - y^{(i)})log(1 - \\phi(z^{(i)}))] + \\frac{\\lambda}{2}\\|{\\bf w}\\|^2\n",
    "$$\n",
    "\n",
    "LogisticRegressionクラスのパラメータcは$\\lambda$の逆数となる\n",
    "\n",
    "$$\n",
    "C = \\frac{1}{\\lambda}\n",
    "$$\n",
    "\n",
    "ロジスティック回帰の正規化されたコストは以下のようになる\n",
    "\n",
    "$$\n",
    "J({\\bf w}) = C\\sum_{i=1}^{n}[-y^{(i)}log(\\phi(x^{(i)})) - (1 - y^{(i)})log(1 - \\phi(z^{(i)}))] + \\frac{1}{2}\\|{\\bf w}\\|^2\n",
    "$$\n",
    "\n",
    "※両辺にCをかける->Cは定数なので、CJ(w) を J(w)に置き換える\n",
    "\n",
    "Cは$\\lambda$の逆数なので、Cを減らすことは$\\lambda$を増やすことになり、正則化の強さを高める"
   ]
  },
  {
   "cell_type": "code",
   "execution_count": 11,
   "metadata": {
    "collapsed": false
   },
   "outputs": [
    {
     "data": {
      "image/png": "[encoded data removed]",
      "text/plain": [
       "<matplotlib.figure.Figure at 0x7f177731d810>"
      ]
     },
     "metadata": {},
     "output_type": "display_data"
    },
    {
     "data": {
      "text/plain": [
       "array([[-9.38725178, -8.62196104],\n",
       "       [ 2.54760621, -2.34616582],\n",
       "       [ 9.8260878 ,  6.51345035]])"
      ]
     },
     "execution_count": 11,
     "metadata": {},
     "output_type": "execute_result"
    }
   ],
   "source": [
    "# 空のリストを生成（重み係数、C）\n",
    "weights, params = [], []\n",
    "# 10個の逆正則化パラメータに対応するロジスティック回帰モデルを処理\n",
    "for c in np.arange(-5, 5):\n",
    "    lr = LogisticRegression(C=10**c, random_state=0)\n",
    "    lr.fit(X_train_std, y_train)\n",
    "    # 重み係数を格納\n",
    "    weights.append(lr.coef_[1])\n",
    "    # Cを格納\n",
    "    params.append(10**c)\n",
    "\n",
    "# 重み係数をNumpy配列に変換\n",
    "weights = np.array(weights)\n",
    "# 横軸にC, 縦軸に重み係数をプロット\n",
    "plt.plot(params, weights[:, 0], label='petal length')\n",
    "plt.plot(params, weights[:, 1], linestyle='--', label='petal width')\n",
    "plt.ylabel('weights coefficient')\n",
    "plt.xlabel('c')\n",
    "plt.legend(loc='upper left')\n",
    "# 横軸を対数スケールに設定\n",
    "plt.xscale('log')\n",
    "plt.show()\n",
    "\n",
    "# 各カテゴリ毎の判定関数の係数(3つ分)\n",
    "lr.coef_"
   ]
  }
 ],
 "metadata": {
  "kernelspec": {
   "display_name": "Python 2",
   "language": "python",
   "name": "python2"
  },
  "language_info": {
   "codemirror_mode": {
    "name": "ipython",
    "version": 2
   },
   "file_extension": ".py",
   "mimetype": "text/x-python",
   "name": "python",
   "nbconvert_exporter": "python",
   "pygments_lexer": "ipython2",
   "version": "2.7.12"
  }
 },
 "nbformat": 4,
 "nbformat_minor": 1
}
