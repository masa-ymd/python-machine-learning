{
 "cells": [
  {
   "cell_type": "markdown",
   "metadata": {},
   "source": [
    "# 1. データセットを取得"
   ]
  },
  {
   "cell_type": "code",
   "execution_count": 1,
   "metadata": {
    "collapsed": false
   },
   "outputs": [
    {
     "name": "stdout",
     "output_type": "stream",
     "text": [
      "('Class labels:', array([0, 1, 2]))\n"
     ]
    }
   ],
   "source": [
    "from sklearn import datasets\n",
    "import numpy as np\n",
    "\n",
    "# iris データセットをロード\n",
    "iris = datasets.load_iris()\n",
    "# 3,4列目の特徴量を抽出\n",
    "X = iris.data[:, [2, 3]]\n",
    "# クラスラベルを取得\n",
    "y = iris.target\n",
    "\n",
    "print (\"Class labels:\", np.unique(y))"
   ]
  },
  {
   "cell_type": "markdown",
   "metadata": {},
   "source": [
    "# 2. データセットをトレーニング用とテスト用に分割"
   ]
  },
  {
   "cell_type": "code",
   "execution_count": 2,
   "metadata": {
    "collapsed": false
   },
   "outputs": [
    {
     "name": "stderr",
     "output_type": "stream",
     "text": [
      "/usr/local/lib/python2.7/dist-packages/sklearn/cross_validation.py:44: DeprecationWarning: This module was deprecated in version 0.18 in favor of the model_selection module into which all the refactored classes and functions are moved. Also note that the interface of the new CV iterators are different from that of this module. This module will be removed in 0.20.\n",
      "  \"This module will be removed in 0.20.\", DeprecationWarning)\n"
     ]
    }
   ],
   "source": [
    "from sklearn.cross_validation import train_test_split\n",
    "# 全体の30% をテストデータに分割\n",
    "X_train, X_test, y_train, y_test = train_test_split(X, y, test_size=0.3, random_state=0)"
   ]
  },
  {
   "cell_type": "markdown",
   "metadata": {},
   "source": [
    "# 3. 特徴量を標準化する"
   ]
  },
  {
   "cell_type": "code",
   "execution_count": 3,
   "metadata": {
    "collapsed": true
   },
   "outputs": [],
   "source": [
    "from sklearn.preprocessing import StandardScaler\n",
    "sc = StandardScaler()\n",
    "# トレーニングデータの平均と標準偏差を計算\n",
    "sc.fit(X_train)\n",
    "# 計算した結果を元にデータを標準化\n",
    "X_train_std = sc.transform(X_train)\n",
    "X_test_std = sc.transform(X_test)"
   ]
  },
  {
   "cell_type": "markdown",
   "metadata": {},
   "source": [
    "# 4. パーセプトロンモデルをトレーニング"
   ]
  },
  {
   "cell_type": "code",
   "execution_count": 4,
   "metadata": {
    "collapsed": false
   },
   "outputs": [
    {
     "data": {
      "text/plain": [
       "Perceptron(alpha=0.0001, class_weight=None, eta0=0.1, fit_intercept=True,\n",
       "      n_iter=40, n_jobs=1, penalty=None, random_state=0, shuffle=True,\n",
       "      verbose=0, warm_start=False)"
      ]
     },
     "execution_count": 4,
     "metadata": {},
     "output_type": "execute_result"
    }
   ],
   "source": [
    "from sklearn.linear_model import Perceptron\n",
    "# トレーニング回数40, 学習率0.1 でインスタンス生成\n",
    "ppn = Perceptron(n_iter=40, eta0=0.1, random_state=0, shuffle=True)\n",
    "# 学習\n",
    "ppn.fit(X_train_std, y_train)"
   ]
  },
  {
   "cell_type": "markdown",
   "metadata": {},
   "source": [
    "# 5. 予測（テスト）"
   ]
  },
  {
   "cell_type": "code",
   "execution_count": 5,
   "metadata": {
    "collapsed": false
   },
   "outputs": [
    {
     "name": "stdout",
     "output_type": "stream",
     "text": [
      "Misclassified samples: 4\n",
      "Accuracy: 0.91\n"
     ]
    }
   ],
   "source": [
    "# テストデータで予測を実施\n",
    "y_pred = ppn.predict(X_test_std)\n",
    "# 誤分類のサンプルの個数を表示\n",
    "print('Misclassified samples: %d' % (y_test != y_pred).sum())\n",
    "\n",
    "from sklearn.metrics import accuracy_score\n",
    "# 正解率を表示\n",
    "print('Accuracy: %.2f' % accuracy_score(y_test, y_pred))"
   ]
  },
  {
   "cell_type": "markdown",
   "metadata": {},
   "source": [
    "# 6. 決定境界を描画"
   ]
  },
  {
   "cell_type": "code",
   "execution_count": 6,
   "metadata": {
    "collapsed": true
   },
   "outputs": [],
   "source": [
    "from matplotlib.colors import ListedColormap\n",
    "import matplotlib.pyplot as plt\n",
    "\n",
    "def plot_decision_regions(X, y, classifier, test_idx=None, resolution=0.02, xlabel='x', ylabel='y', title='title', legend_loc='upper left'):\n",
    "    \n",
    "    # マーカーとカラーマップの準備\n",
    "    markers = ('s', 'o', 'v', '^', 'x')\n",
    "    colors = ('red', 'blue', 'lightgreen', 'gray', 'cyan')\n",
    "    cmap = ListedColormap(colors[:len(np.unique(y))])\n",
    "    \n",
    "    # 決定領域のプロット\n",
    "    x1_min, x1_max = X[:, 0].min() - 1, X[:, 0].max() + 1\n",
    "    x2_min, x2_max = X[:, 1].min() - 1, X[:, 1].max() + 1\n",
    "    # グリッドポイントの生成\n",
    "    xx1, xx2 = np.meshgrid(np.arange(x1_min, x1_max, resolution),\n",
    "                           np.arange(x2_min, x2_max, resolution))\n",
    "    print 'xx1'\n",
    "    print xx1\n",
    "    print 'xx2'\n",
    "    print xx2\n",
    "    print 'xx1.ravel()'\n",
    "    print xx1.ravel()\n",
    "    print 'xx2.ravel()'\n",
    "    print xx2.ravel()\n",
    "    \n",
    "    # 各特徴量を1次元配列に変換して予測を実行\n",
    "    Z = classifier.predict(np.array([xx1.ravel(), xx2.ravel()]).T)\n",
    "    # 予測結果を元のグリッドポイントのデータサイズに変換\n",
    "    Z = Z.reshape(xx1.shape)\n",
    "    print 'Z'\n",
    "    print Z\n",
    "    # グリッドポイントの等高線のプロット\n",
    "    plt.contourf(xx1, xx2, Z, aplha=0.4, cmap=cmap)\n",
    "    # 軸の範囲の設定\n",
    "    plt.xlim(xx1.min(), xx1.max())\n",
    "    plt.ylim(xx2.min(), xx2.max())\n",
    "    \n",
    "    # クラスごとにサンプルをプロット\n",
    "    for idx, cl in enumerate(np.unique(y)):\n",
    "        plt.scatter(x=X[y == cl, 0], y=X[y == cl, 1], alpha=0.8, c=cmap(idx), marker=markers[idx], label=cl)\n",
    "        \n",
    "    # テストサンプルを目立たせる\n",
    "    if test_idx:\n",
    "        X_test, y_test = X[test_idx, :], y[test_idx]\n",
    "        plt.scatter(X_test[:, 0], X_test[:, 1], c='',\n",
    "                   alpha=1.0, linewidths=1, marker='o',\n",
    "                   s=55, label='test set')\n",
    "        \n",
    "    # 軸のラベルの設定\n",
    "    plt.xlabel(xlabel)\n",
    "    plt.ylabel(ylabel)\n",
    "    # タイトル設定\n",
    "    plt.title(title)\n",
    "    # 凡例の設定\n",
    "    plt.legend(loc=legend_loc)\n",
    "    # 図の表示\n",
    "    plt.show()"
   ]
  },
  {
   "cell_type": "code",
   "execution_count": 7,
   "metadata": {
    "collapsed": false
   },
   "outputs": [
    {
     "name": "stdout",
     "output_type": "stream",
     "text": [
      "xx1\n",
      "[[-2.57496421 -2.55496421 -2.53496421 ...,  2.66503579  2.68503579\n",
      "   2.70503579]\n",
      " [-2.57496421 -2.55496421 -2.53496421 ...,  2.66503579  2.68503579\n",
      "   2.70503579]\n",
      " [-2.57496421 -2.55496421 -2.53496421 ...,  2.66503579  2.68503579\n",
      "   2.70503579]\n",
      " ..., \n",
      " [-2.57496421 -2.55496421 -2.53496421 ...,  2.66503579  2.68503579\n",
      "   2.70503579]\n",
      " [-2.57496421 -2.55496421 -2.53496421 ...,  2.66503579  2.68503579\n",
      "   2.70503579]\n",
      " [-2.57496421 -2.55496421 -2.53496421 ...,  2.66503579  2.68503579\n",
      "   2.70503579]]\n",
      "xx2\n",
      "[[-2.4487218 -2.4487218 -2.4487218 ..., -2.4487218 -2.4487218 -2.4487218]\n",
      " [-2.4287218 -2.4287218 -2.4287218 ..., -2.4287218 -2.4287218 -2.4287218]\n",
      " [-2.4087218 -2.4087218 -2.4087218 ..., -2.4087218 -2.4087218 -2.4087218]\n",
      " ..., \n",
      " [ 2.5912782  2.5912782  2.5912782 ...,  2.5912782  2.5912782  2.5912782]\n",
      " [ 2.6112782  2.6112782  2.6112782 ...,  2.6112782  2.6112782  2.6112782]\n",
      " [ 2.6312782  2.6312782  2.6312782 ...,  2.6312782  2.6312782  2.6312782]]\n",
      "xx1.ravel()\n",
      "[-2.57496421 -2.55496421 -2.53496421 ...,  2.66503579  2.68503579\n",
      "  2.70503579]\n",
      "xx2.ravel()\n",
      "[-2.4487218 -2.4487218 -2.4487218 ...,  2.6312782  2.6312782  2.6312782]\n",
      "Z\n",
      "[[0 0 0 ..., 1 1 1]\n",
      " [0 0 0 ..., 1 1 1]\n",
      " [0 0 0 ..., 1 1 1]\n",
      " ..., \n",
      " [0 0 0 ..., 2 2 2]\n",
      " [0 0 0 ..., 2 2 2]\n",
      " [0 0 0 ..., 2 2 2]]\n"
     ]
    },
    {
     "data": {
      "image/png": "[encoded data removed]",
      "text/plain": [
       "<matplotlib.figure.Figure at 0x7f0765e97d90>"
      ]
     },
     "metadata": {},
     "output_type": "display_data"
    }
   ],
   "source": [
    "# トレーニングデータとテストデータを行方向に結合\n",
    "X_combined_std = np.vstack((X_train_std, X_test_std))\n",
    "# 同様にクラスラベルも結合\n",
    "y_combined = np.hstack((y_train, y_test))\n",
    "# 決定領域をプロット\n",
    "plot_decision_regions(X=X_combined_std, y=y_combined, classifier=ppn,\n",
    "                      test_idx=range(105, 150), xlabel='petal length [standardized]', ylabel='petal width [standardized]',\n",
    "                      title='ppn')"
   ]
  }
 ],
 "metadata": {
  "kernelspec": {
   "display_name": "Python 2",
   "language": "python",
   "name": "python2"
  },
  "language_info": {
   "codemirror_mode": {
    "name": "ipython",
    "version": 2
   },
   "file_extension": ".py",
   "mimetype": "text/x-python",
   "name": "python",
   "nbconvert_exporter": "python",
   "pygments_lexer": "ipython2",
   "version": "2.7.12"
  }
 },
 "nbformat": 4,
 "nbformat_minor": 1
}
