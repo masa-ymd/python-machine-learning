{
 "cells": [
  {
   "cell_type": "markdown",
   "metadata": {},
   "source": [
    "### Theano"
   ]
  },
  {
   "cell_type": "markdown",
   "metadata": {},
   "source": [
    "多次元配列（テンソル）を用いた数式の実装、コンパイル、評価を効率よく行うための機能"
   ]
  },
  {
   "cell_type": "code",
   "execution_count": 1,
   "metadata": {
    "collapsed": false
   },
   "outputs": [
    {
     "name": "stdout",
     "output_type": "stream",
     "text": [
      "Net input: 2.50\n"
     ]
    }
   ],
   "source": [
    "# 単純な利用例\n",
    "import theano\n",
    "from theano import tensor as T\n",
    "\n",
    "# 初期化：scalarメソッドで、スカラ＝単純な配列を生成\n",
    "x1 = T.scalar()\n",
    "w1 = T.scalar()\n",
    "w0 = T.scalar()\n",
    "# 1. 数式を定義\n",
    "z1 = w0 + w1 * x1\n",
    "\n",
    "# 2. 数式をコンパイル\n",
    "net_input = theano.function(inputs=[w1, x1, w0], outputs=z1)\n",
    "\n",
    "# 3. 実行\n",
    "print('Net input: %.2f' % net_input(2.0, 1.0, 0.5))"
   ]
  },
  {
   "cell_type": "code",
   "execution_count": 2,
   "metadata": {
    "collapsed": false
   },
   "outputs": [
    {
     "name": "stdout",
     "output_type": "stream",
     "text": [
      "float64\n",
      "cpu\n"
     ]
    }
   ],
   "source": [
    "# Theanoの設定変更の方法\n",
    "print(theano.config.floatX)\n",
    "print(theano.config.device)"
   ]
  },
  {
   "cell_type": "code",
   "execution_count": 3,
   "metadata": {
    "collapsed": true
   },
   "outputs": [],
   "source": [
    "theano.config.floatX = 'float32'"
   ]
  },
  {
   "cell_type": "code",
   "execution_count": 4,
   "metadata": {
    "collapsed": false
   },
   "outputs": [
    {
     "name": "stdout",
     "output_type": "stream",
     "text": [
      "float32\n"
     ]
    }
   ],
   "source": [
    "print(theano.config.floatX)"
   ]
  },
  {
   "cell_type": "code",
   "execution_count": 5,
   "metadata": {
    "collapsed": false
   },
   "outputs": [
    {
     "name": "stdout",
     "output_type": "stream",
     "text": [
      "Column sum: [ 2.  4.  6.]\n",
      "Column sum: [ 2.  4.  6.]\n"
     ]
    }
   ],
   "source": [
    "# 配列構造の操作\n",
    "import numpy as np\n",
    "\n",
    "# 初期化\n",
    "x = T.fmatrix(name='x')\n",
    "x_sum = T.sum(x, axis=0)\n",
    "\n",
    "# コンパイル\n",
    "cals_sum = theano.function(inputs=[x], outputs=x_sum)\n",
    "\n",
    "# 実行(Pythonリスト、Numpy配列の両方で操作可能)\n",
    "ary = [[1,2,3], [1,2,3]]\n",
    "print('Column sum: %s' % cals_sum(ary))\n",
    "\n",
    "ary = np.array([[1,2,3], [1,2,3]], dtype=theano.config.floatX)\n",
    "print('Column sum: %s' % cals_sum(ary))"
   ]
  },
  {
   "cell_type": "code",
   "execution_count": 6,
   "metadata": {
    "collapsed": false
   },
   "outputs": [
    {
     "name": "stdout",
     "output_type": "stream",
     "text": [
      "('z0:', array([[ 0.]], dtype=float32))\n",
      "('z1:', array([[ 6.]], dtype=float32))\n",
      "('z2:', array([[ 12.]], dtype=float32))\n",
      "('z3:', array([[ 18.]], dtype=float32))\n",
      "('z4:', array([[ 24.]], dtype=float32))\n"
     ]
    }
   ],
   "source": [
    "# 共有変数の設定と操作\n",
    "# 初期化\n",
    "x = T.fmatrix('x')\n",
    "w = theano.shared(np.array([[0.0, 0.0, 0.0]], dtype=theano.config.floatX)) # 共有要素\n",
    "z = x.dot(w.T)\n",
    "update = [[w, w + 1.0]] # forループを繰り返すたびに各要素に1を加算\n",
    "\n",
    "# コンパイル\n",
    "net_input = theano.function(inputs=[x], updates=update, outputs=z)\n",
    "\n",
    "# 実行\n",
    "data = np.array([[1, 2, 3]], dtype=theano.config.floatX)\n",
    "for i in range(5):\n",
    "    print('z%d:' % i, net_input(data))"
   ]
  },
  {
   "cell_type": "code",
   "execution_count": 7,
   "metadata": {
    "collapsed": false
   },
   "outputs": [
    {
     "name": "stdout",
     "output_type": "stream",
     "text": [
      "('z0:', array([[ 0.]], dtype=float32))\n",
      "('z1:', array([[ 6.]], dtype=float32))\n",
      "('z2:', array([[ 12.]], dtype=float32))\n",
      "('z3:', array([[ 18.]], dtype=float32))\n",
      "('z4:', array([[ 24.]], dtype=float32))\n"
     ]
    }
   ],
   "source": [
    "# givens引数を利用し、共有変数を使う処理を高速化\n",
    "# 初期化\n",
    "data = np.array([[1, 2, 3]], dtype=theano.config.floatX)\n",
    "x = T.fmatrix('x')\n",
    "w = theano.shared(np.array([[0.0, 0.0, 0.0]], dtype=theano.config.floatX))\n",
    "z = x.dot(w.T)\n",
    "update = [[w, w + 1.0]]\n",
    "\n",
    "# コンパイル\n",
    "net_input = theano.function(inputs=[], updates=update, givens={x: data}, outputs=z)\n",
    "\n",
    "# 実行\n",
    "for i in range(5):\n",
    "    print('z%d:' % i, net_input())"
   ]
  },
  {
   "cell_type": "code",
   "execution_count": 8,
   "metadata": {
    "collapsed": false
   },
   "outputs": [],
   "source": [
    "# 最小２乗法線形回帰\n",
    "# トレーニングデータセット\n",
    "X_train = np.array([[0.0], [1.0],\n",
    "                    [2.0], [3.0],\n",
    "                    [4.0], [5.0],\n",
    "                    [6.0], [7.0],\n",
    "                    [8.0], [9.0]],\n",
    "                    dtype=theano.config.floatX)\n",
    "y_train = np.array([1.0, 1.3,\n",
    "                    3.1, 2.0,\n",
    "                    5.0, 6.3,\n",
    "                    6.6, 7.4,\n",
    "                    8.0, 9.0],\n",
    "                    dtype=theano.config.floatX)"
   ]
  },
  {
   "cell_type": "code",
   "execution_count": 9,
   "metadata": {
    "collapsed": true
   },
   "outputs": [],
   "source": [
    "# トレーニング関数の実装\n",
    "import theano\n",
    "from theano import tensor as T\n",
    "import numpy as np\n",
    "\n",
    "def train_linreg(X_train, y_train, eta, epochs):\n",
    "    \n",
    "    costs = []\n",
    "    # theano用の配列の初期化\n",
    "    eta0 = T.fscalar('eta0') # float32型のスカラのインスタンス\n",
    "    y = T.fvector(name='y')  # float32型のベクトルのインスタンス\n",
    "    X = T.fmatrix(name='X')  # float32型の行列のインスタンス\n",
    "    # 重みwを共有変数として作成\n",
    "    w = theano.shared(np.zeros(shape=(X_train.shape[1] + 1),\n",
    "                               dtype=theano.config.floatX),\n",
    "                      name='w')\n",
    "    \n",
    "    # コストの計算\n",
    "    net_input = T.dot(X, w[1:]) + w[0]  # 重みを用いて総入力を計算（w0はバイアスユニット用）\n",
    "    errors = y - net_input              # yと総入力の誤差\n",
    "    cost = T.sum(T.pow(errors, 2))      # 誤差の２乗和\n",
    "    \n",
    "    # 重みの更新\n",
    "    gradient = T.grad(cost, wrt=w)      # gradはcostをwrtで渡されたwについて微分する\n",
    "    update = [(w, w - eta0 * gradient)] # 学習率を掛けて重みを更新\n",
    "    \n",
    "    # モデルをコンパイル\n",
    "    train = theano.function(inputs=[eta0], outputs=cost, updates=update, givens={X: X_train, y: y_train})\n",
    "    \n",
    "    for _ in range(epochs):\n",
    "        costs.append(train(eta))\n",
    "        \n",
    "    return costs, w"
   ]
  },
  {
   "cell_type": "code",
   "execution_count": 10,
   "metadata": {
    "collapsed": false
   },
   "outputs": [
    {
     "data": {
      "image/png": "[encoded data removed]",
      "text/plain": [
       "<matplotlib.figure.Figure at 0x7f84fcd92390>"
      ]
     },
     "metadata": {},
     "output_type": "display_data"
    }
   ],
   "source": [
    "# 学習結果を可視化\n",
    "import matplotlib.pyplot as plt\n",
    "costs, w = train_linreg(X_train, y_train, eta=0.001, epochs=10)\n",
    "plt.plot(range(1, len(costs) + 1), costs)\n",
    "plt.xlabel('Epoch')\n",
    "plt.ylabel('Cost')\n",
    "plt.tight_layout()\n",
    "plt.show()"
   ]
  },
  {
   "cell_type": "code",
   "execution_count": 11,
   "metadata": {
    "collapsed": true
   },
   "outputs": [],
   "source": [
    "# 予測用の関数\n",
    "def predict_linreg(X, w):\n",
    "    # 初期化\n",
    "    Xt = T.matrix(name='X')\n",
    "    # 定義\n",
    "    net_input = T.dot(Xt, w[1:]) + w[0]\n",
    "    # コンパイル\n",
    "    predict = theano.function(inputs=[Xt], givens={w: w}, outputs=net_input)\n",
    "    # 実行\n",
    "    return predict(X)"
   ]
  },
  {
   "cell_type": "code",
   "execution_count": 12,
   "metadata": {
    "collapsed": false
   },
   "outputs": [
    {
     "data": {
      "image/png": "[encoded data removed]",
      "text/plain": [
       "<matplotlib.figure.Figure at 0x7f84f805f610>"
      ]
     },
     "metadata": {},
     "output_type": "display_data"
    }
   ],
   "source": [
    "# 予測の可視化\n",
    "plt.scatter(X_train, y_train, marker='s', s=50)\n",
    "plt.plot(range(X_train.shape[0]), predict_linreg(X_train, w), color='gray', marker='o', markersize=4, linewidth=3)\n",
    "plt.xlabel('x')\n",
    "plt.ylabel('y')\n",
    "plt.show()"
   ]
  },
  {
   "cell_type": "markdown",
   "metadata": {
    "collapsed": true
   },
   "source": [
    "#### フィードフォワードニューラルネットワークでの活性化関数の選択"
   ]
  },
  {
   "cell_type": "markdown",
   "metadata": {},
   "source": [
    "ロジスティック関数はニューロンの概念をある程度表現しており、その出力はニューロンが発火するかどうかの確率として考えることができる<br>\n",
    "が、入力に負の度合いが多く、関数の出力が0に近い場合、微分係数が小さい→進み幅が少ないので、学習に非常に時間がかかり、\n",
    "かつ、局所的な最小値にはまりやすいという欠点がある<br>\n",
    "そのため、隠れ層の活性化関数には双曲線正接（tanh）関数が使われることがある"
   ]
  },
  {
   "cell_type": "markdown",
   "metadata": {},
   "source": [
    "#### 活性化関数1 ロジスティック関数"
   ]
  },
  {
   "cell_type": "code",
   "execution_count": 13,
   "metadata": {
    "collapsed": false
   },
   "outputs": [
    {
     "name": "stdout",
     "output_type": "stream",
     "text": [
      "P=(y=1|x) = 0.707\n"
     ]
    }
   ],
   "source": [
    "# ロジスティック関数の復習\n",
    "X = np.array([[1, 1.4, 1.5]])\n",
    "w = np.array([0.0, 0.2, 0.4])\n",
    "\n",
    "def net_input(X, w):\n",
    "    return X.dot(w)\n",
    "\n",
    "def logistic(z):\n",
    "    return 1.0 / (1.0 + np.exp(-z))\n",
    "\n",
    "def logistic_activation(X, w):\n",
    "    return logistic(net_input(X, w))\n",
    "\n",
    "# このサンプルが陽性クラスに属する確率は0.707\n",
    "print('P=(y=1|x) = %.3f' % logistic_activation(X, w))"
   ]
  },
  {
   "cell_type": "code",
   "execution_count": 14,
   "metadata": {
    "collapsed": false
   },
   "outputs": [
    {
     "name": "stdout",
     "output_type": "stream",
     "text": [
      "Probabilities:\n",
      " [[ 0.87653295]\n",
      " [ 0.57688526]\n",
      " [ 0.90114393]]\n",
      "\n",
      "Predicted class label: Subtensor{int64}.0\n"
     ]
    }
   ],
   "source": [
    "# ロジスティック活性化ユニットが複数の場合、合計が100%になるわけではないので関数のアウトプットがわかりづらい\n",
    "W = np.array([[1.1, 1.2, 1.3, 0.5],\n",
    "              [0.1, 0.2, 0.4, 0.1],\n",
    "              [0.2, 0.5, 2.1, 1.9]])\n",
    "\n",
    "A = np.array([[1.0],\n",
    "              [0.1],\n",
    "              [0.3],\n",
    "              [0.7]])\n",
    "\n",
    "Z = W.dot(A)\n",
    "y_probas = logistic(Z)\n",
    "print('Probabilities:\\n %s\\n' % y_probas)\n",
    "\n",
    "# 確率の最も高いものを返す　という予測のみのアウトプットであればそこまでわかりづらくはない\n",
    "y_class = np.argmax(z, axis=0)\n",
    "print('Predicted class label: %s' % y_class[0])"
   ]
  },
  {
   "cell_type": "markdown",
   "metadata": {},
   "source": [
    "#### 活性化関数2 ソフトマックス関数"
   ]
  },
  {
   "cell_type": "markdown",
   "metadata": {},
   "source": [
    "ロジスティック回帰の一般化であり、多クラス分類問題において、各クラスへの所属確率を計算できる<br>\n",
    "この関数では以下の通り、zのときiに所属する出力値を、全ての出力値の和で割って、正規化している<br>\n",
    "$$\n",
    "P(y=i|z) = \\phi_{softmax}(z) = \\frac{e^{z}_{i}}{\\sum^M_{m=1}e^z_m}\n",
    "$$\n",
    "\n",
    "予測するクラスラベルはロジスティック関数と同じになるので、正規化されたロジスティック関数と考えると良いかもしれない"
   ]
  },
  {
   "cell_type": "code",
   "execution_count": 15,
   "metadata": {
    "collapsed": false
   },
   "outputs": [
    {
     "name": "stdout",
     "output_type": "stream",
     "text": [
      "Probabilities: \n",
      " [[ 0.40386493]\n",
      " [ 0.07756222]\n",
      " [ 0.51857284]]\n"
     ]
    },
    {
     "data": {
      "text/plain": [
       "1.0"
      ]
     },
     "execution_count": 15,
     "metadata": {},
     "output_type": "execute_result"
    }
   ],
   "source": [
    "def softmax(z):\n",
    "    return np.exp(z) / np.sum(np.exp(z))\n",
    "\n",
    "def softmax_activation(X, w):\n",
    "    return softmax(net_input(X, w))\n",
    "\n",
    "y_probas = softmax(Z)\n",
    "print('Probabilities: \\n %s' % y_probas)\n",
    "# 出力される確率の合計は1\n",
    "y_probas.sum()"
   ]
  },
  {
   "cell_type": "code",
   "execution_count": 16,
   "metadata": {
    "collapsed": false,
    "scrolled": true
   },
   "outputs": [
    {
     "name": "stdout",
     "output_type": "stream",
     "text": [
      "Predicted class label: 2\n"
     ]
    }
   ],
   "source": [
    "y_class = np.argmax(Z, axis=0)\n",
    "print('Predicted class label: %d' % y_class[0])"
   ]
  },
  {
   "cell_type": "markdown",
   "metadata": {},
   "source": [
    "#### 活性化関数3 双曲線正接関数"
   ]
  },
  {
   "cell_type": "markdown",
   "metadata": {},
   "source": [
    "双曲線正接関数はロジスティック関数の尺度をとりなおしたバージョンとして解釈できる<br>\n",
    "最大値を2倍に、最小値を0から-1に引き下げ（範囲-1〜1に）、インプットの単位当たりの関数出力も2倍に（収束が早まる）\n",
    "$$\n",
    "\\phi_{tahh}(z) = 2 \\times \\frac{1}{1 + e^{-(2 \\times z)}} - 1 = \\frac{e^z - e^{-z}}{e^z + e^{-z}}\n",
    "$$\n",
    "利点としてはロジスティック関数より出力範囲が広く（-1〜1）、収束の速度を早めることができるという点がある"
   ]
  },
  {
   "cell_type": "code",
   "execution_count": 17,
   "metadata": {
    "collapsed": false
   },
   "outputs": [
    {
     "data": {
      "image/png": "[encoded data removed]",
      "text/plain": [
       "<matplotlib.figure.Figure at 0x7f84f55dbb90>"
      ]
     },
     "metadata": {},
     "output_type": "display_data"
    }
   ],
   "source": [
    "# 双曲線正接とロジスティックをプロットして比較\n",
    "import matplotlib.pyplot as plt\n",
    "\n",
    "def tanh(z):\n",
    "    e_p = np.exp(z)\n",
    "    e_m = np.exp(-z)\n",
    "    return (e_p - e_m) / (e_p + e_m)\n",
    "\n",
    "z = np.arange(-5, 5, 0.005)\n",
    "log_act = logistic(z)\n",
    "tanh_act = tanh(z)\n",
    "\n",
    "plt.ylim([-1.5, 1.5])\n",
    "plt.xlabel('net input $z$')\n",
    "plt.ylabel('activation $\\phi(z)$')\n",
    "plt.axhline(1, color='black', linestyle='--')\n",
    "plt.axhline(0.5, color='black', linestyle='--')\n",
    "plt.axhline(0, color='black', linestyle='--')\n",
    "plt.axhline(-1, color='black', linestyle='--')\n",
    "\n",
    "plt.plot(z, tanh_act, \n",
    "         linewidth=2, \n",
    "         color='black', \n",
    "         label='tanh')\n",
    "plt.plot(z, log_act, \n",
    "         linewidth=2, \n",
    "         color='lightgreen', \n",
    "         label='logistic')\n",
    "\n",
    "plt.legend(loc='lower right')\n",
    "plt.tight_layout()\n",
    "plt.show()\n"
   ]
  },
  {
   "cell_type": "code",
   "execution_count": 18,
   "metadata": {
    "collapsed": true
   },
   "outputs": [],
   "source": [
    "# numpy にtanh関数がある\n",
    "tanh_act = np.tanh(z)\n",
    "# scipyにロジスティック関数がある\n",
    "from scipy.special import expit\n",
    "log_act = expit(z)"
   ]
  },
  {
   "cell_type": "markdown",
   "metadata": {
    "collapsed": true
   },
   "source": [
    "#### keras"
   ]
  },
  {
   "cell_type": "code",
   "execution_count": 19,
   "metadata": {
    "collapsed": true
   },
   "outputs": [],
   "source": [
    "# データ読み込み\n",
    "import os\n",
    "import struct\n",
    "import numpy as np\n",
    "\n",
    "def load_mnist(path, kind='train'):\n",
    "    \"\"\"MNISTデータをpathからロードする\"\"\"\n",
    "    # 引数に渡したパスとファイル名を結合し、フルパスを生成\n",
    "    labels_path = os.path.join(path, '%s-labels-idx1-ubyte' % kind)\n",
    "    images_path = os.path.join(path, '%s-images-idx3-ubyte' % kind)\n",
    "    \n",
    "    # ラベルファイル読み込み\n",
    "    # openにファイルパスとバイナリ読み込みモード指定\n",
    "    with open(labels_path, 'rb') as lbpath:\n",
    "        # unpackでバイナリを文字列に変換 先頭8バイトはマジックナンバーとアイテムの個数\n",
    "        magic, n = struct.unpack('>II', lbpath.read(8))\n",
    "        # fromfileで配列のデータ形式を指定して配列を作成\n",
    "        labels = np.fromfile(lbpath, dtype=np.uint8)\n",
    "        \n",
    "    # 画像ファイル読み込み\n",
    "    # 構造：サンプル数 ×　グレースケールの輝度（28×28=784次元）\n",
    "    with open(images_path, 'rb') as imgpath:\n",
    "        magic, num, rows, cols = struct.unpack('>IIII', imgpath.read(16))\n",
    "        images = np.fromfile(imgpath, dtype=np.uint8).reshape(len(labels), 784)\n",
    "        \n",
    "    return images, labels"
   ]
  },
  {
   "cell_type": "code",
   "execution_count": 20,
   "metadata": {
    "collapsed": false
   },
   "outputs": [
    {
     "name": "stdout",
     "output_type": "stream",
     "text": [
      "Rows: 60000, columns: 784\n",
      "Rows: 10000, columns: 784\n"
     ]
    }
   ],
   "source": [
    "# データ読み込み\n",
    "X_train, y_train = load_mnist('mnist')\n",
    "print('Rows: %d, columns: %d' % (X_train.shape[0], X_train.shape[1]))\n",
    "\n",
    "X_test, y_test = load_mnist('mnist', kind='t10k')\n",
    "print('Rows: %d, columns: %d' % (X_test.shape[0], X_test.shape[1]))"
   ]
  },
  {
   "cell_type": "code",
   "execution_count": 21,
   "metadata": {
    "collapsed": true
   },
   "outputs": [],
   "source": [
    "# データを32ビット形式に変換\n",
    "import theano\n",
    "theano.config.floatX = 'float32'\n",
    "X_train = X_train.astype(theano.config.floatX)\n",
    "X_test = X_test.astype(theano.config.floatX)"
   ]
  },
  {
   "cell_type": "code",
   "execution_count": 22,
   "metadata": {
    "collapsed": false
   },
   "outputs": [
    {
     "name": "stderr",
     "output_type": "stream",
     "text": [
      "Using TensorFlow backend.\n"
     ]
    },
    {
     "name": "stdout",
     "output_type": "stream",
     "text": [
      "First 3 labels: [5 0 4]\n",
      "First 3 labels: [[ 0.  0.  0.  0.  0.  1.  0.  0.  0.  0.]\n",
      " [ 1.  0.  0.  0.  0.  0.  0.  0.  0.  0.]\n",
      " [ 0.  0.  0.  0.  1.  0.  0.  0.  0.  0.]]\n"
     ]
    }
   ],
   "source": [
    "# one-hotフォーマットに変換\n",
    "from keras.utils import np_utils\n",
    "print('First 3 labels: %s' % y_train[:3])\n",
    "y_train_ohe = np_utils.to_categorical(y_train)\n",
    "print('First 3 labels: %s' % y_train_ohe[:3])"
   ]
  },
  {
   "cell_type": "code",
   "execution_count": 23,
   "metadata": {
    "collapsed": false
   },
   "outputs": [],
   "source": [
    "# モデルを作成\n",
    "from keras.models import Sequential\n",
    "from keras.layers.core import Dense\n",
    "from keras.optimizers import SGD     # 確率的勾配降下法\n",
    "\n",
    "np.random.seed(1)\n",
    "\n",
    "model = Sequential()                             # モデルを初期化\n",
    "\n",
    "# 1つ目の隠れ層を追加\n",
    "model.add(Dense(input_dim=X_train.shape[1],      # 入力ユニット数（特徴量の次元数）\n",
    "                units=50,                        # 出力ユニット数\n",
    "                kernel_initializer='uniform',    # 重みの初期化（一様乱数）\n",
    "                activation='tanh'))              # 活性化関数を双曲線正接関数に指定\n",
    "\n",
    "# 2つ目の隠れ層を追加\n",
    "model.add(Dense(input_dim=50,                    # 入力ユニット数（1つ前の出力ユニット数に合わせる）\n",
    "                units=50,                        # 出力ユニット数\n",
    "                kernel_initializer='uniform',    # 重みの初期化（一様乱数）\n",
    "                activation='tanh'))              # 活性化関数を双曲線正接関数に指定\n",
    "\n",
    "# 出力層を追加\n",
    "model.add(Dense(input_dim=50,                    # 入力ユニット数（つ前の出力ユニット数に合わせる）\n",
    "                units=y_train_ohe.shape[1],      # 出力ユニット数 (クラスラベル数に合わせる)\n",
    "                kernel_initializer='uniform',    # 重みの初期化（一様乱数）\n",
    "                activation='softmax'))           # 活性化関数を双曲線正接関数に指定\n",
    "\n",
    "# モデルコンパイル時に指定するオプティマイザを指定\n",
    "# 引数に、学習率、学習率の減衰率、モーメンタム学習の定数を設定\n",
    "sgd = SGD(lr=0.001, decay=1e-7, momentum=0.9)\n",
    "\n",
    "# モデルをコンパイル\n",
    "model.compile(loss='categorical_crossentropy', # コスト関数 カテゴリ交差エントロピー\n",
    "              optimizer='sgd',                 # オプティマイザ\n",
    "              metrics=['accuracy'])            # モデルの評価指標"
   ]
  },
  {
   "cell_type": "code",
   "execution_count": 24,
   "metadata": {
    "collapsed": false
   },
   "outputs": [
    {
     "name": "stdout",
     "output_type": "stream",
     "text": [
      "Train on 54000 samples, validate on 6000 samples\n",
      "Epoch 1/50\n",
      "54000/54000 [==============================] - 1s - loss: 2.2040 - acc: 0.4486 - val_loss: 2.0440 - val_acc: 0.6277\n",
      "Epoch 2/50\n",
      "54000/54000 [==============================] - 1s - loss: 1.7640 - acc: 0.6238 - val_loss: 1.4397 - val_acc: 0.6580\n",
      "Epoch 3/50\n",
      "54000/54000 [==============================] - 1s - loss: 1.2500 - acc: 0.6708 - val_loss: 1.0366 - val_acc: 0.7450\n",
      "Epoch 4/50\n",
      "54000/54000 [==============================] - 1s - loss: 0.9503 - acc: 0.7599 - val_loss: 0.7957 - val_acc: 0.8143\n",
      "Epoch 5/50\n",
      "54000/54000 [==============================] - 1s - loss: 0.7573 - acc: 0.8196 - val_loss: 0.6376 - val_acc: 0.8625\n",
      "Epoch 6/50\n",
      "54000/54000 [==============================] - 1s - loss: 0.6331 - acc: 0.8521 - val_loss: 0.5418 - val_acc: 0.8828\n",
      "Epoch 7/50\n",
      "54000/54000 [==============================] - 1s - loss: 0.5481 - acc: 0.8699 - val_loss: 0.4642 - val_acc: 0.9007\n",
      "Epoch 8/50\n",
      "54000/54000 [==============================] - 1s - loss: 0.4890 - acc: 0.8819 - val_loss: 0.4193 - val_acc: 0.9045\n",
      "Epoch 9/50\n",
      "54000/54000 [==============================] - 1s - loss: 0.4504 - acc: 0.8870 - val_loss: 0.3790 - val_acc: 0.9113\n",
      "Epoch 10/50\n",
      "54000/54000 [==============================] - 1s - loss: 0.4218 - acc: 0.8927 - val_loss: 0.3599 - val_acc: 0.9127\n",
      "Epoch 11/50\n",
      "54000/54000 [==============================] - 1s - loss: 0.3959 - acc: 0.8966 - val_loss: 0.3435 - val_acc: 0.9103\n",
      "Epoch 12/50\n",
      "54000/54000 [==============================] - 1s - loss: 0.3825 - acc: 0.8991 - val_loss: 0.3291 - val_acc: 0.9145\n",
      "Epoch 13/50\n",
      "54000/54000 [==============================] - 1s - loss: 0.3632 - acc: 0.9023 - val_loss: 0.3065 - val_acc: 0.9192\n",
      "Epoch 14/50\n",
      "54000/54000 [==============================] - 1s - loss: 0.3407 - acc: 0.9086 - val_loss: 0.2940 - val_acc: 0.9222\n",
      "Epoch 15/50\n",
      "54000/54000 [==============================] - 1s - loss: 0.3356 - acc: 0.9083 - val_loss: 0.2885 - val_acc: 0.9248\n",
      "Epoch 16/50\n",
      "54000/54000 [==============================] - 1s - loss: 0.3281 - acc: 0.9096 - val_loss: 0.2857 - val_acc: 0.9258\n",
      "Epoch 17/50\n",
      "54000/54000 [==============================] - 1s - loss: 0.3192 - acc: 0.9120 - val_loss: 0.2743 - val_acc: 0.9287\n",
      "Epoch 18/50\n",
      "54000/54000 [==============================] - 1s - loss: 0.3151 - acc: 0.9119 - val_loss: 0.2610 - val_acc: 0.9325\n",
      "Epoch 19/50\n",
      "54000/54000 [==============================] - 1s - loss: 0.3003 - acc: 0.9173 - val_loss: 0.2604 - val_acc: 0.9308\n",
      "Epoch 20/50\n",
      "54000/54000 [==============================] - 1s - loss: 0.2968 - acc: 0.9180 - val_loss: 0.2613 - val_acc: 0.9293\n",
      "Epoch 21/50\n",
      "54000/54000 [==============================] - 1s - loss: 0.2926 - acc: 0.9185 - val_loss: 0.2448 - val_acc: 0.9355\n",
      "Epoch 22/50\n",
      "54000/54000 [==============================] - 1s - loss: 0.2807 - acc: 0.9218 - val_loss: 0.2456 - val_acc: 0.9353\n",
      "Epoch 23/50\n",
      "54000/54000 [==============================] - 1s - loss: 0.2748 - acc: 0.9226 - val_loss: 0.2295 - val_acc: 0.9392\n",
      "Epoch 24/50\n",
      "54000/54000 [==============================] - 1s - loss: 0.2724 - acc: 0.9235 - val_loss: 0.2335 - val_acc: 0.9352\n",
      "Epoch 25/50\n",
      "54000/54000 [==============================] - 1s - loss: 0.2701 - acc: 0.9233 - val_loss: 0.2328 - val_acc: 0.9370\n",
      "Epoch 26/50\n",
      "54000/54000 [==============================] - 1s - loss: 0.2662 - acc: 0.9251 - val_loss: 0.2296 - val_acc: 0.9353\n",
      "Epoch 27/50\n",
      "54000/54000 [==============================] - 1s - loss: 0.2628 - acc: 0.9250 - val_loss: 0.2211 - val_acc: 0.9378\n",
      "Epoch 28/50\n",
      "54000/54000 [==============================] - 1s - loss: 0.2565 - acc: 0.9269 - val_loss: 0.2202 - val_acc: 0.9382\n",
      "Epoch 29/50\n",
      "54000/54000 [==============================] - 1s - loss: 0.2531 - acc: 0.9279 - val_loss: 0.2141 - val_acc: 0.9397\n",
      "Epoch 30/50\n",
      "54000/54000 [==============================] - 1s - loss: 0.2507 - acc: 0.9281 - val_loss: 0.2137 - val_acc: 0.9412\n",
      "Epoch 31/50\n",
      "54000/54000 [==============================] - 1s - loss: 0.2469 - acc: 0.9293 - val_loss: 0.2048 - val_acc: 0.9423\n",
      "Epoch 32/50\n",
      "54000/54000 [==============================] - 1s - loss: 0.2399 - acc: 0.9314 - val_loss: 0.2098 - val_acc: 0.9428\n",
      "Epoch 33/50\n",
      "54000/54000 [==============================] - 1s - loss: 0.2368 - acc: 0.9320 - val_loss: 0.2034 - val_acc: 0.9432\n",
      "Epoch 34/50\n",
      "54000/54000 [==============================] - 1s - loss: 0.2379 - acc: 0.9315 - val_loss: 0.2172 - val_acc: 0.9418\n",
      "Epoch 35/50\n",
      "54000/54000 [==============================] - 1s - loss: 0.2332 - acc: 0.9321 - val_loss: 0.2126 - val_acc: 0.9407\n",
      "Epoch 36/50\n",
      "54000/54000 [==============================] - 1s - loss: 0.2277 - acc: 0.9333 - val_loss: 0.1993 - val_acc: 0.9442\n",
      "Epoch 37/50\n",
      "54000/54000 [==============================] - 1s - loss: 0.2245 - acc: 0.9354 - val_loss: 0.1987 - val_acc: 0.9438\n",
      "Epoch 38/50\n",
      "54000/54000 [==============================] - 1s - loss: 0.2261 - acc: 0.9335 - val_loss: 0.1937 - val_acc: 0.9447\n",
      "Epoch 39/50\n",
      "54000/54000 [==============================] - 1s - loss: 0.2186 - acc: 0.9368 - val_loss: 0.1951 - val_acc: 0.9443\n",
      "Epoch 40/50\n",
      "54000/54000 [==============================] - 1s - loss: 0.2177 - acc: 0.9377 - val_loss: 0.1900 - val_acc: 0.9445\n",
      "Epoch 41/50\n",
      "54000/54000 [==============================] - 1s - loss: 0.2149 - acc: 0.9376 - val_loss: 0.1891 - val_acc: 0.9488\n",
      "Epoch 42/50\n",
      "54000/54000 [==============================] - 1s - loss: 0.2179 - acc: 0.9359 - val_loss: 0.1932 - val_acc: 0.9460\n",
      "Epoch 43/50\n",
      "54000/54000 [==============================] - 1s - loss: 0.2139 - acc: 0.9381 - val_loss: 0.1922 - val_acc: 0.9470\n",
      "Epoch 44/50\n",
      "54000/54000 [==============================] - 1s - loss: 0.2146 - acc: 0.9378 - val_loss: 0.1947 - val_acc: 0.9438\n",
      "Epoch 45/50\n",
      "54000/54000 [==============================] - 1s - loss: 0.2115 - acc: 0.9390 - val_loss: 0.1790 - val_acc: 0.9463\n",
      "Epoch 46/50\n",
      "54000/54000 [==============================] - 1s - loss: 0.2105 - acc: 0.9381 - val_loss: 0.1885 - val_acc: 0.9483\n",
      "Epoch 47/50\n",
      "54000/54000 [==============================] - 1s - loss: 0.2113 - acc: 0.9384 - val_loss: 0.1937 - val_acc: 0.9410\n",
      "Epoch 48/50\n",
      "54000/54000 [==============================] - 1s - loss: 0.2108 - acc: 0.9374 - val_loss: 0.1842 - val_acc: 0.9478\n",
      "Epoch 49/50\n",
      "54000/54000 [==============================] - 1s - loss: 0.1992 - acc: 0.9421 - val_loss: 0.1810 - val_acc: 0.9495\n",
      "Epoch 50/50\n",
      "54000/54000 [==============================] - 1s - loss: 0.1997 - acc: 0.9410 - val_loss: 0.1857 - val_acc: 0.9467\n"
     ]
    },
    {
     "data": {
      "text/plain": [
       "<keras.callbacks.History at 0x7fb9ed580e90>"
      ]
     },
     "execution_count": 24,
     "metadata": {},
     "output_type": "execute_result"
    }
   ],
   "source": [
    "# fit\n",
    "model.fit(X_train,               # トレーニングデータ\n",
    "          y_train_ohe,           # 出力データ\n",
    "          epochs=50,             # トレーニング回数\n",
    "          batch_size=300,        # 更新を行うミニバッチサイズ\n",
    "          verbose=1,             # 実行状況を表示\n",
    "          validation_split=0.1)  # 過学習の検証用にデータを保持、学習後にチェック"
   ]
  },
  {
   "cell_type": "code",
   "execution_count": 25,
   "metadata": {
    "collapsed": false
   },
   "outputs": [
    {
     "name": "stdout",
     "output_type": "stream",
     "text": [
      "First 3 predictions: [5 0 4]\n"
     ]
    }
   ],
   "source": [
    "# 予測カテゴリを取得\n",
    "y_train_pred = model.predict_classes(X_train, verbose=0)\n",
    "print('First 3 predictions: %s' % y_train_pred[:3])"
   ]
  },
  {
   "cell_type": "code",
   "execution_count": 26,
   "metadata": {
    "collapsed": false
   },
   "outputs": [
    {
     "name": "stdout",
     "output_type": "stream",
     "text": [
      "Training accuracy: 94.00%\n",
      "Test accuracy: 93.61%\n"
     ]
    }
   ],
   "source": [
    "# トレーニングデータとテストデータで正解率を出力\n",
    "train_acc = np.sum(y_train == y_train_pred, axis=0) / (X_train.shape[0] * 1.0) # サンプル数\n",
    "print('Training accuracy: %.2f%%' % (train_acc * 100))\n",
    "\n",
    "y_test_pred = model.predict_classes(X_test, verbose=0)\n",
    "test_acc = np.sum(y_test == y_test_pred, axis=0) / (X_test.shape[0] * 1.0) # サンプル数\n",
    "print('Test accuracy: %.2f%%' % (test_acc * 100))"
   ]
  },
  {
   "cell_type": "markdown",
   "metadata": {},
   "source": [
    "#### kaggleのデータで試してみる"
   ]
  },
  {
   "cell_type": "code",
   "execution_count": 24,
   "metadata": {
    "collapsed": true
   },
   "outputs": [],
   "source": [
    "import pandas as pd\n",
    "train = pd.read_csv('./data/train.csv')\n",
    "test = pd.read_csv('./data/test.csv')\n",
    "\n",
    "X_train2 = train.ix[:, 1:].values\n",
    "y_train2 = train.ix[:, 0].values\n",
    "X_test2 = test.values\n",
    "\n",
    "X_train2 = X_train2.astype(theano.config.floatX)\n",
    "X_test2 = X_test2.astype(theano.config.floatX)\n",
    "\n",
    "y_train_ohe2 = np_utils.to_categorical(y_train2)"
   ]
  },
  {
   "cell_type": "code",
   "execution_count": 48,
   "metadata": {
    "collapsed": false
   },
   "outputs": [],
   "source": [
    "from keras.regularizers import l2\n",
    "\n",
    "np.random.seed(1)\n",
    "\n",
    "model2 = Sequential()                             # モデルを初期化\n",
    "\n",
    "# 1つ目の隠れ層を追加\n",
    "model2.add(Dense(input_dim=X_train2.shape[1],    # 入力ユニット数（特徴量の次元数）\n",
    "                units=500,                        # 出力ユニット数\n",
    "                kernel_initializer='uniform',    # 重みの初期化（一様乱数）\n",
    "                kernel_regularizer=l2(0.001),     # 重みをL2正則化\n",
    "                activation='tanh'))              # 活性化関数を双曲線正接関数に指定\n",
    "\n",
    "# 2つ目の隠れ層を追加\n",
    "model2.add(Dense(input_dim=500,                   # 入力ユニット数（1つ前の出力ユニット数に合わせる）\n",
    "                units=500,                        # 出力ユニット数\n",
    "                kernel_initializer='uniform',    # 重みの初期化（一様乱数）\n",
    "                kernel_regularizer=l2(0.001),     # 重みをL2正則化       \n",
    "                activation='tanh'))              # 活性化関数を双曲線正接関数に指定\n",
    "\n",
    "# 出力層を追加\n",
    "model2.add(Dense(input_dim=500,                   # 入力ユニット数（つ前の出力ユニット数に合わせる）\n",
    "                units=y_train_ohe.shape[1],      # 出力ユニット数 (クラスラベル数に合わせる)\n",
    "                kernel_initializer='uniform',    # 重みの初期化（一様乱数）\n",
    "                activity_regularizer=l2(0.001),\n",
    "                activation='softmax'))           # 活性化関数を双曲線正接関数に指定\n",
    "\n",
    "# モデルコンパイル時に指定するオプティマイザを指定\n",
    "# 引数に、学習率、学習率の減衰率、モーメンタム学習の定数を設定\n",
    "sgd = SGD(lr=0.0005, decay=1e-7, momentum=0.9)\n",
    "\n",
    "# モデルをコンパイル\n",
    "model2.compile(loss='categorical_crossentropy', # コスト関数 カテゴリ交差エントロピー\n",
    "              optimizer='sgd',                  # オプティマイザ\n",
    "              metrics=['accuracy'])             # モデルの評価指標"
   ]
  },
  {
   "cell_type": "code",
   "execution_count": 49,
   "metadata": {
    "collapsed": false
   },
   "outputs": [
    {
     "name": "stdout",
     "output_type": "stream",
     "text": [
      "Train on 37800 samples, validate on 4200 samples\n",
      "Epoch 1/100\n",
      "37800/37800 [==============================] - 5s - loss: 1.8099 - acc: 0.7384 - val_loss: 1.3656 - val_acc: 0.8640\n",
      "Epoch 2/100\n",
      "37800/37800 [==============================] - 5s - loss: 1.2738 - acc: 0.8736 - val_loss: 1.2018 - val_acc: 0.8917\n",
      "Epoch 3/100\n",
      "37800/37800 [==============================] - 5s - loss: 1.1656 - acc: 0.8981 - val_loss: 1.1408 - val_acc: 0.9062\n",
      "Epoch 4/100\n",
      "37800/37800 [==============================] - 5s - loss: 1.1127 - acc: 0.9102 - val_loss: 1.1068 - val_acc: 0.9100\n",
      "Epoch 5/100\n",
      "37800/37800 [==============================] - 5s - loss: 1.0795 - acc: 0.9179 - val_loss: 1.0834 - val_acc: 0.9164\n",
      "Epoch 6/100\n",
      "37800/37800 [==============================] - 5s - loss: 1.0546 - acc: 0.9255 - val_loss: 1.0670 - val_acc: 0.9176\n",
      "Epoch 7/100\n",
      "37800/37800 [==============================] - 6s - loss: 1.0348 - acc: 0.9304 - val_loss: 1.0504 - val_acc: 0.9212\n",
      "Epoch 8/100\n",
      "37800/37800 [==============================] - 9s - loss: 1.0181 - acc: 0.9358 - val_loss: 1.0382 - val_acc: 0.9255\n",
      "Epoch 9/100\n",
      "37800/37800 [==============================] - 9s - loss: 1.0020 - acc: 0.9399 - val_loss: 1.0266 - val_acc: 0.9295\n",
      "Epoch 10/100\n",
      "37800/37800 [==============================] - 9s - loss: 0.9891 - acc: 0.9435 - val_loss: 1.0155 - val_acc: 0.9314\n",
      "Epoch 11/100\n",
      "37800/37800 [==============================] - 9s - loss: 0.9770 - acc: 0.9472 - val_loss: 1.0062 - val_acc: 0.9314\n",
      "Epoch 12/100\n",
      "37800/37800 [==============================] - 9s - loss: 0.9655 - acc: 0.9502 - val_loss: 0.9993 - val_acc: 0.9324\n",
      "Epoch 13/100\n",
      "37800/37800 [==============================] - 10s - loss: 0.9547 - acc: 0.9537 - val_loss: 0.9915 - val_acc: 0.9362\n",
      "Epoch 14/100\n",
      "37800/37800 [==============================] - 9s - loss: 0.9443 - acc: 0.9560 - val_loss: 0.9827 - val_acc: 0.9379\n",
      "Epoch 15/100\n",
      "37800/37800 [==============================] - 8s - loss: 0.9360 - acc: 0.9581 - val_loss: 0.9778 - val_acc: 0.9374\n",
      "Epoch 16/100\n",
      "37800/37800 [==============================] - 8s - loss: 0.9271 - acc: 0.9605 - val_loss: 0.9712 - val_acc: 0.9398\n",
      "Epoch 17/100\n",
      "37800/37800 [==============================] - 9s - loss: 0.9180 - acc: 0.9625 - val_loss: 0.9644 - val_acc: 0.9400\n",
      "Epoch 18/100\n",
      "37800/37800 [==============================] - 10s - loss: 0.9104 - acc: 0.9646 - val_loss: 0.9588 - val_acc: 0.9421\n",
      "Epoch 19/100\n",
      "37800/37800 [==============================] - 10s - loss: 0.9031 - acc: 0.9672 - val_loss: 0.9551 - val_acc: 0.9438\n",
      "Epoch 20/100\n",
      "37800/37800 [==============================] - 10s - loss: 0.8961 - acc: 0.9688 - val_loss: 0.9486 - val_acc: 0.9443\n",
      "Epoch 21/100\n",
      "37800/37800 [==============================] - 12s - loss: 0.8888 - acc: 0.9704 - val_loss: 0.9437 - val_acc: 0.9455\n",
      "Epoch 22/100\n",
      "37800/37800 [==============================] - 12s - loss: 0.8816 - acc: 0.9720 - val_loss: 0.9390 - val_acc: 0.9467\n",
      "Epoch 23/100\n",
      "37800/37800 [==============================] - 12s - loss: 0.8759 - acc: 0.9734 - val_loss: 0.9358 - val_acc: 0.9462\n",
      "Epoch 24/100\n",
      "37800/37800 [==============================] - 11s - loss: 0.8695 - acc: 0.9748 - val_loss: 0.9326 - val_acc: 0.9457\n",
      "Epoch 25/100\n",
      "37800/37800 [==============================] - 10s - loss: 0.8635 - acc: 0.9759 - val_loss: 0.9287 - val_acc: 0.9474\n",
      "Epoch 26/100\n",
      "37800/37800 [==============================] - 11s - loss: 0.8575 - acc: 0.9774 - val_loss: 0.9243 - val_acc: 0.9467\n",
      "Epoch 27/100\n",
      "37800/37800 [==============================] - 12s - loss: 0.8517 - acc: 0.9781 - val_loss: 0.9195 - val_acc: 0.9502\n",
      "Epoch 28/100\n",
      "37800/37800 [==============================] - 12s - loss: 0.8449 - acc: 0.9800 - val_loss: 0.9158 - val_acc: 0.9469\n",
      "Epoch 29/100\n",
      "37800/37800 [==============================] - 10s - loss: 0.8395 - acc: 0.9821 - val_loss: 0.9125 - val_acc: 0.9500\n",
      "Epoch 30/100\n",
      "37800/37800 [==============================] - 10s - loss: 0.8347 - acc: 0.9825 - val_loss: 0.9066 - val_acc: 0.9498\n",
      "Epoch 31/100\n",
      "37800/37800 [==============================] - 11s - loss: 0.8292 - acc: 0.9835 - val_loss: 0.9069 - val_acc: 0.9505\n",
      "Epoch 32/100\n",
      "37800/37800 [==============================] - 10s - loss: 0.8241 - acc: 0.9847 - val_loss: 0.9020 - val_acc: 0.9500\n",
      "Epoch 33/100\n",
      "37800/37800 [==============================] - 11s - loss: 0.8189 - acc: 0.9858 - val_loss: 0.8990 - val_acc: 0.9517\n",
      "Epoch 34/100\n",
      "37800/37800 [==============================] - 12s - loss: 0.8137 - acc: 0.9870 - val_loss: 0.8956 - val_acc: 0.9538\n",
      "Epoch 35/100\n",
      "37800/37800 [==============================] - 11s - loss: 0.8092 - acc: 0.9877 - val_loss: 0.8939 - val_acc: 0.9524\n",
      "Epoch 36/100\n",
      "37800/37800 [==============================] - 11s - loss: 0.8048 - acc: 0.9883 - val_loss: 0.8929 - val_acc: 0.9510\n",
      "Epoch 37/100\n",
      "37800/37800 [==============================] - 11s - loss: 0.8002 - acc: 0.9890 - val_loss: 0.8880 - val_acc: 0.9512\n",
      "Epoch 38/100\n",
      "37800/37800 [==============================] - 11s - loss: 0.7966 - acc: 0.9898 - val_loss: 0.8857 - val_acc: 0.9514\n",
      "Epoch 39/100\n",
      "37800/37800 [==============================] - 12s - loss: 0.7926 - acc: 0.9903 - val_loss: 0.8835 - val_acc: 0.9519\n",
      "Epoch 40/100\n",
      "37800/37800 [==============================] - 12s - loss: 0.7878 - acc: 0.9911 - val_loss: 0.8812 - val_acc: 0.9526\n",
      "Epoch 41/100\n",
      "37800/37800 [==============================] - 11s - loss: 0.7836 - acc: 0.9914 - val_loss: 0.8767 - val_acc: 0.9514\n",
      "Epoch 42/100\n",
      "37800/37800 [==============================] - 12s - loss: 0.7797 - acc: 0.9918 - val_loss: 0.8767 - val_acc: 0.9517\n",
      "Epoch 43/100\n",
      "37800/37800 [==============================] - 11s - loss: 0.7758 - acc: 0.9926 - val_loss: 0.8716 - val_acc: 0.9533\n",
      "Epoch 44/100\n",
      "37800/37800 [==============================] - 9s - loss: 0.7720 - acc: 0.9928 - val_loss: 0.8710 - val_acc: 0.9526\n",
      "Epoch 45/100\n",
      "37800/37800 [==============================] - 11s - loss: 0.7688 - acc: 0.9933 - val_loss: 0.8673 - val_acc: 0.9512\n",
      "Epoch 46/100\n",
      "37800/37800 [==============================] - 12s - loss: 0.7653 - acc: 0.9939 - val_loss: 0.8660 - val_acc: 0.9521\n",
      "Epoch 47/100\n",
      "37800/37800 [==============================] - 12s - loss: 0.7620 - acc: 0.9942 - val_loss: 0.8632 - val_acc: 0.9524\n",
      "Epoch 48/100\n",
      "37800/37800 [==============================] - 12s - loss: 0.7589 - acc: 0.9943 - val_loss: 0.8602 - val_acc: 0.9536\n",
      "Epoch 49/100\n",
      "37800/37800 [==============================] - 11s - loss: 0.7558 - acc: 0.9944 - val_loss: 0.8579 - val_acc: 0.9526\n",
      "Epoch 50/100\n",
      "37800/37800 [==============================] - 12s - loss: 0.7528 - acc: 0.9945 - val_loss: 0.8568 - val_acc: 0.9536\n",
      "Epoch 51/100\n",
      "37800/37800 [==============================] - 12s - loss: 0.7500 - acc: 0.9948 - val_loss: 0.8554 - val_acc: 0.9512\n",
      "Epoch 52/100\n",
      "37800/37800 [==============================] - 11s - loss: 0.7472 - acc: 0.9948 - val_loss: 0.8529 - val_acc: 0.9529\n",
      "Epoch 53/100\n",
      "37800/37800 [==============================] - 14s - loss: 0.7445 - acc: 0.9950 - val_loss: 0.8494 - val_acc: 0.9521\n",
      "Epoch 54/100\n",
      "37800/37800 [==============================] - 13s - loss: 0.7417 - acc: 0.9952 - val_loss: 0.8468 - val_acc: 0.9529\n",
      "Epoch 55/100\n",
      "37800/37800 [==============================] - 14s - loss: 0.7391 - acc: 0.9953 - val_loss: 0.8454 - val_acc: 0.9531\n",
      "Epoch 56/100\n",
      "37800/37800 [==============================] - 14s - loss: 0.7365 - acc: 0.9953 - val_loss: 0.8431 - val_acc: 0.9533\n",
      "Epoch 57/100\n",
      "37800/37800 [==============================] - 12s - loss: 0.7340 - acc: 0.9954 - val_loss: 0.8409 - val_acc: 0.9529\n",
      "Epoch 58/100\n",
      "37800/37800 [==============================] - 11s - loss: 0.7316 - acc: 0.9956 - val_loss: 0.8397 - val_acc: 0.9521\n",
      "Epoch 59/100\n",
      "37800/37800 [==============================] - 12s - loss: 0.7290 - acc: 0.9957 - val_loss: 0.8379 - val_acc: 0.9536\n",
      "Epoch 60/100\n",
      "37800/37800 [==============================] - 12s - loss: 0.7268 - acc: 0.9957 - val_loss: 0.8349 - val_acc: 0.9531\n",
      "Epoch 61/100\n",
      "37800/37800 [==============================] - 13s - loss: 0.7243 - acc: 0.9959 - val_loss: 0.8327 - val_acc: 0.9531\n",
      "Epoch 62/100\n",
      "37800/37800 [==============================] - 13s - loss: 0.7220 - acc: 0.9960 - val_loss: 0.8308 - val_acc: 0.9536\n",
      "Epoch 63/100\n",
      "37800/37800 [==============================] - 11s - loss: 0.7196 - acc: 0.9961 - val_loss: 0.8290 - val_acc: 0.9531\n",
      "Epoch 64/100\n",
      "37800/37800 [==============================] - 12s - loss: 0.7173 - acc: 0.9962 - val_loss: 0.8269 - val_acc: 0.9540\n",
      "Epoch 65/100\n",
      "37800/37800 [==============================] - 13s - loss: 0.7152 - acc: 0.9963 - val_loss: 0.8253 - val_acc: 0.9533\n",
      "Epoch 66/100\n",
      "37800/37800 [==============================] - 13s - loss: 0.7129 - acc: 0.9964 - val_loss: 0.8226 - val_acc: 0.9536\n",
      "Epoch 67/100\n",
      "37800/37800 [==============================] - 10s - loss: 0.7107 - acc: 0.9964 - val_loss: 0.8208 - val_acc: 0.9531\n",
      "Epoch 68/100\n",
      "37800/37800 [==============================] - 11s - loss: 0.7085 - acc: 0.9964 - val_loss: 0.8193 - val_acc: 0.9538\n",
      "Epoch 69/100\n",
      "37800/37800 [==============================] - 10s - loss: 0.7063 - acc: 0.9965 - val_loss: 0.8168 - val_acc: 0.9540\n",
      "Epoch 70/100\n",
      "37800/37800 [==============================] - 9s - loss: 0.7041 - acc: 0.9966 - val_loss: 0.8152 - val_acc: 0.9540\n",
      "Epoch 71/100\n",
      "37800/37800 [==============================] - 11s - loss: 0.7021 - acc: 0.9967 - val_loss: 0.8137 - val_acc: 0.9533\n",
      "Epoch 72/100\n",
      "37800/37800 [==============================] - 11s - loss: 0.6999 - acc: 0.9967 - val_loss: 0.8112 - val_acc: 0.9540\n",
      "Epoch 73/100\n",
      "37800/37800 [==============================] - 10s - loss: 0.6978 - acc: 0.9969 - val_loss: 0.8095 - val_acc: 0.9538\n",
      "Epoch 74/100\n",
      "37800/37800 [==============================] - 12s - loss: 0.6957 - acc: 0.9969 - val_loss: 0.8077 - val_acc: 0.9538\n",
      "Epoch 75/100\n",
      "37800/37800 [==============================] - 11s - loss: 0.6936 - acc: 0.9969 - val_loss: 0.8062 - val_acc: 0.9538\n",
      "Epoch 76/100\n",
      "37800/37800 [==============================] - 10s - loss: 0.6916 - acc: 0.9969 - val_loss: 0.8045 - val_acc: 0.9531\n",
      "Epoch 77/100\n",
      "37800/37800 [==============================] - 10s - loss: 0.6895 - acc: 0.9971 - val_loss: 0.8022 - val_acc: 0.9543\n",
      "Epoch 78/100\n",
      "37800/37800 [==============================] - 11s - loss: 0.6875 - acc: 0.9971 - val_loss: 0.8005 - val_acc: 0.9540\n",
      "Epoch 79/100\n",
      "37800/37800 [==============================] - 10s - loss: 0.6855 - acc: 0.9971 - val_loss: 0.7985 - val_acc: 0.9538\n",
      "Epoch 80/100\n",
      "37800/37800 [==============================] - 9s - loss: 0.6835 - acc: 0.9972 - val_loss: 0.7970 - val_acc: 0.9538\n",
      "Epoch 81/100\n",
      "37800/37800 [==============================] - 11s - loss: 0.6815 - acc: 0.9973 - val_loss: 0.7950 - val_acc: 0.9538\n",
      "Epoch 82/100\n",
      "37800/37800 [==============================] - 11s - loss: 0.6796 - acc: 0.9974 - val_loss: 0.7933 - val_acc: 0.9531\n",
      "Epoch 83/100\n",
      "37800/37800 [==============================] - 11s - loss: 0.6776 - acc: 0.9975 - val_loss: 0.7916 - val_acc: 0.9540\n",
      "Epoch 84/100\n",
      "37800/37800 [==============================] - 9s - loss: 0.6756 - acc: 0.9976 - val_loss: 0.7894 - val_acc: 0.9536\n",
      "Epoch 85/100\n",
      "37800/37800 [==============================] - 9s - loss: 0.6737 - acc: 0.9976 - val_loss: 0.7876 - val_acc: 0.9543\n",
      "Epoch 86/100\n",
      "37800/37800 [==============================] - 9s - loss: 0.6718 - acc: 0.9976 - val_loss: 0.7859 - val_acc: 0.9545\n",
      "Epoch 87/100\n",
      "37800/37800 [==============================] - 11s - loss: 0.6699 - acc: 0.9977 - val_loss: 0.7841 - val_acc: 0.9543\n",
      "Epoch 88/100\n",
      "37800/37800 [==============================] - 13s - loss: 0.6680 - acc: 0.9977 - val_loss: 0.7824 - val_acc: 0.9545\n",
      "Epoch 89/100\n",
      "37800/37800 [==============================] - 12s - loss: 0.6661 - acc: 0.9978 - val_loss: 0.7806 - val_acc: 0.9545\n",
      "Epoch 90/100\n",
      "37800/37800 [==============================] - 11s - loss: 0.6642 - acc: 0.9978 - val_loss: 0.7789 - val_acc: 0.9545\n",
      "Epoch 91/100\n",
      "37800/37800 [==============================] - 12s - loss: 0.6624 - acc: 0.9979 - val_loss: 0.7774 - val_acc: 0.9540\n",
      "Epoch 92/100\n",
      "37800/37800 [==============================] - 13s - loss: 0.6605 - acc: 0.9979 - val_loss: 0.7754 - val_acc: 0.9543\n",
      "Epoch 93/100\n",
      "37800/37800 [==============================] - 13s - loss: 0.6587 - acc: 0.9979 - val_loss: 0.7739 - val_acc: 0.9540\n",
      "Epoch 94/100\n",
      "37800/37800 [==============================] - 13s - loss: 0.6569 - acc: 0.9979 - val_loss: 0.7722 - val_acc: 0.9545\n",
      "Epoch 95/100\n",
      "37800/37800 [==============================] - 15s - loss: 0.6551 - acc: 0.9979 - val_loss: 0.7706 - val_acc: 0.9540\n",
      "Epoch 96/100\n",
      "37800/37800 [==============================] - 14s - loss: 0.6533 - acc: 0.9980 - val_loss: 0.7689 - val_acc: 0.9538\n",
      "Epoch 97/100\n",
      "37800/37800 [==============================] - 15s - loss: 0.6515 - acc: 0.9980 - val_loss: 0.7670 - val_acc: 0.9545\n",
      "Epoch 98/100\n",
      "37800/37800 [==============================] - 14s - loss: 0.6497 - acc: 0.9980 - val_loss: 0.7656 - val_acc: 0.9550\n",
      "Epoch 99/100\n",
      "37800/37800 [==============================] - 14s - loss: 0.6479 - acc: 0.9980 - val_loss: 0.7642 - val_acc: 0.9543\n",
      "Epoch 100/100\n",
      "37800/37800 [==============================] - 13s - loss: 0.6462 - acc: 0.9981 - val_loss: 0.7622 - val_acc: 0.9548\n"
     ]
    },
    {
     "data": {
      "text/plain": [
       "<keras.callbacks.History at 0x7f848afaef10>"
      ]
     },
     "execution_count": 49,
     "metadata": {},
     "output_type": "execute_result"
    }
   ],
   "source": [
    "# fit\n",
    "model2.fit(X_train2,               # トレーニングデータ\n",
    "           y_train_ohe2,           # 出力データ\n",
    "           epochs=100,              # トレーニング回数\n",
    "           batch_size=300,         # 更新を行うミニバッチサイズ\n",
    "           verbose=1,              # 実行状況を表示\n",
    "           validation_split=0.1)   # 過学習の検証用にデータを保持、学習後にチェック"
   ]
  },
  {
   "cell_type": "code",
   "execution_count": 46,
   "metadata": {
    "collapsed": false
   },
   "outputs": [
    {
     "name": "stdout",
     "output_type": "stream",
     "text": [
      "Training accuracy: 98.88%\n"
     ]
    }
   ],
   "source": [
    "y_train_pred2 = model2.predict_classes(X_train2, verbose=0)\n",
    "train_acc2 = np.sum(y_train2 == y_train_pred2, axis=0) / (X_train2.shape[0] * 1.0) # サンプル数\n",
    "print('Training accuracy: %.2f%%' % (train_acc2 * 100))"
   ]
  },
  {
   "cell_type": "code",
   "execution_count": 47,
   "metadata": {
    "collapsed": false
   },
   "outputs": [],
   "source": [
    "# 結果を保存\n",
    "submission = pd.DataFrame({\n",
    "        'ImageId': test.index.values + 1,\n",
    "        'Label': model2.predict_classes(X_test2, verbose=0).astype(int)\n",
    "    })\n",
    "submission.to_csv('result/predict_nn.csv', index=False)"
   ]
  }
 ],
 "metadata": {
  "kernelspec": {
   "display_name": "Python 2",
   "language": "python",
   "name": "python2"
  },
  "language_info": {
   "codemirror_mode": {
    "name": "ipython",
    "version": 2
   },
   "file_extension": ".py",
   "mimetype": "text/x-python",
   "name": "python",
   "nbconvert_exporter": "python",
   "pygments_lexer": "ipython2",
   "version": "2.7.12"
  }
 },
 "nbformat": 4,
 "nbformat_minor": 1
}
