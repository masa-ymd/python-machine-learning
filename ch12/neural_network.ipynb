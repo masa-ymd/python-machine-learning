{
 "cells": [
  {
   "cell_type": "markdown",
   "metadata": {},
   "source": [
    "####  フィードフォワードプロパゲーション"
   ]
  },
  {
   "cell_type": "markdown",
   "metadata": {},
   "source": [
    "入力データ(A)を重み(W)と掛けて(Z)活性化関数により活性化(次のA)して…を順方向に繰り返し、出力を得る<br>\n",
    "\n",
    "* 入力ユニット $A^{(1)} \\cdots$ サンプル数 x (次元数 + 1)\n",
    "* 入力層から隠れ層への重み $W^{(1)} \\cdots$ 隠れ層のユニット数 x (次元数 + 1)\n",
    "* 隠れ層への総入力ベクトル $Z^{(1)} = W^{(1)} [A^{(1)}]^T\\cdots$ 隠れ層のユニット数 x サンプル数\n",
    "* 隠れ層から出力層への入力ユニット $A^{(2)} = \\phi(Z^{(1)})\\cdots$ 隠れ層のユニット数 x サンプル数\n",
    "* 隠れ層から出力層への重み $W^{(2)} \\cdots$ 出力のパターン数 x 隠れ層のユニット数\n",
    "* 出力層への総入力ベクトル $Z^{(2)} = W^{(2)}A^{(2)}\\cdots$ 出力のパターン数 x サンプル数\n",
    "* 出力層からの出力 $A^{(3)} = \\phi(Z^{(2)})\\cdots$ 出力のパターン数 x サンプル数"
   ]
  },
  {
   "cell_type": "markdown",
   "metadata": {},
   "source": [
    "#### 活性化関数"
   ]
  },
  {
   "cell_type": "markdown",
   "metadata": {},
   "source": [
    "$$\n",
    "\\phi(z) = \\frac{1}{1 + e^{(-z)}} \\cdots 配列を入力した場合は全ての要素に対して同じ計算をする\n",
    "$$"
   ]
  },
  {
   "cell_type": "markdown",
   "metadata": {},
   "source": [
    "#### バックプロパゲーション"
   ]
  },
  {
   "cell_type": "markdown",
   "metadata": {},
   "source": [
    "1. サンプル毎に出力層の各ユニット（数字当てなら0〜9までの数字のパターンに対応するユニット）毎の出力と、正解データとの２乗誤差をとり、<br>\n",
    "全サンプルについて合計する<br>\n",
    "→これが、最小化すべきコスト関数E(※1)\n",
    "2. コスト関数Eを勾配法(※2)で0に近づけるためパラメータである、各重み毎の偏導関数$\\frac{\\partial E}{\\partial w^{(l)}_{i,j}}$を計算する<br>\n",
    "その際、合成関数の偏微分公式(※3)を用いる<br>\n",
    "3. ここで、任意の層番号をl、ユニット番号をkとしたとき、$\\delta^{(l)}_k$を$\\frac{\\partial E}{\\partial \\sum^{}_{j=1}w^{(l)}_{k,j}a^{(l-1)}_{j}}$と定義すると、<br>各重み毎の偏導関数を用いた、重みの更新式は以下のように表せる<br>\n",
    "$$\n",
    "w^{(l)}_{i,j} \\gets w^{(l)}_{i,j} - \\rho \\frac{\\partial E}{\\partial w^{(l)}_{i,j}} = w^{(l)}_{i,j} - \\rho \\delta^{(l)}_i a^{(l-1)}_{j} \n",
    "$$\n",
    "なお、多層パーセプトロンでは、出力層とそれ以外の層では$\\delta^{(l)}_i$が以下のように異なる\n",
    "$$\n",
    "\\delta^{(l)}_i = \n",
    "\\left\\{\n",
    "  \\begin{array}{ll}\n",
    "    (a^{(l)}_i - t_i)f'(\\sum^{}_{j=1}w^{(l)}_{i,j}a^{(l-1)}_{j}) & (l=L) \\\\\n",
    "    \\sum_k \\delta^{(l+1)}_k w^{(l+1)}_{k+1} f'(\\sum^{}_{j=1}w^{(l)}_{i,j}a^{(l-1)}_{j}) & (l < L)\n",
    "  \\end{array}\n",
    "\\right.\n",
    "$$\n",
    "4. 出力層以外では、上記の通り、ひとつ先（現在の層の番号＋１）の層の計算結果が更新式に含まれる<br>\n",
    "従って、出力層から入力層方向に計算をすすめることで、１つ前に計算した結果を流用し、効率化することができる"
   ]
  },
  {
   "cell_type": "markdown",
   "metadata": {},
   "source": [
    "##### ※2 勾配法"
   ]
  },
  {
   "cell_type": "markdown",
   "metadata": {},
   "source": [
    "ある関数の一階導関数を得て、逆方向（傾きが＋ならー方向、ーなら＋方向）にすすめることにより、極小値に近づく方法"
   ]
  },
  {
   "cell_type": "markdown",
   "metadata": {},
   "source": [
    "##### ※3 合成関数の偏微分公式（連鎖律）"
   ]
  },
  {
   "cell_type": "markdown",
   "metadata": {},
   "source": [
    "$a = f(b_1, b_2, b_3, \\cdots, b_n)$で、かつ$b_n = g(c)$のとき、<br>\n",
    "$$\n",
    "\\frac{\\partial a}{\\partial c} = \\sum^{n}_{k=1}\\frac{\\partial a}{\\partial b_k}\\frac{\\partial b_k}{\\partial c}\n",
    "$$"
   ]
  },
  {
   "cell_type": "markdown",
   "metadata": {},
   "source": [
    "参考1）<br>\n",
    "http://hokuts.com/2016/05/27/pre-bp/<br>\n",
    "http://hokuts.com/2016/05/29/bp1/<br>\n",
    "http://hokuts.com/2016/10/09/bp2/<br>"
   ]
  },
  {
   "cell_type": "markdown",
   "metadata": {},
   "source": [
    "##### ※1 コスト関数"
   ]
  },
  {
   "cell_type": "markdown",
   "metadata": {},
   "source": [
    "例えばロジスティック回帰の場合、コストは尤度関数を対数化した対数尤度関数にマイナスを掛けたもの<br>\n",
    "$$\n",
    "l(w) = log(\\prod^{n}_{i=1}(\\phi(z^{(i)}))^{y^{(i)}}(1-\\phi(z^{(i)})^{1-y^{(i)}} )= \\sum^{n}_{i=1}[y^{(i)}log(\\phi(z^{(i)})) + (1 - y^{(i)})log(1 - \\phi(z^{(i)}))]\n",
    "$$\n",
    "iはサンプルの番号"
   ]
  },
  {
   "cell_type": "code",
   "execution_count": 1,
   "metadata": {
    "collapsed": true
   },
   "outputs": [],
   "source": [
    "# データ読み込み\n",
    "import os\n",
    "import struct\n",
    "import numpy as np\n",
    "\n",
    "def load_mnist(path, kind='train'):\n",
    "    \"\"\"MNISTデータをpathからロードする\"\"\"\n",
    "    # 引数に渡したパスとファイル名を結合し、フルパスを生成\n",
    "    labels_path = os.path.join(path, '%s-labels-idx1-ubyte' % kind)\n",
    "    images_path = os.path.join(path, '%s-images-idx3-ubyte' % kind)\n",
    "    \n",
    "    # ラベルファイル読み込み\n",
    "    # openにファイルパスとバイナリ読み込みモード指定\n",
    "    with open(labels_path, 'rb') as lbpath:\n",
    "        # unpackでバイナリを文字列に変換 先頭8バイトはマジックナンバーとアイテムの個数\n",
    "        magic, n = struct.unpack('>II', lbpath.read(8))\n",
    "        # fromfileで配列のデータ形式を指定して配列を作成\n",
    "        labels = np.fromfile(lbpath, dtype=np.uint8)\n",
    "        \n",
    "    # 画像ファイル読み込み\n",
    "    # 構造：サンプル数 ×　グレースケールの輝度（28×28=784次元）\n",
    "    with open(images_path, 'rb') as imgpath:\n",
    "        magic, num, rows, cols = struct.unpack('>IIII', imgpath.read(16))\n",
    "        images = np.fromfile(imgpath, dtype=np.uint8).reshape(len(labels), 784)\n",
    "        \n",
    "    return images, labels"
   ]
  },
  {
   "cell_type": "code",
   "execution_count": 2,
   "metadata": {
    "collapsed": false,
    "scrolled": true
   },
   "outputs": [
    {
     "name": "stdout",
     "output_type": "stream",
     "text": [
      "Rows: 60000, columns: 784\n",
      "Rows: 10000, columns: 784\n"
     ]
    }
   ],
   "source": [
    "# データ読み込み\n",
    "X_train, y_train = load_mnist('mnist')\n",
    "print('Rows: %d, columns: %d' % (X_train.shape[0], X_train.shape[1]))\n",
    "\n",
    "X_test, y_test = load_mnist('mnist', kind='t10k')\n",
    "print('Rows: %d, columns: %d' % (X_test.shape[0], X_test.shape[1]))"
   ]
  },
  {
   "cell_type": "code",
   "execution_count": 3,
   "metadata": {
    "collapsed": false
   },
   "outputs": [
    {
     "data": {
      "text/plain": [
       "(60000,)"
      ]
     },
     "execution_count": 3,
     "metadata": {},
     "output_type": "execute_result"
    }
   ],
   "source": [
    "y_train.shape"
   ]
  },
  {
   "cell_type": "code",
   "execution_count": 10,
   "metadata": {
    "collapsed": false
   },
   "outputs": [
    {
     "data": {
      "image/png": "[encoded data removed]",
      "text/plain": [
       "<matplotlib.figure.Figure at 0x7f8517085b50>"
      ]
     },
     "metadata": {},
     "output_type": "display_data"
    }
   ],
   "source": [
    "# imageを表示\n",
    "import matplotlib.pyplot as plt\n",
    "\n",
    "fig, ax = plt.subplots(nrows=2, ncols=5, sharex=True, sharey=True)\n",
    "ax = ax.flatten()\n",
    "for i in range(10):\n",
    "    img = X_train[y_train == i][0].reshape(28, 28)\n",
    "    ax[i].imshow(img, cmap='Greys', interpolation='nearest')\n",
    "    \n",
    "ax[0].set_xticks([])\n",
    "ax[0].set_yticks([])\n",
    "plt.tight_layout()\n",
    "plt.show()"
   ]
  },
  {
   "cell_type": "code",
   "execution_count": 11,
   "metadata": {
    "collapsed": false
   },
   "outputs": [
    {
     "data": {
      "image/png": "[encoded data removed]",
      "text/plain": [
       "<matplotlib.figure.Figure at 0x7f8529d6fa10>"
      ]
     },
     "metadata": {},
     "output_type": "display_data"
    }
   ],
   "source": [
    "# imageを表示2\n",
    "fig, ax = plt.subplots(nrows=5, ncols=5, sharex=True, sharey=True)\n",
    "ax = ax.flatten()\n",
    "for i in range(25):\n",
    "    img = X_train[y_train == 7][i].reshape(28, 28)\n",
    "    ax[i].imshow(img, cmap='Greys', interpolation='nearest')\n",
    "    \n",
    "ax[0].set_xticks([])\n",
    "ax[0].set_yticks([])\n",
    "plt.tight_layout()\n",
    "plt.show()"
   ]
  },
  {
   "cell_type": "code",
   "execution_count": 6,
   "metadata": {
    "collapsed": false
   },
   "outputs": [],
   "source": [
    "# 多層パーセプトロンを実装する\n",
    "\n",
    "import numpy as np\n",
    "from scipy.special import expit # シグモイド関数 1.0 / (1.0 + np.exp(-z)) に等しい\n",
    "import sys\n",
    "\n",
    "class NeuralNetMLP(object):\n",
    "    \n",
    "    # 初期化\n",
    "    def __init__(self, n_output, n_features, n_hidden=30, l1=0.0, l2=0.0, epochs=500, eta=0.001, alpha=0.0,\n",
    "                  decrease_const=0.0, shuffle=True, minibatches=1, random_state=None, debug=False):\n",
    "        np.random.seed(random_state)\n",
    "        self.n_output = n_output                      # 出力ユニット数\n",
    "        self.n_features = n_features                  # 入力ユニット数\n",
    "        self.n_hidden = n_hidden                      # 隠れ層のユニット数\n",
    "        self.w1, self.w2 = self._initialize_weights() # 重みを初期化\n",
    "        self.l1 = l1                                  # L1正則化のλパラメータ\n",
    "        self.l2 = l2                                  # L2正則化のλパラメータ\n",
    "        self.epochs = epochs                          # トレーニング回数\n",
    "        self.eta = eta                                # 学習率の初期値\n",
    "        self.alpha = alpha                            # モーメンタム学習における一つ前の勾配に掛ける係数\n",
    "        self.decrease_const = decrease_const          # 学習率etaの減衰率\n",
    "        self.shuffle = shuffle                        # トレーニングごとにデータをシャッフルするか\n",
    "        self.minibatches = minibatches                # 各トレーニングでのミニバッチ数\n",
    "        self.debug = debug                            # 勾配のデバッグモードを有効にするかどうか\n",
    "        \n",
    "    # 重みの初期化\n",
    "    def _initialize_weights(self):\n",
    "        w1 = np.random.uniform(-1.0, 1.0, size=self.n_hidden * (self.n_features + 1)) \n",
    "        w1 = w1.reshape(self.n_hidden, self.n_features + 1) # h x (m + 1)\n",
    "        w2 = np.random.uniform(-1.0, 1.0, size=self.n_output * (self.n_hidden + 1)) \n",
    "        w2 = w2.reshape(self.n_output, self.n_hidden + 1) # t x (h + 1)\n",
    "        \n",
    "        return w1, w2\n",
    "    \n",
    "    # 活性化関数\n",
    "    def _sigmoid(self, z):\n",
    "        return expit(z)\n",
    "    \n",
    "    # 活性化関数の勾配（偏導関数）\n",
    "    def _sigmoid_gradient(self, z):\n",
    "        sg = self._sigmoid(z)\n",
    "        return sg * (1 - sg)\n",
    "    \n",
    "    # インプット用配列にバイアスユニットを追加する\n",
    "    def _add_bias_unit(self, X, how='column'):\n",
    "        if how == 'column':\n",
    "            X_new = np.ones((X.shape[0], X.shape[1] + 1)) # 列を追加\n",
    "            X_new[:, 1:] = X                              # 2列め以降にもとの配列を代入\n",
    "        elif how == 'row':\n",
    "            X_new = np.ones((X.shape[0] + 1, X.shape[1])) # 行を追加\n",
    "            X_new[1:, :] = X                              # 2行め以降にもとの配列を代入\n",
    "        else:\n",
    "            raise AttributeError('`how` must be `column` or `row`')\n",
    "        return X_new\n",
    "    \n",
    "    # フィードフォワード\n",
    "    def _feedforward(self, X, w1, w2):\n",
    "        a1 = self._add_bias_unit(X, how='column') # 入力 n x (m+1)\n",
    "        z2 = w1.dot(a1.T)                         # 重みをかける h x (m+1) * (m+1) x n = h x n\n",
    "        a2 = self._sigmoid(z2)                    # 活性化 h x n\n",
    "        a2 = self._add_bias_unit(a2, how='row')   # (h+1) x n\n",
    "        z3 = w2.dot(a2)                           # 重みをかける t x (h+1) * (h+1) x n = t x n\n",
    "        a3 = self._sigmoid(z3)                    # 活性化 t x n\n",
    "        return a1, z2, a2, z3, a3\n",
    "    \n",
    "    # L2ペナルティ項の係数\n",
    "    def _L2_reg(self, lambda_, w1, w2):\n",
    "        return (lambda_ / 2.0) * (np.sum(w1[:, 1:] ** 2) + np.sum(w2[:, 1:] ** 2))\n",
    "    \n",
    "    # L1ペナルティ項の係数\n",
    "    def _L1_reg(self, lambda_, w1, w2):\n",
    "        return (lambda_ / 2.0) * (np.abs(w1[:, 1:]).sum() + np.abs(w2[:, 1:]).sum())\n",
    "    \n",
    "    # コスト計算 (対数尤度に-をかける)\n",
    "    def _get_cost(self, y_enc, output, w1, w2):\n",
    "        term1 = -y_enc * (np.log(output))\n",
    "        term2 = (1 - y_enc) * np.log(1 - output)\n",
    "        cost = np.sum(term1 - term2)\n",
    "        L1_term = self._L1_reg(self.l1, w1, w2)\n",
    "        L2_term = self._L2_reg(self.l2, w1, w2)\n",
    "        cost = cost + L1_term + L2_term\n",
    "        return cost\n",
    "    \n",
    "    # 重みの勾配を得る\n",
    "    def _get_gradient(self, a1, a2, a3, z2, y_enc, w1, w2):\n",
    "        # バックプロパゲーション\n",
    "        sigma3 = a3 - y_enc                                    # 出力層の誤差ベクトル t(ターゲット数) x n(サンプル数)\n",
    "        z2 = self._add_bias_unit(z2, how='row')                # (h+1) x n\n",
    "        sigma2 = w2.T.dot(sigma3) * self._sigmoid_gradient(z2) # (h+1) x t * t x n X (h+1) x n\n",
    "        sigma2 = sigma2[1:, :]                                 # 1行めがバイアス項なので除く-> h x (m+1)\n",
    "        grad1 = sigma2.dot(a1)                                 # w1用の勾配 h x n * n x (m+1) = h x (m+1)\n",
    "        grad2 = sigma3.dot(a2.T)                               # w2用の勾配 t x n * n x (h+1) = t x (h+1)\n",
    "        # 正則化\n",
    "        grad1[:, 1:] += (w1[:, 1:] * (self.l1 + self.l2))      # 1列めはバイアス項\n",
    "        grad2[:, 1:] += (w2[:, 1:] * (self.l1 + self.l2))      # 1列めはバイアス項\n",
    "        return grad1, grad2\n",
    "    \n",
    "    # 出力層のエンコード\n",
    "    def _encode_labels(self, y, n_output_patterns):\n",
    "        onehot = np.zeros((n_output_patterns, y.shape[0]))  # y.shape[0] はサンプル数\n",
    "        for idx, val in enumerate(y):\n",
    "            onehot[val, idx] = 1.0\n",
    "        return onehot                             # 出力は t(出力パターン0〜9) x n(サンプル数)\n",
    "    \n",
    "    # モデルをデータにfitさせる\n",
    "    def fit(self, X, y, print_progress=True):\n",
    "        self.cost_ = []\n",
    "        X_data, y_data = X.copy(), y.copy()\n",
    "        y_enc = self._encode_labels(y, self.n_output)\n",
    "        delta_w1_prev = np.zeros(self.w1.shape)\n",
    "        delta_w2_prev = np.zeros(self.w2.shape)\n",
    "        for i in range(self.epochs):\n",
    "            # 学習率を減衰させる\n",
    "            self.eta /= (1 + self.decrease_const * i)\n",
    "            if print_progress:\n",
    "                sys.stderr.write('\\rEpoch: %d/%d' % (i+1, self.epochs))\n",
    "                sys.stderr.flush()\n",
    "            if self.shuffle: # アルゴリズムが循環しないよう、データセットをシャッフル\n",
    "                idx = np.random.permutation(y_data.shape[0])\n",
    "                X_data, y_enc = X_data[idx], y_enc[:, idx]\n",
    "            mini = np.array_split(range(y_data.shape[0]), self.minibatches) # 学習を加速させるためにミニバッチ毎に勾配を計算\n",
    "            for idx in mini:\n",
    "                # フィードフォワード\n",
    "                a1, z2, a2, z3, a3 = self._feedforward(X_data[idx], self.w1, self.w2)\n",
    "                # 出力からコストを計算\n",
    "                cost = self._get_cost(y_enc=y_enc[:, idx], output=a3, w1=self.w1, w2=self.w2)\n",
    "                self.cost_.append(cost)\n",
    "                # バックプロバゲーションで重みの勾配を計算する\n",
    "                grad1, grad2 = self._get_gradient(a1=a1, a2=a2, a3=a3, z2=z2, y_enc=y_enc[:, idx], w1=self.w1, w2=self.w2)\n",
    "                \n",
    "                if self.debug:\n",
    "                    # 勾配チェック\n",
    "                    grad_diff = self._gradient_checking(X=X_data[idx], y_enc=y_enc[:, idx], w1=self.w1, w2=self.w2, epsilon=1e-5, \n",
    "                                                        grad1=grad1, grad2=grad2)\n",
    "                    if grad_diff <= 1e-7:\n",
    "                        print('OK: %s' % grad_diff)\n",
    "                    elif grad_diff <= 1e-4:\n",
    "                        print('Warning: %s' % grad_diff)\n",
    "                    else:\n",
    "                        print('PROBLEM: %s' % grad_diff)\n",
    "                    # 勾配チェック終わり\n",
    "                \n",
    "                # 計算した勾配で重みを計算する\n",
    "                delta_w1, delta_w2 = self.eta * grad1, self.eta * grad2\n",
    "                self.w1 -= (delta_w1 + (self.alpha * delta_w1_prev)) # 勾配が正ならマイナス方向に、負ならプラス方向に進む\n",
    "                self.w2 -= (delta_w2 + (self.alpha * delta_w2_prev))\n",
    "                delta_w1_prev, delta_w2_prev = delta_w1, delta_w2\n",
    "        return self\n",
    "    \n",
    "    # フィードフォワードで予測\n",
    "    def predict(self, X):\n",
    "        _, _, _, z3, _ = self._feedforward(X, self.w1, self.w2)\n",
    "        y_pred = np.argmax(z3, axis=0) # 列毎に最大の値がある行のインデックスを返す\n",
    "        return y_pred\n",
    "    \n",
    "    # ニューラルネットワークのデバッグ用メソッド\n",
    "    def _gradient_checking(self, X, y_enc, w1, w2, epsilon, grad1, grad2):\n",
    "        \"\"\" 勾配チェック\n",
    "        \n",
    "        戻り値\n",
    "        --------\n",
    "        relative_error : float\n",
    "           数値的に近似された勾配と、BPによる勾配の間の相対誤差\n",
    "        \"\"\"\n",
    "        \n",
    "        # w1から数値勾配を算出\n",
    "        num_grad1 = np.zeros(np.shape(w1))\n",
    "        epsilon_ary1 = np.zeros(np.shape(w1))\n",
    "        for i in range(w1.shape[0]):\n",
    "            for j in range(w1.shape[1]):\n",
    "                epsilon_ary1[i, j] = epsilon\n",
    "                a1, z2, a2, z3, a3 = self._feedforward(X, w1 - epsilon_ary1, w2)\n",
    "                cost1 = self._get_cost(y_enc, a3, w1 - epsilon_ary1, w2)\n",
    "                a1, z2, a2, z3, a3 = self._feedforward(X, w1 + epsilon_ary1, w2)\n",
    "                cost2 = self._get_cost(y_enc, a3, w1 + epsilon_ary1, w2)\n",
    "                num_grad1[i, j] = (cost2 - cost1) / (2 * epsilon)\n",
    "                epsilon_ary1[i, j] = 0\n",
    "                \n",
    "        # w2から数値勾配を算出\n",
    "        num_grad2 = np.zeros(np.shape(w2))\n",
    "        epsilon_ary2 = np.zeros(np.shape(w2))\n",
    "        for i in range(w2.shape[0]):\n",
    "            for j in range(w2.shape[1]):\n",
    "                epsilon_ary2[i, j] = epsilon\n",
    "                a1, z2, a2, z3, a3 = self._feedforward(X, w1, w2 - epsilon_ary2)\n",
    "                cost1 = self._get_cost(y_enc, a3, w1, w2 - epsilon_ary2)\n",
    "                a1, z2, a2, z3, a3 = self._feedforward(X, w1, w2 + epsilon_ary2)\n",
    "                cost2 = self._get_cost(y_enc, a3, w1, w2 + epsilon_ary2)\n",
    "                num_grad2[i, j] = (cost2 - cost1) / (2 * epsilon)\n",
    "                epsilon_ary2[i, j] = 0\n",
    "                \n",
    "        # 数値勾配と解析的勾配を列ベクトル化\n",
    "        num_grad = np.hstack((num_grad1.flatten(), num_grad2.flatten()))\n",
    "        grad = np.hstack((grad1.flatten(), grad2.flatten()))\n",
    "        # 数値勾配と解析的勾配の差のノルム\n",
    "        norm1 = np.linalg.norm(num_grad - grad)\n",
    "        # 数値勾配のノルム\n",
    "        norm2 = np.linalg.norm(num_grad)\n",
    "        # 解析的勾配のノルム\n",
    "        norm3 = np.linalg.norm(grad)\n",
    "        # 相対誤差を計算\n",
    "        relative_error = norm1 / (norm2 + norm3)\n",
    "        \n",
    "        return relative_error"
   ]
  },
  {
   "cell_type": "code",
   "execution_count": 7,
   "metadata": {
    "collapsed": true
   },
   "outputs": [],
   "source": [
    "nn = NeuralNetMLP(n_output=10,\n",
    "                  n_features=X_train.shape[1],\n",
    "                  n_hidden=50,\n",
    "                  l2=0.1,\n",
    "                  l1=0.0,\n",
    "                  epochs=1000,\n",
    "                  eta=0.001,\n",
    "                  alpha=0.001,\n",
    "                  decrease_const=0.00001,\n",
    "                  shuffle=True,\n",
    "                  minibatches=50,\n",
    "                  random_state=1)"
   ]
  },
  {
   "cell_type": "code",
   "execution_count": 7,
   "metadata": {
    "collapsed": false
   },
   "outputs": [
    {
     "name": "stderr",
     "output_type": "stream",
     "text": [
      "Epoch: 1000/1000"
     ]
    },
    {
     "data": {
      "text/plain": [
       "<__main__.NeuralNetMLP at 0x7f22c46459d0>"
      ]
     },
     "execution_count": 7,
     "metadata": {},
     "output_type": "execute_result"
    }
   ],
   "source": [
    "# fit\n",
    "nn.fit(X_train, y_train, print_progress=True)"
   ]
  },
  {
   "cell_type": "code",
   "execution_count": 8,
   "metadata": {
    "collapsed": false
   },
   "outputs": [
    {
     "data": {
      "image/png": "[encoded data removed]",
      "text/plain": [
       "<matplotlib.figure.Figure at 0x7f22c46456d0>"
      ]
     },
     "metadata": {},
     "output_type": "display_data"
    }
   ],
   "source": [
    "# 収束状況を可視化\n",
    "plt.plot(range(len(nn.cost_)), nn.cost_)\n",
    "plt.ylim([0, 2000])\n",
    "plt.ylabel('cost')\n",
    "plt.xlabel('Epochs * 50')\n",
    "plt.show()"
   ]
  },
  {
   "cell_type": "code",
   "execution_count": 9,
   "metadata": {
    "collapsed": false
   },
   "outputs": [
    {
     "data": {
      "image/png": "[encoded data removed]",
      "text/plain": [
       "<matplotlib.figure.Figure at 0x7f2296f7f110>"
      ]
     },
     "metadata": {},
     "output_type": "display_data"
    }
   ],
   "source": [
    "# 分割して平均を取り、よりなめらかな線で可視化\n",
    "batches = np.array_split(range(len(nn.cost_)), 100)\n",
    "cost_ary = np.array(nn.cost_)\n",
    "cost_avgs = [np.mean(cost_ary[i]) for i in batches]\n",
    "plt.plot(range(len(cost_avgs)), cost_avgs, color='red')\n",
    "plt.ylim([0, 2000])\n",
    "plt.ylabel('Cost')\n",
    "plt.xlabel('Epochs')\n",
    "plt.show()"
   ]
  },
  {
   "cell_type": "code",
   "execution_count": 10,
   "metadata": {
    "collapsed": false
   },
   "outputs": [
    {
     "name": "stdout",
     "output_type": "stream",
     "text": [
      "Training accuracy: 97.75%\n"
     ]
    }
   ],
   "source": [
    "# 予測の正解率を計算\n",
    "y_train_pred = nn.predict(X_train)\n",
    "acc = np.sum(y_train == y_train_pred, axis=0) / (X_train.shape[0] * 1.0)\n",
    "print('Training accuracy: %.2f%%' % (acc * 100))"
   ]
  },
  {
   "cell_type": "code",
   "execution_count": 11,
   "metadata": {
    "collapsed": false
   },
   "outputs": [
    {
     "name": "stdout",
     "output_type": "stream",
     "text": [
      "Test accuracy: 95.87%\n"
     ]
    }
   ],
   "source": [
    "# テストデータで汎化性能を確認\n",
    "y_test_pred = nn.predict(X_test)\n",
    "acc = np.sum(y_test == y_test_pred, axis=0) / (X_test.shape[0] * 1.0)\n",
    "print('Test accuracy: %.2f%%' % (acc * 100))"
   ]
  },
  {
   "cell_type": "code",
   "execution_count": 12,
   "metadata": {
    "collapsed": false
   },
   "outputs": [
    {
     "data": {
      "image/png": "[encoded data removed]",
      "text/plain": [
       "<matplotlib.figure.Figure at 0x7f22960c6a90>"
      ]
     },
     "metadata": {},
     "output_type": "display_data"
    }
   ],
   "source": [
    "# 実際の画像と予測データを合わせて表示\n",
    "miscl_img = X_test[y_test != y_test_pred][:25]\n",
    "correct_lab = y_test[y_test != y_test_pred][:25]\n",
    "miscl_lab = y_test_pred[y_test != y_test_pred][:25]\n",
    "\n",
    "fig, ax = plt.subplots(nrows=5, ncols=5, sharex=True, sharey=True)\n",
    "ax = ax.flatten()\n",
    "for i in range(25):\n",
    "    img = miscl_img[i].reshape(28, 28)\n",
    "    ax[i].imshow(img, cmap='Greys', interpolation='nearest')\n",
    "    ax[i].set_title('%d) t: %d p: %d' % (i + 1, correct_lab[i], miscl_lab[i]))\n",
    "    \n",
    "ax[0].set_xticks([])\n",
    "ax[0].set_yticks([])\n",
    "plt.tight_layout()\n",
    "plt.show()"
   ]
  },
  {
   "cell_type": "code",
   "execution_count": 17,
   "metadata": {
    "collapsed": true
   },
   "outputs": [],
   "source": [
    "nn = NeuralNetMLP(n_output=10,\n",
    "                  n_features=X_train.shape[1],\n",
    "                  n_hidden=10,\n",
    "                  l2=0.0,\n",
    "                  l1=0.0,\n",
    "                  epochs=10,\n",
    "                  eta=0.001,\n",
    "                  alpha=0.0,\n",
    "                  decrease_const=0.0,\n",
    "                  shuffle=True,\n",
    "                  minibatches=1,\n",
    "                  random_state=1,\n",
    "                  debug=True)"
   ]
  },
  {
   "cell_type": "code",
   "execution_count": 18,
   "metadata": {
    "collapsed": false
   },
   "outputs": [
    {
     "name": "stdout",
     "output_type": "stream",
     "text": [
      "OK: 2.63656778037e-10\n",
      "OK: 2.92544021079e-10\n",
      "OK: 2.94979921068e-10\n",
      "OK: 2.45040652631e-10\n",
      "OK: 2.67675558719e-10\n",
      "OK: 2.89850576755e-10\n",
      "OK: 2.93101254662e-10\n",
      "OK: 2.5695304248e-10\n",
      "OK: 3.36827317181e-10\n",
      "OK: 3.04264958241e-10\n"
     ]
    },
    {
     "data": {
      "text/plain": [
       "<__main__.NeuralNetMLP at 0x7fd44dd54dd0>"
      ]
     },
     "execution_count": 18,
     "metadata": {},
     "output_type": "execute_result"
    }
   ],
   "source": [
    "nn.fit(X_train[:5], y_train[:5], print_progress=False)"
   ]
  },
  {
   "cell_type": "markdown",
   "metadata": {},
   "source": [
    "### kaggleのデータで実行してみる"
   ]
  },
  {
   "cell_type": "code",
   "execution_count": 8,
   "metadata": {
    "collapsed": true
   },
   "outputs": [],
   "source": [
    "import pandas as pd\n",
    "train = pd.read_csv('./data/train.csv')\n",
    "test = pd.read_csv('./data/test.csv')"
   ]
  },
  {
   "cell_type": "code",
   "execution_count": 9,
   "metadata": {
    "collapsed": false
   },
   "outputs": [],
   "source": [
    "X_train = train.ix[:, 1:].values\n",
    "y_train = train.ix[:, 0].values\n",
    "X_test = test.values"
   ]
  },
  {
   "cell_type": "code",
   "execution_count": 12,
   "metadata": {
    "collapsed": true
   },
   "outputs": [],
   "source": [
    "nn = NeuralNetMLP(n_output=10,\n",
    "                  n_features=X_train.shape[1],\n",
    "                  n_hidden=50,\n",
    "                  l2=0.1,\n",
    "                  l1=0.0,\n",
    "                  epochs=1000,\n",
    "                  eta=0.001,\n",
    "                  alpha=0.001,\n",
    "                  decrease_const=0.00001,\n",
    "                  shuffle=True,\n",
    "                  minibatches=50,\n",
    "                  random_state=1)"
   ]
  },
  {
   "cell_type": "code",
   "execution_count": 13,
   "metadata": {
    "collapsed": false,
    "scrolled": true
   },
   "outputs": [
    {
     "name": "stderr",
     "output_type": "stream",
     "text": [
      "Epoch: 1000/1000"
     ]
    },
    {
     "data": {
      "text/plain": [
       "<__main__.NeuralNetMLP at 0x7f8517085550>"
      ]
     },
     "execution_count": 13,
     "metadata": {},
     "output_type": "execute_result"
    }
   ],
   "source": [
    "nn.fit(X_train, y_train, print_progress=True)"
   ]
  },
  {
   "cell_type": "code",
   "execution_count": 10,
   "metadata": {
    "collapsed": false
   },
   "outputs": [
    {
     "name": "stdout",
     "output_type": "stream",
     "text": [
      "Training accuracy: 97.75%\n"
     ]
    }
   ],
   "source": [
    "# 予測の正解率を計算\n",
    "y_train_pred = nn.predict(X_train)\n",
    "acc = np.sum(y_train == y_train_pred, axis=0) / (X_train.shape[0] * 1.0)\n",
    "print('Training accuracy: %.2f%%' % (acc * 100))"
   ]
  },
  {
   "cell_type": "code",
   "execution_count": 17,
   "metadata": {
    "collapsed": false
   },
   "outputs": [],
   "source": [
    "# 結果を保存\n",
    "submission = pd.DataFrame({\n",
    "        'ImageId': test.index.values + 1,\n",
    "        'Label': nn.predict(X_test).astype(int)\n",
    "    })\n",
    "submission.to_csv('result/predict_nn.csv', index=False)"
   ]
  }
 ],
 "metadata": {
  "kernelspec": {
   "display_name": "Python 2",
   "language": "python",
   "name": "python2"
  },
  "language_info": {
   "codemirror_mode": {
    "name": "ipython",
    "version": 2
   },
   "file_extension": ".py",
   "mimetype": "text/x-python",
   "name": "python",
   "nbconvert_exporter": "python",
   "pygments_lexer": "ipython2",
   "version": "2.7.12"
  }
 },
 "nbformat": 4,
 "nbformat_minor": 1
}
