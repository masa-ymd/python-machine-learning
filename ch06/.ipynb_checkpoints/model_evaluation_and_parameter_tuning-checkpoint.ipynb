{
 "cells": [
  {
   "cell_type": "markdown",
   "metadata": {},
   "source": [
    "### パイプライン"
   ]
  },
  {
   "cell_type": "code",
   "execution_count": 1,
   "metadata": {
    "collapsed": false
   },
   "outputs": [],
   "source": [
    "# データセット読み込み\n",
    "import pandas as pd\n",
    "df = pd.read_csv('https://archive.ics.uci.edu/ml/machine-learning-databases/breast-cancer-wisconsin/wdbc.data', header=None)"
   ]
  },
  {
   "cell_type": "code",
   "execution_count": 2,
   "metadata": {
    "collapsed": false
   },
   "outputs": [
    {
     "data": {
      "text/plain": [
       "array(['B', 'M'], dtype=object)"
      ]
     },
     "execution_count": 2,
     "metadata": {},
     "output_type": "execute_result"
    }
   ],
   "source": [
    "# クラスラベルを数値にエンコーディング\n",
    "from sklearn.preprocessing import LabelEncoder\n",
    "X = df.loc[:, 2:].values # 3項目目以降が特徴量(30次元)\n",
    "y = df.loc[:, 1].values  # 2項目目がクラスラベル(Bが良性、Mが悪性)\n",
    "le = LabelEncoder()\n",
    "y = le.fit_transform(y)\n",
    "# 変換されたことを確認(0から順にエンコードされた値を表示する)\n",
    "le.classes_"
   ]
  },
  {
   "cell_type": "code",
   "execution_count": 3,
   "metadata": {
    "collapsed": false
   },
   "outputs": [],
   "source": [
    "# データをテストデータとトレーニングデータに分割\n",
    "from sklearn.model_selection import train_test_split\n",
    "X_train, X_test, y_train, y_test = train_test_split(X, y, test_size=0.20, random_state=1)"
   ]
  },
  {
   "cell_type": "markdown",
   "metadata": {},
   "source": [
    "以下ではパイプライン関数を用いて、2つの前処理とモデル適合を順番に行う例を示す\n",
    "1. ロジスティック回帰に入力するための標準化\n",
    "2. データを30次元から2次元に圧縮する主成分分析（PCA)\n",
    "3. ロジスティック回帰"
   ]
  },
  {
   "cell_type": "code",
   "execution_count": 4,
   "metadata": {
    "collapsed": false
   },
   "outputs": [
    {
     "name": "stdout",
     "output_type": "stream",
     "text": [
      "Test Accuracy: 0.947\n"
     ]
    }
   ],
   "source": [
    "from sklearn.preprocessing import StandardScaler\n",
    "from sklearn.decomposition import PCA\n",
    "from sklearn.linear_model import LogisticRegression\n",
    "from sklearn.pipeline import Pipeline\n",
    "# pipeline関数には、タプルのリストを渡す。タプルのひとつ目の値は任意の文字列、ふたつ目は変換器または推定器\n",
    "pipe_lr = Pipeline([\n",
    "        ('scl', StandardScaler()),\n",
    "        ('pca', PCA(n_components=2)),\n",
    "        ('clf', LogisticRegression(random_state=1))\n",
    "    ])\n",
    "# fitメソッドを実行すると、変換器（scl, pca）では、fit & transformを実行し、次のステップに渡す。最後の推定器（clf）でfitを実行する\n",
    "pipe_lr.fit(X_train, y_train)\n",
    "print('Test Accuracy: %.3f' % pipe_lr.score(X_test, y_test))"
   ]
  },
  {
   "cell_type": "markdown",
   "metadata": {},
   "source": [
    "### k分割交差検証"
   ]
  },
  {
   "cell_type": "markdown",
   "metadata": {
    "collapsed": true
   },
   "source": [
    "* モデル選択…パラメータをチューニングし、最適な値を選択する分類問題を指す\n",
    "* ハイパーパラメータ…トレーニングデータにより学習されるものではなく、個別に設定が必要なもの\n",
    "* ホールドアウト法…トレーニングデータを、トレーニング用とテスト用に分割しモデルの汎化性能を評価する方法<br>\n",
    "パラメータチューニングの性能検証（モデル選択）に使ったデータで性能も評価しようとすると、過学習でバリアンスが高くなる可能性があるので、<br>\n",
    "トレーニングデータセット、検証データセット（モデル選択用）、テストデータセット（汎化性能測定用）の3つに分けて、モデル選択と評価を行うと良い\n",
    "* k分割交差検証…トレーニングセットをランダムにk個に分割、そのうちk-1個（それぞれの学習でk個の内一個が選ばれる）をトレーニングに、<br>1個をテストに使用し、(非復元抽出)これをk回繰り返す方法<br>非復元抽出のため、同じデータが繰り返しあらわれることがないので、ホールドアウト法よりバリアンスが低い<br>k回のイテレーションのそれぞれでモデルの性能$E_i$が評価され、それを平均した$E=\\frac{1}{10}\\sum_{i=1}^{10}E_i$がモデルの推定性能となる\n",
    "* kの値…一般的に用いられるkの値は10だが小さい場合は5にするなどの工夫も有効\n",
    "* 層化k分割交差検証…各サブセットにおいてクラスの比率が維持される"
   ]
  },
  {
   "cell_type": "code",
   "execution_count": 5,
   "metadata": {
    "collapsed": false
   },
   "outputs": [
    {
     "name": "stdout",
     "output_type": "stream",
     "text": [
      "Fold: 1, Class dist.: [256 153], Acc: 0.891\n",
      "Fold: 2, Class dist.: [256 153], Acc: 0.978\n",
      "Fold: 3, Class dist.: [256 153], Acc: 0.978\n",
      "Fold: 4, Class dist.: [256 153], Acc: 0.913\n",
      "Fold: 5, Class dist.: [256 153], Acc: 0.935\n",
      "Fold: 6, Class dist.: [257 153], Acc: 0.978\n",
      "Fold: 7, Class dist.: [257 153], Acc: 0.933\n",
      "Fold: 8, Class dist.: [257 153], Acc: 0.956\n",
      "Fold: 9, Class dist.: [257 153], Acc: 0.978\n",
      "Fold: 10, Class dist.: [257 153], Acc: 0.956\n",
      "CV accuracy: 0.950 +/- 0.029\n"
     ]
    },
    {
     "name": "stderr",
     "output_type": "stream",
     "text": [
      "/usr/local/lib/python2.7/dist-packages/sklearn/cross_validation.py:44: DeprecationWarning: This module was deprecated in version 0.18 in favor of the model_selection module into which all the refactored classes and functions are moved. Also note that the interface of the new CV iterators are different from that of this module. This module will be removed in 0.20.\n",
      "  \"This module will be removed in 0.20.\", DeprecationWarning)\n"
     ]
    }
   ],
   "source": [
    "# k分割交差検証の改善版、層化k分割交差検証を実行\n",
    "import numpy as np\n",
    "from sklearn.cross_validation import StratifiedKFold\n",
    "# kfoldクラスのインスタンス化\n",
    "kfold = StratifiedKFold(y=y_train, n_folds=10, random_state=1)\n",
    "\n",
    "# 分割したデータでループ処理を行い、サブセット毎の正解率を出力\n",
    "scores = []\n",
    "for k, (train, test) in enumerate(kfold):\n",
    "    pipe_lr.fit(X_train[train], y_train[train])\n",
    "    score = pipe_lr.score(X_train[test], y_train[test])\n",
    "    scores.append(score)\n",
    "    print('Fold: %s, Class dist.: %s, Acc: %.3f' % (k+1, np.bincount(y_train[train]), score))\n",
    "    \n",
    "# 平均正解率と標準偏差を表示\n",
    "print('CV accuracy: %.3f +/- %.3f' % (np.mean(scores), np.std(scores)))"
   ]
  },
  {
   "cell_type": "code",
   "execution_count": 6,
   "metadata": {
    "collapsed": false
   },
   "outputs": [
    {
     "name": "stdout",
     "output_type": "stream",
     "text": [
      "CV accuracy scores: [ 0.89130435  0.97826087  0.97826087  0.91304348  0.93478261  0.97777778\n",
      "  0.93333333  0.95555556  0.97777778  0.95555556]\n",
      "CV accuracy: 0.950 +/- 0.029\n"
     ]
    }
   ],
   "source": [
    "# 上記はscikit-leanの関数でより簡単に実行できる\n",
    "from sklearn.cross_validation import cross_val_score\n",
    "# cvは分割数、利用するCPU数はn_jobs\n",
    "scores = cross_val_score(estimator=pipe_lr, X=X_train, y=y_train, cv=10, n_jobs=1)\n",
    "print('CV accuracy scores: %s' % scores)\n",
    "print('CV accuracy: %.3f +/- %.3f' % (np.mean(scores), np.std(scores)))"
   ]
  },
  {
   "cell_type": "markdown",
   "metadata": {},
   "source": [
    "### バイアスとバリアンス"
   ]
  },
  {
   "cell_type": "markdown",
   "metadata": {},
   "source": [
    "* バイアスが高い…トレーニングでも性能検証でも精度が低く学習不足の状態。追加する特徴量を収集/生成する、正則化の強さを下げるなどパラメータを増やすことで対応する\n",
    "* バリアンスが高い…トレーニングでは性能が出ているが、性能検証は低い過学習の状態。トレーニングデータをさらにあつめるか、正則化のパラメータを増やす、特徴抽出/選択で次元（自由度）を減らすなど、モデルの複雑化を抑えることで対応する"
   ]
  },
  {
   "cell_type": "markdown",
   "metadata": {},
   "source": [
    "#### 学習曲線"
   ]
  },
  {
   "cell_type": "markdown",
   "metadata": {},
   "source": [
    "横軸にトレーニングデータ数、縦軸にトレーニングと検証での正解率をプロットする曲線<br>\n",
    "モデルのバイアス、バリアンスが高いかや、データを更に集めることが有効かどうかを把握できる"
   ]
  },
  {
   "cell_type": "code",
   "execution_count": 7,
   "metadata": {
    "collapsed": false
   },
   "outputs": [
    {
     "data": {
      "image/png": "[encoded data removed]",
      "text/plain": [
       "<matplotlib.figure.Figure at 0x7fc1cb885590>"
      ]
     },
     "metadata": {},
     "output_type": "display_data"
    }
   ],
   "source": [
    "# 学習曲線を使ってモデルを評価する例\n",
    "import matplotlib.pyplot as plt\n",
    "from sklearn.model_selection import learning_curve\n",
    "pipe_lr = Pipeline([\n",
    "        ('scl', StandardScaler()),\n",
    "        ('clf', LogisticRegression(penalty='l2', random_state=0))\n",
    "    ])\n",
    "# learning_curve関数で、交差検証による正解率を算出\n",
    "train_sizes, train_scores, test_scores = learning_curve(estimator=pipe_lr,\n",
    "                                                        X=X_train,\n",
    "                                                        y=y_train,\n",
    "                                                        train_sizes=np.linspace(0.1, 1.0, 10), # トレーニングサンプルの数を制御。n回目のサイズ指定は配列のn番目\n",
    "                                                        cv=10,\n",
    "                                                        n_jobs=1\n",
    "                                                       )\n",
    "# スコアの平均と標準偏差を計算\n",
    "train_mean = np.mean(train_scores, axis=1) # axis=1 列の平均\n",
    "train_std = np.std(train_scores, axis=1)\n",
    "test_mean = np.mean(test_scores, axis=1)\n",
    "test_std = np.std(test_scores, axis=1)\n",
    "\n",
    "# トレーニングデータのグラフを描画\n",
    "plt.plot(train_sizes, train_mean, color='b', marker='o', markersize=5, label='training accuracy')\n",
    "# +-標準偏差分を薄く表示してブレ幅を表現\n",
    "plt.fill_between(train_sizes, train_mean + train_std, train_mean - train_std, alpha=0.15, color='b') # alphaは透明度\n",
    "# テストデータも同様に表示\n",
    "plt.plot(train_sizes, test_mean, color='g', linestyle='--', marker='s', markersize=5, label='validation accuracy')\n",
    "plt.fill_between(train_sizes, test_mean + test_std, test_mean - test_std, alpha=0.15, color='g')\n",
    "\n",
    "plt.grid()\n",
    "plt.xlabel('Number of training samples')\n",
    "plt.ylabel('Accuracy')\n",
    "plt.legend(loc='lower left')\n",
    "plt.ylim([0.8, 1.0])\n",
    "plt.show()"
   ]
  },
  {
   "cell_type": "markdown",
   "metadata": {},
   "source": [
    "上記では、トレーニングとバリデーションの正解率曲線の間に隔たりがあることから僅かではあるが過学習があることがわかる"
   ]
  },
  {
   "cell_type": "markdown",
   "metadata": {},
   "source": [
    "#### 検証曲線"
   ]
  },
  {
   "cell_type": "markdown",
   "metadata": {},
   "source": [
    "学習曲線と異なり、サンプルサイズではなく、モデルのパラメータを横軸にとり、正解率を縦軸にプロットする<br>\n",
    "過学習や学習不足の問題を確認することができる"
   ]
  },
  {
   "cell_type": "code",
   "execution_count": 8,
   "metadata": {
    "collapsed": false
   },
   "outputs": [
    {
     "name": "stderr",
     "output_type": "stream",
     "text": [
      "/usr/local/lib/python2.7/dist-packages/sklearn/learning_curve.py:23: DeprecationWarning: This module was deprecated in version 0.18 in favor of the model_selection module into which all the functions are moved. This module will be removed in 0.20\n",
      "  DeprecationWarning)\n"
     ]
    },
    {
     "data": {
      "image/png": "[encoded data removed]",
      "text/plain": [
       "<matplotlib.figure.Figure at 0x7fc1c4ca8250>"
      ]
     },
     "metadata": {},
     "output_type": "display_data"
    }
   ],
   "source": [
    "from sklearn.learning_curve import validation_curve\n",
    "param_range = [0.001, 0.01, 1.1, 1.0, 10.0, 100.0] # 正則化パラメータの逆数（小さいとペナルティーが強い）\n",
    "train_scores, test_scores = validation_curve(estimator=pipe_lr,\n",
    "                                             X=X_train,\n",
    "                                             y=y_train,\n",
    "                                             param_name='clf__C', # パイプライン内のオプションは識別文字列__パラメータ で指定可能\n",
    "                                             param_range=param_range,\n",
    "                                             cv=10\n",
    "                                            )\n",
    "\n",
    "# スコアの平均と標準偏差を計算\n",
    "train_mean = np.mean(train_scores, axis=1) # axis=1 列の平均\n",
    "train_std = np.std(train_scores, axis=1)\n",
    "test_mean = np.mean(test_scores, axis=1)\n",
    "test_std = np.std(test_scores, axis=1)\n",
    "\n",
    "# トレーニングデータのグラフを描画\n",
    "plt.plot(param_range, train_mean, color='b', marker='o', markersize=5, label='training accuracy')\n",
    "# +-標準偏差分を薄く表示してブレ幅を表現\n",
    "plt.fill_between(param_range, train_mean + train_std, train_mean - train_std, alpha=0.15, color='b') # alphaは透明度\n",
    "# テストデータも同様に表示\n",
    "plt.plot(param_range, test_mean, color='g', linestyle='--', marker='s', markersize=5, label='validation accuracy')\n",
    "plt.fill_between(param_range, test_mean + test_std, test_mean - test_std, alpha=0.15, color='g')\n",
    "\n",
    "plt.grid()\n",
    "plt.xscale('log')\n",
    "plt.xlabel('Parameter C')\n",
    "plt.ylabel('Accuracy')\n",
    "plt.legend(loc='lower right')\n",
    "plt.ylim([0.8, 1.0])\n",
    "plt.show()"
   ]
  },
  {
   "cell_type": "markdown",
   "metadata": {},
   "source": [
    "### グリッドサーチ"
   ]
  },
  {
   "cell_type": "markdown",
   "metadata": {},
   "source": [
    "指定されたパラメータの組み合わせを用いた学習と評価を網羅的に実施し、モデルを選択していく方法"
   ]
  },
  {
   "cell_type": "code",
   "execution_count": 9,
   "metadata": {
    "collapsed": false
   },
   "outputs": [
    {
     "name": "stdout",
     "output_type": "stream",
     "text": [
      "0.978021978022\n",
      "{'clf__C': 0.1, 'clf__kernel': 'linear'}\n"
     ]
    }
   ],
   "source": [
    "from sklearn.model_selection import GridSearchCV\n",
    "from sklearn.svm import SVC\n",
    "pipe_svc = Pipeline([\n",
    "        ('scl', StandardScaler()),\n",
    "        ('clf', SVC(random_state=1))\n",
    "    ])\n",
    "param_range = [0.0001, 0.001, 0.01, 0.1, 1.0, 10.0, 100.0, 1000.0]\n",
    "param_grid = [\n",
    "    {'clf__C': param_range, 'clf__kernel': ['linear']}, # 線形SVMでは逆正則化パラメータのみ評価\n",
    "    {'clf__C': param_range, 'clf__gamma': param_range, 'clf__kernel': ['rbf']} # RBFカーネルではgammaも評価\n",
    "]\n",
    "# グリッドサーチのクラスをインスタンス化\n",
    "gs = GridSearchCV(estimator=pipe_svc, param_grid=param_grid, scoring='accuracy', cv=10, n_jobs=-1)\n",
    "# 学習\n",
    "gs = gs.fit(X_train, y_train)\n",
    "\n",
    "# モデルの最良スコア\n",
    "print(gs.best_score_)\n",
    "# 最良スコアとなるパラメータ\n",
    "print(gs.best_params_)"
   ]
  },
  {
   "cell_type": "code",
   "execution_count": 10,
   "metadata": {
    "collapsed": false
   },
   "outputs": [
    {
     "name": "stdout",
     "output_type": "stream",
     "text": [
      "0.642 (+/-0.017) for {'clf__C': 0.0001, 'clf__kernel': 'linear'}\n",
      "0.938 (+/-0.024) for {'clf__C': 0.001, 'clf__kernel': 'linear'}\n",
      "0.960 (+/-0.023) for {'clf__C': 0.01, 'clf__kernel': 'linear'}\n",
      "0.978 (+/-0.020) for {'clf__C': 0.1, 'clf__kernel': 'linear'}\n",
      "0.976 (+/-0.023) for {'clf__C': 1.0, 'clf__kernel': 'linear'}\n",
      "0.971 (+/-0.014) for {'clf__C': 10.0, 'clf__kernel': 'linear'}\n",
      "0.952 (+/-0.021) for {'clf__C': 100.0, 'clf__kernel': 'linear'}\n",
      "0.945 (+/-0.030) for {'clf__C': 1000.0, 'clf__kernel': 'linear'}\n",
      "0.626 (+/-0.004) for {'clf__gamma': 0.0001, 'clf__C': 0.0001, 'clf__kernel': 'rbf'}\n",
      "0.626 (+/-0.004) for {'clf__gamma': 0.001, 'clf__C': 0.0001, 'clf__kernel': 'rbf'}\n",
      "0.626 (+/-0.004) for {'clf__gamma': 0.01, 'clf__C': 0.0001, 'clf__kernel': 'rbf'}\n",
      "0.626 (+/-0.004) for {'clf__gamma': 0.1, 'clf__C': 0.0001, 'clf__kernel': 'rbf'}\n",
      "0.626 (+/-0.004) for {'clf__gamma': 1.0, 'clf__C': 0.0001, 'clf__kernel': 'rbf'}\n",
      "0.626 (+/-0.004) for {'clf__gamma': 10.0, 'clf__C': 0.0001, 'clf__kernel': 'rbf'}\n",
      "0.626 (+/-0.004) for {'clf__gamma': 100.0, 'clf__C': 0.0001, 'clf__kernel': 'rbf'}\n",
      "0.626 (+/-0.004) for {'clf__gamma': 1000.0, 'clf__C': 0.0001, 'clf__kernel': 'rbf'}\n",
      "0.626 (+/-0.004) for {'clf__gamma': 0.0001, 'clf__C': 0.001, 'clf__kernel': 'rbf'}\n",
      "0.626 (+/-0.004) for {'clf__gamma': 0.001, 'clf__C': 0.001, 'clf__kernel': 'rbf'}\n",
      "0.626 (+/-0.004) for {'clf__gamma': 0.01, 'clf__C': 0.001, 'clf__kernel': 'rbf'}\n",
      "0.626 (+/-0.004) for {'clf__gamma': 0.1, 'clf__C': 0.001, 'clf__kernel': 'rbf'}\n",
      "0.626 (+/-0.004) for {'clf__gamma': 1.0, 'clf__C': 0.001, 'clf__kernel': 'rbf'}\n",
      "0.626 (+/-0.004) for {'clf__gamma': 10.0, 'clf__C': 0.001, 'clf__kernel': 'rbf'}\n",
      "0.626 (+/-0.004) for {'clf__gamma': 100.0, 'clf__C': 0.001, 'clf__kernel': 'rbf'}\n",
      "0.626 (+/-0.004) for {'clf__gamma': 1000.0, 'clf__C': 0.001, 'clf__kernel': 'rbf'}\n",
      "0.626 (+/-0.004) for {'clf__gamma': 0.0001, 'clf__C': 0.01, 'clf__kernel': 'rbf'}\n",
      "0.626 (+/-0.004) for {'clf__gamma': 0.001, 'clf__C': 0.01, 'clf__kernel': 'rbf'}\n",
      "0.626 (+/-0.004) for {'clf__gamma': 0.01, 'clf__C': 0.01, 'clf__kernel': 'rbf'}\n",
      "0.626 (+/-0.004) for {'clf__gamma': 0.1, 'clf__C': 0.01, 'clf__kernel': 'rbf'}\n",
      "0.626 (+/-0.004) for {'clf__gamma': 1.0, 'clf__C': 0.01, 'clf__kernel': 'rbf'}\n",
      "0.626 (+/-0.004) for {'clf__gamma': 10.0, 'clf__C': 0.01, 'clf__kernel': 'rbf'}\n",
      "0.626 (+/-0.004) for {'clf__gamma': 100.0, 'clf__C': 0.01, 'clf__kernel': 'rbf'}\n",
      "0.626 (+/-0.004) for {'clf__gamma': 1000.0, 'clf__C': 0.01, 'clf__kernel': 'rbf'}\n",
      "0.626 (+/-0.004) for {'clf__gamma': 0.0001, 'clf__C': 0.1, 'clf__kernel': 'rbf'}\n",
      "0.774 (+/-0.029) for {'clf__gamma': 0.001, 'clf__C': 0.1, 'clf__kernel': 'rbf'}\n",
      "0.947 (+/-0.024) for {'clf__gamma': 0.01, 'clf__C': 0.1, 'clf__kernel': 'rbf'}\n",
      "0.938 (+/-0.032) for {'clf__gamma': 0.1, 'clf__C': 0.1, 'clf__kernel': 'rbf'}\n",
      "0.626 (+/-0.004) for {'clf__gamma': 1.0, 'clf__C': 0.1, 'clf__kernel': 'rbf'}\n",
      "0.626 (+/-0.004) for {'clf__gamma': 10.0, 'clf__C': 0.1, 'clf__kernel': 'rbf'}\n",
      "0.626 (+/-0.004) for {'clf__gamma': 100.0, 'clf__C': 0.1, 'clf__kernel': 'rbf'}\n",
      "0.626 (+/-0.004) for {'clf__gamma': 1000.0, 'clf__C': 0.1, 'clf__kernel': 'rbf'}\n",
      "0.780 (+/-0.029) for {'clf__gamma': 0.0001, 'clf__C': 1.0, 'clf__kernel': 'rbf'}\n",
      "0.949 (+/-0.020) for {'clf__gamma': 0.001, 'clf__C': 1.0, 'clf__kernel': 'rbf'}\n",
      "0.967 (+/-0.022) for {'clf__gamma': 0.01, 'clf__C': 1.0, 'clf__kernel': 'rbf'}\n",
      "0.958 (+/-0.030) for {'clf__gamma': 0.1, 'clf__C': 1.0, 'clf__kernel': 'rbf'}\n",
      "0.631 (+/-0.010) for {'clf__gamma': 1.0, 'clf__C': 1.0, 'clf__kernel': 'rbf'}\n",
      "0.626 (+/-0.004) for {'clf__gamma': 10.0, 'clf__C': 1.0, 'clf__kernel': 'rbf'}\n",
      "0.626 (+/-0.004) for {'clf__gamma': 100.0, 'clf__C': 1.0, 'clf__kernel': 'rbf'}\n",
      "0.626 (+/-0.004) for {'clf__gamma': 1000.0, 'clf__C': 1.0, 'clf__kernel': 'rbf'}\n",
      "0.949 (+/-0.020) for {'clf__gamma': 0.0001, 'clf__C': 10.0, 'clf__kernel': 'rbf'}\n",
      "0.960 (+/-0.024) for {'clf__gamma': 0.001, 'clf__C': 10.0, 'clf__kernel': 'rbf'}\n",
      "0.974 (+/-0.033) for {'clf__gamma': 0.01, 'clf__C': 10.0, 'clf__kernel': 'rbf'}\n",
      "0.956 (+/-0.038) for {'clf__gamma': 0.1, 'clf__C': 10.0, 'clf__kernel': 'rbf'}\n",
      "0.637 (+/-0.012) for {'clf__gamma': 1.0, 'clf__C': 10.0, 'clf__kernel': 'rbf'}\n",
      "0.626 (+/-0.004) for {'clf__gamma': 10.0, 'clf__C': 10.0, 'clf__kernel': 'rbf'}\n",
      "0.626 (+/-0.004) for {'clf__gamma': 100.0, 'clf__C': 10.0, 'clf__kernel': 'rbf'}\n",
      "0.626 (+/-0.004) for {'clf__gamma': 1000.0, 'clf__C': 10.0, 'clf__kernel': 'rbf'}\n",
      "0.960 (+/-0.024) for {'clf__gamma': 0.0001, 'clf__C': 100.0, 'clf__kernel': 'rbf'}\n",
      "0.976 (+/-0.023) for {'clf__gamma': 0.001, 'clf__C': 100.0, 'clf__kernel': 'rbf'}\n",
      "0.969 (+/-0.028) for {'clf__gamma': 0.01, 'clf__C': 100.0, 'clf__kernel': 'rbf'}\n",
      "0.956 (+/-0.038) for {'clf__gamma': 0.1, 'clf__C': 100.0, 'clf__kernel': 'rbf'}\n",
      "0.637 (+/-0.012) for {'clf__gamma': 1.0, 'clf__C': 100.0, 'clf__kernel': 'rbf'}\n",
      "0.626 (+/-0.004) for {'clf__gamma': 10.0, 'clf__C': 100.0, 'clf__kernel': 'rbf'}\n",
      "0.626 (+/-0.004) for {'clf__gamma': 100.0, 'clf__C': 100.0, 'clf__kernel': 'rbf'}\n",
      "0.626 (+/-0.004) for {'clf__gamma': 1000.0, 'clf__C': 100.0, 'clf__kernel': 'rbf'}\n",
      "0.978 (+/-0.026) for {'clf__gamma': 0.0001, 'clf__C': 1000.0, 'clf__kernel': 'rbf'}\n",
      "0.976 (+/-0.023) for {'clf__gamma': 0.001, 'clf__C': 1000.0, 'clf__kernel': 'rbf'}\n",
      "0.960 (+/-0.033) for {'clf__gamma': 0.01, 'clf__C': 1000.0, 'clf__kernel': 'rbf'}\n",
      "0.956 (+/-0.038) for {'clf__gamma': 0.1, 'clf__C': 1000.0, 'clf__kernel': 'rbf'}\n",
      "0.637 (+/-0.012) for {'clf__gamma': 1.0, 'clf__C': 1000.0, 'clf__kernel': 'rbf'}\n",
      "0.626 (+/-0.004) for {'clf__gamma': 10.0, 'clf__C': 1000.0, 'clf__kernel': 'rbf'}\n",
      "0.626 (+/-0.004) for {'clf__gamma': 100.0, 'clf__C': 1000.0, 'clf__kernel': 'rbf'}\n",
      "0.626 (+/-0.004) for {'clf__gamma': 1000.0, 'clf__C': 1000.0, 'clf__kernel': 'rbf'}\n"
     ]
    },
    {
     "name": "stderr",
     "output_type": "stream",
     "text": [
      "/usr/local/lib/python2.7/dist-packages/sklearn/model_selection/_search.py:662: DeprecationWarning: The grid_scores_ attribute was deprecated in version 0.18 in favor of the more elaborate cv_results_ attribute. The grid_scores_ attribute will not be available from 0.20\n",
      "  DeprecationWarning)\n"
     ]
    }
   ],
   "source": [
    "# 以下のように試したそれぞれのパラメータ毎のスコアを表示させることもできる\n",
    "for params, mean_score, scores in gs.grid_scores_:\n",
    "    print(\"%0.3f (+/-%0.03f) for %r\" % (mean_score, scores.std(), params))\n",
    "    \n",
    "#gs.cv_results_"
   ]
  },
  {
   "cell_type": "markdown",
   "metadata": {},
   "source": [
    "最後にトレーニングデータセットから独立したテストデータセットを使い、モデルの性能を評価する"
   ]
  },
  {
   "cell_type": "code",
   "execution_count": 11,
   "metadata": {
    "collapsed": false
   },
   "outputs": [
    {
     "name": "stdout",
     "output_type": "stream",
     "text": [
      "Test accuracy: 0.965\n"
     ]
    }
   ],
   "source": [
    "# 最も正解率が高いモデルを取得\n",
    "clf = gs.best_estimator_\n",
    "# トレーニング用データ全件を用い、fit\n",
    "clf.fit(X_train, y_train)\n",
    "# テスト用データで汎化性能を検証\n",
    "print('Test accuracy: %.3f' % clf.score(X_test, y_test))"
   ]
  },
  {
   "cell_type": "markdown",
   "metadata": {},
   "source": [
    "#### 入れ子式の交差検証"
   ]
  },
  {
   "cell_type": "markdown",
   "metadata": {},
   "source": [
    "様々な機械学習のアルゴリズムからどれかを選択する際に有用な方法<br>\n",
    "2つのループで構成され、外側のループはk分割交差検証を使って、データをトレーニングセットとテストセットに分割する（cv=5）<br>\n",
    "内側のループは上記のトレーニングセットに対し更にk分割交差検証を使いデータをトレーニングと検証の2分割（cv=2)にしてモデルを選択する<br>\n",
    "モデルを選択後、外側のループのテストセットでモデルの性能を評価する"
   ]
  },
  {
   "cell_type": "code",
   "execution_count": 12,
   "metadata": {
    "collapsed": false
   },
   "outputs": [
    {
     "name": "stdout",
     "output_type": "stream",
     "text": [
      "CV accuracy: 0.965 +/- 0.025\n"
     ]
    }
   ],
   "source": [
    "# 内側のループ（ハイパーパラメータ選択）\n",
    "gs = GridSearchCV(estimator=pipe_svc, param_grid=param_grid, scoring='accuracy', cv=2, n_jobs=-1)\n",
    "# 外側のループ（交差検証）\n",
    "scores = cross_val_score(gs, X_train, y_train, scoring='accuracy', cv=5)\n",
    "print('CV accuracy: %.3f +/- %.3f' % (np.mean(scores), np.std(scores)))"
   ]
  },
  {
   "cell_type": "code",
   "execution_count": 13,
   "metadata": {
    "collapsed": false
   },
   "outputs": [
    {
     "name": "stdout",
     "output_type": "stream",
     "text": [
      "CV accuracy: 0.921 +/- 0.029\n"
     ]
    }
   ],
   "source": [
    "# 決定木でも同じ処理を行い、正解率を比較する\n",
    "from sklearn.tree import DecisionTreeClassifier\n",
    "gs = GridSearchCV(estimator=DecisionTreeClassifier(random_state=0),\n",
    "                  param_grid=[{'max_depth': [1, 2, 3, 4, 5, 6, 7, None]}],\n",
    "                  scoring='accuracy',\n",
    "                  cv=2\n",
    "                 )\n",
    "scores = cross_val_score(gs, X_train, y_train, scoring='accuracy', cv=5)\n",
    "print('CV accuracy: %.3f +/- %.3f' % (np.mean(scores), np.std(scores)))"
   ]
  },
  {
   "cell_type": "markdown",
   "metadata": {},
   "source": [
    "SVMと決定木を比較すると、SVMの方が性能が良いことがわかる"
   ]
  },
  {
   "cell_type": "markdown",
   "metadata": {},
   "source": [
    "#### 混同行列"
   ]
  },
  {
   "cell_type": "markdown",
   "metadata": {},
   "source": [
    "* 真陽性…陽性と予測しあたった\n",
    "* 偽陽性…陽性と予測し外れた\n",
    "* 真陰性…陰性と予測しあたった\n",
    "* 偽陰性…陰性と予測し外れた"
   ]
  },
  {
   "cell_type": "code",
   "execution_count": 14,
   "metadata": {
    "collapsed": false
   },
   "outputs": [
    {
     "name": "stdout",
     "output_type": "stream",
     "text": [
      "[[71  1]\n",
      " [ 2 40]]\n"
     ]
    }
   ],
   "source": [
    "# 混同行列を作成\n",
    "from sklearn.metrics import confusion_matrix\n",
    "pipe_svc.fit(X_train, y_train)\n",
    "y_pred = pipe_svc.predict(X_test)\n",
    "# テストと予測のデータから混合行列を生成\n",
    "confmat = confusion_matrix(y_true=y_test, y_pred=y_pred)\n",
    "print(confmat)"
   ]
  },
  {
   "cell_type": "code",
   "execution_count": 15,
   "metadata": {
    "collapsed": false
   },
   "outputs": [
    {
     "data": {
      "image/png": "[encoded data removed]",
      "text/plain": [
       "<matplotlib.figure.Figure at 0x7fc1c4dbbe10>"
      ]
     },
     "metadata": {},
     "output_type": "display_data"
    }
   ],
   "source": [
    "# 可視化\n",
    "fig, ax = plt.subplots(figsize=(2.5, 2.5))\n",
    "# matshowで行列からヒートマップを描画\n",
    "ax.matshow(confmat, cmap=plt.cm.Blues, alpha=0.3)\n",
    "for i in range(confmat.shape[0]): # クラス0の繰り返し処理\n",
    "    for j in range(confmat.shape[1]): # クラス1の繰り返し処理\n",
    "        ax.text(x=j, y=i, s=confmat[i, j], va='center', ha='center') # 件数を表示\n",
    "        \n",
    "plt.xlabel('predicted label')\n",
    "plt.ylabel('true label')\n",
    "plt.show()"
   ]
  },
  {
   "cell_type": "markdown",
   "metadata": {},
   "source": [
    "#### 適合率と正解率、真陽性率、偽陽性率、適合率、再現率（真陽性率と同義）、F1スコア"
   ]
  },
  {
   "cell_type": "markdown",
   "metadata": {},
   "source": [
    "誤分類率（ERR）…誤った予測の合計を予測の総数で割ったもの\n",
    "\n",
    "$$\n",
    "ERR = \\frac{FP + FN}{FP + FN + TP + TN}\n",
    "$$\n",
    "\n",
    "正解率（ACC）…正しい予測の合計を予測の総数で割ったもの\n",
    "\n",
    "$$\n",
    "ACC = \\frac{TP + TN}{FP + FN + TP +TN} = 1 - ERR\n",
    "$$\n",
    "\n",
    "偽陽性率（TPR）…すべての陰性の内、間違って陽性と判断した割合　下のTPRと合わせクラスの分布に偏りがある場合に役立つ\n",
    "\n",
    "$$\n",
    "FPF = \\frac{FP}{N} = \\frac{FP}{FP + TN}\n",
    "$$\n",
    "\n",
    "真陽性率（TPR）…全陽性のうち、どれだけを正確に予測したか（故障や病気をどれだけ予測できたかなど）\n",
    "\n",
    "$$\n",
    "TPR = \\frac{TP}{P} = \\frac{TP}{FN + TP}\n",
    "$$\n",
    "\n",
    "適合率（PRE）…陽性と予測したものの内、実際に陽性だった割合\n",
    "\n",
    "$$\n",
    "PRE = \\frac{TP}{TP + FP}\n",
    "$$\n",
    "\n",
    "再現率（REC）…TPRと同義\n",
    "\n",
    "$$\n",
    "REC　= TPR = \\frac{TP}{FN + TP}\n",
    "$$\n",
    "\n",
    "F1スコア…PREとRECを組み合わせたスコア（適合率と再現率の調和平均）\n",
    "\n",
    "$$\n",
    "F1 = 2\\frac{PRE \\times REC}{PRE + REC}\n",
    "$$"
   ]
  },
  {
   "cell_type": "code",
   "execution_count": 16,
   "metadata": {
    "collapsed": false
   },
   "outputs": [
    {
     "name": "stdout",
     "output_type": "stream",
     "text": [
      "Precision: 0.976\n"
     ]
    }
   ],
   "source": [
    "# 上記の指標はsklearnで実装されている\n",
    "# 適合率\n",
    "from sklearn.metrics import precision_score\n",
    "print ('Precision: %.3f' % precision_score(y_true=y_test, y_pred=y_pred))"
   ]
  },
  {
   "cell_type": "code",
   "execution_count": 17,
   "metadata": {
    "collapsed": false
   },
   "outputs": [
    {
     "name": "stdout",
     "output_type": "stream",
     "text": [
      "Recall: 0.952\n"
     ]
    }
   ],
   "source": [
    "# 再現率\n",
    "from sklearn.metrics import recall_score\n",
    "print('Recall: %.3f' % recall_score(y_true=y_test, y_pred=y_pred))"
   ]
  },
  {
   "cell_type": "code",
   "execution_count": 18,
   "metadata": {
    "collapsed": false
   },
   "outputs": [
    {
     "name": "stdout",
     "output_type": "stream",
     "text": [
      "F1: 0.964\n"
     ]
    }
   ],
   "source": [
    "# F1スコア\n",
    "from sklearn.metrics import f1_score\n",
    "print('F1: %.3f' % f1_score(y_true=y_test, y_pred=y_pred))"
   ]
  },
  {
   "cell_type": "code",
   "execution_count": 19,
   "metadata": {
    "collapsed": true
   },
   "outputs": [],
   "source": [
    "# GridSearchCVオブジェクトでは正解率以外の性能指標を選択可能 scoring引数に指定可能\n",
    "# make_scorer関数を使って独自の性能評価関数を作ることもできる\n",
    "from sklearn.metrics import make_scorer, f1_score\n",
    "scorer = make_scorer(f1_score, pos_label=0)\n",
    "gs = GridSearchCV(estimator=pipe_svc, param_grid=param_grid, scoring=scorer, cv=10)"
   ]
  },
  {
   "cell_type": "markdown",
   "metadata": {},
   "source": [
    "#### ROC曲線"
   ]
  },
  {
   "cell_type": "markdown",
   "metadata": {},
   "source": [
    "受信者操作特性（ROC）曲線…分類器のしきい値をかえ、以下の2軸でプロットをするグラフ\n",
    "\n",
    "横軸…False Positive Rate 全部の陰性の内、誤って陽性と判断した割合 0に近いほどよい\n",
    "縦軸…True Positive Rate 全部の陽性の内、陽性と判断した割合 1に近いほどよい\n",
    "\n",
    "対角線がランダムな推定と解釈でき、それを下回るものは当て推量より悪いとになされる。<br>\n",
    "\n",
    "分類モデルの性能として、曲線下面積（Area Under the Curve: AUC）が用いられる。"
   ]
  },
  {
   "cell_type": "code",
   "execution_count": 20,
   "metadata": {
    "collapsed": false
   },
   "outputs": [
    {
     "data": {
      "image/png": "[encoded data removed]",
      "text/plain": [
       "<matplotlib.figure.Figure at 0x7fc1c4ea3c10>"
      ]
     },
     "metadata": {},
     "output_type": "display_data"
    }
   ],
   "source": [
    "from sklearn.metrics import roc_curve, auc\n",
    "from scipy import interp\n",
    "# Pipelineクラスをインスタンス化\n",
    "pipe_lr = Pipeline([\n",
    "        ('scl', StandardScaler()),\n",
    "        ('pca', PCA(n_components=2)),\n",
    "        ('clf', LogisticRegression(penalty='l2', random_state=0, C=100.0))\n",
    "        \n",
    "    ])\n",
    "\n",
    "# 2つの特徴量を抽出\n",
    "X_train2 = X_train[:, [4, 14]]\n",
    "# データを3分割してプロットしてみる\n",
    "cv = StratifiedKFold(y_train, n_folds=3, random_state=1)\n",
    "fig = plt.figure(figsize=(7, 5))\n",
    "mean_tpr = 0.0 # 縦軸\n",
    "mean_fpr = np.linspace(0, 1, 100) # 横軸\n",
    "all_tpr = []\n",
    "for i, (train, test) in enumerate(cv):\n",
    "    # predict_proba 所属しているクラスになる確率を返す [クラス1の確率, クラス2の確率]\n",
    "    probas = pipe_lr.fit(X_train2[train], y_train[train]).predict_proba(X_train2[test])\n",
    "    # fprとtprの対を計算 thresholds = ?\n",
    "    fpr, tpr, thresholds = roc_curve(y_train[test], probas[:, 1], pos_label=1)\n",
    "    # aucを計算\n",
    "    roc_auc = auc(fpr, tpr)\n",
    "    # グラフにプロット\n",
    "    plt.plot(fpr, tpr, lw=1, label='ROC fold %d (area = %0.2f)' % (i + 1, roc_auc))\n",
    "    # 後で3分割した値の平均をプロットするための準備\n",
    "    # 線形補完 引数位置:(値を知りたいX軸の位置, Y軸の値がわかっているX軸の値, 左のX軸に対応するY軸の値)\n",
    "    mean_tpr += interp(mean_fpr, fpr, tpr) # 1列に3分割ぶんのデータが足し合わされる\n",
    "    mean_tpr[0] = 0.0\n",
    "\n",
    "    \n",
    "# ランダム（正解率50%）の線をプロット\n",
    "plt.plot([0, 1], [0, 1], linestyle='--', color=(0.6, 0.6, 0.6), label='random guessing')\n",
    "\n",
    "# 3つに分割したデータに対応するFPR, TPR, ROC AUCそれぞれの平均を計算してプロット\n",
    "mean_tpr /= len(cv)\n",
    "mean_tpr[-1] = 1.0\n",
    "mean_auc = auc(mean_fpr, mean_tpr)\n",
    "plt.plot(mean_fpr, mean_tpr, 'k--', label='mean ROC (area = %0.2f)' % mean_auc, lw=2)\n",
    "\n",
    "# 完全に予測できた場合の線をプロット（fpr=0のときからtprが0）\n",
    "plt.plot([0, 0, 1], [0, 1, 1], lw=2, linestyle=':', color='black', label='perfect performance')\n",
    "\n",
    "plt.xlim([-0.05, 1.05])\n",
    "plt.ylim([-0.05, 1.05])\n",
    "plt.xlabel('false positive rate')\n",
    "plt.ylabel('true positive rate')\n",
    "plt.title('Receiver Operator Characteristic')\n",
    "plt.legend(loc='lower right')\n",
    "plt.show()"
   ]
  },
  {
   "cell_type": "code",
   "execution_count": 21,
   "metadata": {
    "collapsed": false
   },
   "outputs": [
    {
     "name": "stdout",
     "output_type": "stream",
     "text": [
      "ROC AUC: 0.662\n",
      "Accuracy: 0.711\n"
     ]
    }
   ],
   "source": [
    "# グラフを描画せず、AUCの値だけ求めたい場合は、roc_auc_scoreを使えばよい\n",
    "pipe_lr = pipe_lr.fit(X_train2, y_train)\n",
    "y_pred2 = pipe_lr.predict(X_test[:, [4,14]])\n",
    "from sklearn.metrics import roc_auc_score, accuracy_score\n",
    "print('ROC AUC: %.3f' % roc_auc_score(y_true=y_test, y_score=y_pred2))\n",
    "print('Accuracy: %.3f' % accuracy_score(y_true=y_test, y_pred=y_pred2))"
   ]
  },
  {
   "cell_type": "markdown",
   "metadata": {},
   "source": [
    "#### 多クラス分類のための性能指標"
   ]
  },
  {
   "cell_type": "markdown",
   "metadata": {},
   "source": [
    "上記の性能指標は2値問題に特化したものだが、scikit-learnでは他クラス問題に拡張する評価指標も設定可能<br>\n",
    "マイクロ平均…クラスの分布を考慮し、各予測を平等に重み付けしたい場合\n",
    "$$\n",
    "PRE_{micro} = \\frac{TP_1 + \\cdots + TP_k}{TP_1 + \\cdots + TP_k + FP_1 + \\cdots　FP_k}\n",
    "$$\n",
    "マクロ平均…クラスの分布の割合によらず、平等に評価する場合\n",
    "$$\n",
    "PRE_{macro} = \\frac{PRE_1 + \\cdots + PRE_k}{k}\n",
    "$$"
   ]
  },
  {
   "cell_type": "code",
   "execution_count": 22,
   "metadata": {
    "collapsed": true
   },
   "outputs": [],
   "source": [
    "# 上記はmake_scorer関数のaverage引数の指定により定義可能\n",
    "pre_scorer = make_scorer(score_func=precision_score, pos_label=1, greater_is_better=True, average='micro')"
   ]
  }
 ],
 "metadata": {
  "kernelspec": {
   "display_name": "Python 2",
   "language": "python",
   "name": "python2"
  },
  "language_info": {
   "codemirror_mode": {
    "name": "ipython",
    "version": 2
   },
   "file_extension": ".py",
   "mimetype": "text/x-python",
   "name": "python",
   "nbconvert_exporter": "python",
   "pygments_lexer": "ipython2",
   "version": "2.7.12"
  }
 },
 "nbformat": 4,
 "nbformat_minor": 1
}
