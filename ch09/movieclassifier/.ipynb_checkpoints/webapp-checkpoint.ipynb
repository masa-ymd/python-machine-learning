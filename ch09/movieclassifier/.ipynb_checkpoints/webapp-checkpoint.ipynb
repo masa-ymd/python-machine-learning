{
 "cells": [
  {
   "cell_type": "code",
   "execution_count": 1,
   "metadata": {
    "collapsed": false
   },
   "outputs": [],
   "source": [
    "# 保存したpickleオブジェクトを読み込み、予測が行えるか確認\n",
    "import pickle\n",
    "import os\n",
    "import re\n",
    "import sys\n",
    "\n",
    "sys.path.append('./movieclassifier/')\n",
    "\n",
    "from vectorizer import vect\n",
    "\n",
    "clf = pickle.load(open(os.path.join('movieclassifier/pkl_objects', 'classifier.pkl'), 'rb'))"
   ]
  },
  {
   "cell_type": "code",
   "execution_count": 2,
   "metadata": {
    "collapsed": false
   },
   "outputs": [
    {
     "name": "stdout",
     "output_type": "stream",
     "text": [
      "Prediction: posivive\n",
      "Probability: 84.57%\n"
     ]
    }
   ],
   "source": [
    "import numpy as np\n",
    "label = {0:'negative', 1:'posivive'}\n",
    "example = {u'I love this movie.'}\n",
    "X = vect.transform(example)\n",
    "print('Prediction: %s\\nProbability: %.2f%%' % (label[clf.predict(X)[0]], np.max(clf.predict_proba(X)*100)))"
   ]
  },
  {
   "cell_type": "code",
   "execution_count": 8,
   "metadata": {
    "collapsed": false
   },
   "outputs": [],
   "source": [
    "# SQLiteのDBを作成し映画レビューを登録する\n",
    "import sqlite3\n",
    "import os\n",
    "conn = sqlite3.connect(\"reviews.sqlite\")\n",
    "c = conn.cursor()\n",
    "c.execute(\"CREATE TABLE review_db (review TEXT, sentiment INTEGER, date TEXT)\")\n",
    "example1 = \"I love this movie.\"\n",
    "c.execute(\"INSERT INTO review_db (review, sentiment, date) VALUES (?, ?, DATETIME('now'))\", (example1, 1))\n",
    "example2 = \"I disliked this movie.\"\n",
    "c.execute(\"INSERT INTO review_db (review, sentiment, date) VALUES (?, ?, DATETIME('now'))\", (example2, 0))\n",
    "conn.commit()\n",
    "conn.close()"
   ]
  },
  {
   "cell_type": "code",
   "execution_count": 14,
   "metadata": {
    "collapsed": false
   },
   "outputs": [
    {
     "name": "stdout",
     "output_type": "stream",
     "text": [
      "[(u'I love this movie.', 1, u'2017-06-26 10:51:05'), (u'I disliked this movie.', 0, u'2017-06-26 10:51:05')]\n"
     ]
    }
   ],
   "source": [
    "conn = sqlite3.connect(\"reviews.sqlite\")\n",
    "c = conn.cursor()\n",
    "c.execute(\"SELECT * FROM review_db WHERE date BETWEEN '2017-01-01 00:00:00' AND DATETIME('now')\")\n",
    "results = c.fetchall()\n",
    "conn.close()\n",
    "print(results)"
   ]
  },
  {
   "cell_type": "code",
   "execution_count": null,
   "metadata": {
    "collapsed": true
   },
   "outputs": [],
   "source": []
  }
 ],
 "metadata": {
  "kernelspec": {
   "display_name": "Python 2",
   "language": "python",
   "name": "python2"
  },
  "language_info": {
   "codemirror_mode": {
    "name": "ipython",
    "version": 2
   },
   "file_extension": ".py",
   "mimetype": "text/x-python",
   "name": "python",
   "nbconvert_exporter": "python",
   "pygments_lexer": "ipython2",
   "version": "2.7.12"
  }
 },
 "nbformat": 4,
 "nbformat_minor": 1
}
