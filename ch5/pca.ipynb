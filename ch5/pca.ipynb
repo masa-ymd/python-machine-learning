{
 "cells": [
  {
   "cell_type": "markdown",
   "metadata": {},
   "source": [
    "## 主成分分析（PCA）による教師なし次元削減"
   ]
  },
  {
   "cell_type": "markdown",
   "metadata": {},
   "source": [
    "PCAの目的は高次元データにおいて分散が最大となる方向を見つけ、元の次元以下の次元の新しい部分空間に射影することである<br>\n",
    "PCAで次元削減を行う場合は、$d \\times k$列（d行k列）の変換行列$\\bf W$を作成し、掛ける<br>\n",
    "$$\n",
    "{\\bf x} = \\left[ x_1, x_2, \\cdots, x_d \\right], {\\bf x} \\in \\mathbb{R}^d\n",
    "$$\n",
    "$$\n",
    "↓ {\\bf xW, W} \\in \\mathbb{R}^{d \\times k}\n",
    "$$\n",
    "$$\n",
    "{\\bf z} = \\left[z_1, z_2, \\cdots, z_k \\right], {\\bf z} \\in \\mathbb{R}^k\n",
    "$$\n",
    "上記はd次元のデータを新しいk次元の部分空間に変換する<br>\n",
    "\n",
    "PCAのアルゴリズムの流れは以下の通り"
   ]
  },
  {
   "cell_type": "markdown",
   "metadata": {},
   "source": [
    "##### 1. d次元のデータセットを標準化する"
   ]
  },
  {
   "cell_type": "code",
   "execution_count": 1,
   "metadata": {
    "collapsed": false
   },
   "outputs": [],
   "source": [
    "# データ読み込み\n",
    "import pandas as pd\n",
    "df_wine = pd.read_csv('https://archive.ics.uci.edu/ml/machine-learning-databases/wine/wine.data', header=None)\n",
    "\n",
    "# データをトレーニング用とテスト用に7:3に分割\n",
    "from sklearn.model_selection import train_test_split\n",
    "from sklearn.preprocessing import StandardScaler\n",
    "# 2列目以降をXに、1列目をyに格納\n",
    "X, y = df_wine.iloc[:, 1:].values, df_wine.iloc[:, 0].values\n",
    "# データをトレーニング用とテスト用に分割\n",
    "X_train, X_test, y_train, y_test = train_test_split(X, y, test_size=0.3, random_state=0)\n",
    "# 平均と標準偏差で標準化\n",
    "sc = StandardScaler()\n",
    "X_train_std = sc.fit_transform(X_train)\n",
    "X_test_std = sc.transform(X_test)"
   ]
  },
  {
   "cell_type": "markdown",
   "metadata": {},
   "source": [
    "#### 2. 標準化したデータセットの共分散行列（covariance martix）を作成する"
   ]
  },
  {
   "cell_type": "markdown",
   "metadata": {
    "collapsed": true
   },
   "source": [
    "$d \\times d$次元の共分散行列は、特徴量のペア毎の共分散を保持する<br>\n",
    "対角成分は各特徴量の分散で対角成分はそれぞれ同じになっている対称行列になる<br>\n",
    "例えば、2つの特徴量$x_j, x_k$の間の共分散は以下の式を使って表せる<br>\n",
    "$$\n",
    "\\sigma_{jk} = \\frac{1}{n} \\sum_{i=1}^n(x_j^{(i)} - \\mu_j)(x_k^{(i)} - \\mu_k)\n",
    "$$\n",
    "ここで、nは標本数、$\\mu_j, \\mu_k$は特徴量jとkの標本平均を表す<br>\n",
    "2つの特徴量の間の共分散が正の場合は、値の変化に正の相関が、負の場合は負の相関があることを示す<br>\n",
    "特徴量が3つの共分散行列は上記の$\\sigma_{jk}$を用いて以下のように表せる\n",
    "$$\n",
    "\\Sigma = \\left[\n",
    "         \\begin{array}{ccc}\n",
    "           \\sigma_1^2 & \\sigma_{12} & \\sigma_{13} \\\\\n",
    "           \\sigma_{21} & \\sigma_2^2 & \\sigma_{23} \\\\\n",
    "           \\sigma_{31} & \\sigma_{32} & \\sigma_3^2 \\\\\n",
    "         \\end{array}\n",
    "       \\right]\n",
    "$$\n",
    "共分散行列の固有ベクトルが主成分（分散が最大となる方向）を表すのに対し、対応する固有値はそれらの大きさを定義する<br>\n",
    "wineデータセットの場合は、特徴量が13個なので、$13 \\times 13$次元の共分散行列から13個の固有ベクトル、固有値が得られる<br>\n",
    "\n",
    "固有ベクトル$v$は以下の条件を満たす<br>\n",
    "$$\n",
    "\\Sigma{\\bf v} = {\\bf \\lambda v}\n",
    "$$"
   ]
  },
  {
   "cell_type": "code",
   "execution_count": 2,
   "metadata": {
    "collapsed": false
   },
   "outputs": [],
   "source": [
    "# 共分散行列の固有対を取得する\n",
    "import numpy as np\n",
    "# 共分散行列を作成\n",
    "cov_mat = np.cov(X_train_std.T)"
   ]
  },
  {
   "cell_type": "markdown",
   "metadata": {},
   "source": [
    "#### 3.共分散行列を固有値と固有ベクトルに分解する"
   ]
  },
  {
   "cell_type": "code",
   "execution_count": 3,
   "metadata": {
    "collapsed": false
   },
   "outputs": [
    {
     "name": "stdout",
     "output_type": "stream",
     "text": [
      "[[ 1.00813008  0.08797701  0.23066952 -0.32868099  0.2141631   0.35576761\n",
      "   0.2991246  -0.16913744  0.09649074  0.56962271 -0.04781543  0.07403492\n",
      "   0.63277882]\n",
      " [ 0.08797701  1.00813008  0.2016416   0.30658143 -0.06030917 -0.30124242\n",
      "  -0.41221162  0.36616593 -0.19190146  0.30749173 -0.54992807 -0.39352761\n",
      "  -0.20253906]\n",
      " [ 0.23066952  0.2016416   1.00813008  0.44971971  0.18321413  0.12235533\n",
      "   0.06130256  0.18655693 -0.02607834  0.24555355 -0.10928021 -0.01820002\n",
      "   0.15948032]\n",
      " [-0.32868099  0.30658143  0.44971971  1.00813008 -0.08930998 -0.37018442\n",
      "  -0.41804463  0.40212108 -0.25765667 -0.03090225 -0.25313262 -0.28934372\n",
      "  -0.48504311]\n",
      " [ 0.2141631  -0.06030917  0.18321413 -0.08930998  1.00813008  0.16513295\n",
      "   0.14458703 -0.30763563  0.27228619  0.1260674   0.05792599  0.01596134\n",
      "   0.31461066]\n",
      " [ 0.35576761 -0.30124242  0.12235533 -0.37018442  0.16513295  1.00813008\n",
      "   0.88119961 -0.45396901  0.6196806  -0.06935051  0.45718802  0.72214462\n",
      "   0.56326772]\n",
      " [ 0.2991246  -0.41221162  0.06130256 -0.41804463  0.14458703  0.88119961\n",
      "   1.00813008 -0.58329952  0.66598997 -0.19183675  0.58331869  0.80205789\n",
      "   0.55759374]\n",
      " [-0.16913744  0.36616593  0.18655693  0.40212108 -0.30763563 -0.45396901\n",
      "  -0.58329952  1.00813008 -0.35394023  0.15451294 -0.3178224  -0.49379349\n",
      "  -0.36456587]\n",
      " [ 0.09649074 -0.19190146 -0.02607834 -0.25765667  0.27228619  0.6196806\n",
      "   0.66598997 -0.35394023  1.00813008 -0.07018068  0.32282167  0.51036557\n",
      "   0.35552117]\n",
      " [ 0.56962271  0.30749173  0.24555355 -0.03090225  0.1260674  -0.06935051\n",
      "  -0.19183675  0.15451294 -0.07018068  1.00813008 -0.52395358 -0.45165752\n",
      "   0.31605457]\n",
      " [-0.04781543 -0.54992807 -0.10928021 -0.25313262  0.05792599  0.45718802\n",
      "   0.58331869 -0.3178224   0.32282167 -0.52395358  1.00813008  0.60022569\n",
      "   0.2452794 ]\n",
      " [ 0.07403492 -0.39352761 -0.01820002 -0.28934372  0.01596134  0.72214462\n",
      "   0.80205789 -0.49379349  0.51036557 -0.45165752  0.60022569  1.00813008\n",
      "   0.32437157]\n",
      " [ 0.63277882 -0.20253906  0.15948032 -0.48504311  0.31461066  0.56326772\n",
      "   0.55759374 -0.36456587  0.35552117  0.31605457  0.2452794   0.32437157\n",
      "   1.00813008]]\n",
      "\n",
      "Eigenvalues \n",
      "[ 4.8923083   2.46635032  1.42809973  1.01233462  0.84906459  0.60181514\n",
      "  0.52251546  0.08414846  0.33051429  0.29595018  0.16831254  0.21432212\n",
      "  0.2399553 ]\n",
      "\n",
      "Eigenvectors \n",
      "[[  1.46698114e-01   5.04170789e-01  -1.17235150e-01   2.06254611e-01\n",
      "   -1.87815947e-01  -1.48851318e-01  -1.79263662e-01  -5.54687162e-02\n",
      "   -4.03054922e-01  -4.17197583e-01   2.75660860e-01   4.03567189e-01\n",
      "    4.13320786e-04]\n",
      " [ -2.42245536e-01   2.42168894e-01   1.49946576e-01   1.30489298e-01\n",
      "    5.68639776e-01  -2.69052764e-01  -5.92636731e-01   3.32731614e-02\n",
      "   -1.01833706e-01   2.17101488e-01  -8.13845005e-02  -1.52474999e-01\n",
      "   -8.78560762e-02]\n",
      " [ -2.99344215e-02   2.86984836e-01   6.56394387e-01   1.51536318e-02\n",
      "   -2.99209426e-01  -9.33386061e-02   6.07334578e-02  -1.00618575e-01\n",
      "    3.51841423e-01   1.28549846e-01  -1.29751275e-02   1.68376064e-01\n",
      "   -4.52518598e-01]\n",
      " [ -2.55190023e-01  -6.46871827e-02   5.84282337e-01  -9.04220851e-02\n",
      "   -4.12499478e-02  -1.01342392e-01   2.50323869e-01   5.61658566e-02\n",
      "   -5.00457282e-01   4.73344124e-02   9.89088030e-02  -6.70902926e-02\n",
      "    4.86169765e-01]\n",
      " [  1.20797723e-01   2.29953850e-01   8.22627466e-02  -8.39128346e-01\n",
      "   -2.71971315e-02   1.12567350e-01  -2.85240559e-01   9.58423947e-02\n",
      "    8.37391743e-02  -2.78918776e-01  -9.59297663e-02  -1.02396856e-01\n",
      "    1.14764951e-01]\n",
      " [  3.89344551e-01   9.36399132e-02   1.80804417e-01   1.93179478e-01\n",
      "    1.40645426e-01   1.22248798e-02   5.31455344e-02  -4.21265116e-01\n",
      "    1.35111456e-01  -2.80985650e-01   2.83897644e-01  -6.18600153e-01\n",
      "    9.45645138e-02]\n",
      " [  4.23264856e-01   1.08862204e-02   1.42959330e-01   1.40459548e-01\n",
      "    9.26866486e-02  -5.50345182e-02   7.98994076e-02   8.47224703e-01\n",
      "    3.36016514e-03  -3.91442963e-02   1.16729207e-01  -1.39680277e-01\n",
      "   -1.00444099e-01]\n",
      " [ -3.06349555e-01   1.87021637e-02   1.72234753e-01   3.37332618e-01\n",
      "   -8.58416771e-02   6.95340883e-01  -2.97371718e-01   1.66256803e-01\n",
      "    1.90120758e-01  -2.78622194e-01  -3.96566280e-02   1.63323514e-03\n",
      "    2.00128778e-01]\n",
      " [  3.05722194e-01   3.04035180e-02   1.58362102e-01  -1.14752900e-01\n",
      "    5.65105241e-01   4.98354410e-01   2.02519133e-01  -1.66197468e-01\n",
      "   -1.76029939e-01   1.48539457e-01   8.60602743e-02   3.88568490e-01\n",
      "   -1.39942067e-01]\n",
      " [ -9.86919131e-02   5.45270809e-01  -1.42421708e-01   7.87857057e-02\n",
      "    1.32346052e-02   1.59452160e-01   3.97364107e-01   3.96173606e-02\n",
      "   -2.14930670e-01  -4.10240865e-03  -5.71651893e-01  -3.08345904e-01\n",
      "   -1.15349466e-01]\n",
      " [  3.00325353e-01  -2.79243218e-01   9.32387182e-02   2.41740256e-02\n",
      "   -3.72610811e-01   2.16515349e-01  -3.84654748e-01  -1.05383688e-01\n",
      "   -5.17259438e-01   1.97814118e-01  -1.98844532e-01  -2.00456386e-01\n",
      "   -3.02254353e-01]\n",
      " [  3.68211538e-01  -1.74365000e-01   1.96077407e-01   1.84028641e-01\n",
      "    8.93796748e-02  -2.35172361e-01  -8.62903341e-02  -9.95055559e-02\n",
      "    1.36456039e-01  -2.38138151e-01  -6.50869713e-01   2.84100327e-01\n",
      "    3.18414303e-01]\n",
      " [  2.92597130e-01   3.63154608e-01  -9.73171134e-02   5.67677845e-02\n",
      "   -2.17529485e-01   1.05621383e-01  -1.30298291e-01  -1.60661776e-02\n",
      "    1.67758429e-01   6.37350206e-01   7.12377082e-02   3.75546771e-02\n",
      "    5.03247839e-01]]\n"
     ]
    }
   ],
   "source": [
    "# 固有値と固有ベクトルを計算\n",
    "eigen_vals, eigen_vecs = np.linalg.eig(cov_mat)\n",
    "print(cov_mat)\n",
    "print('\\nEigenvalues \\n%s' % eigen_vals)\n",
    "print('\\nEigenvectors \\n%s' % eigen_vecs)"
   ]
  },
  {
   "cell_type": "markdown",
   "metadata": {},
   "source": [
    "#### 4.最も大きいk個の固有値に対応するk個の固有ベクトルを選択する（このkは新しい特徴部分空間の次元数を表す）"
   ]
  },
  {
   "cell_type": "markdown",
   "metadata": {
    "collapsed": true
   },
   "source": [
    "データセットを新しい特徴部分空間に圧縮する方法で次元を削減するため、データに含まれる大半の情報（分散）を含んでいる固有ベクトル（主成分）だけを選択する<br>\n",
    "固有値は固有ベクトルの大きさを表すため、大きいものから上位k個を選択する<br>\n",
    "固有値の合計に対する特定の固有値の割合を分散説明率といい、これが高いものから選択する。分散説明率の式は以下<br>\n",
    "$$\n",
    "\\frac{\\lambda_j}{\\sum_{j=1}^{d}\\lambda_j}\n",
    "$$\n"
   ]
  },
  {
   "cell_type": "code",
   "execution_count": 4,
   "metadata": {
    "collapsed": false
   },
   "outputs": [
    {
     "data": {
      "image/png": "[encoded data removed]",
      "text/plain": [
       "<matplotlib.figure.Figure at 0x7fd66500c890>"
      ]
     },
     "metadata": {},
     "output_type": "display_data"
    }
   ],
   "source": [
    "# 分散説明率をプロットする\n",
    "# 固有値を合計\n",
    "tot = sum(eigen_vals)\n",
    "# 分散説明率を計算\n",
    "var_exp = [(i / tot) for i in sorted(eigen_vals, reverse=True)]\n",
    "# 分散説明率の累積和を取得\n",
    "cum_var_exp = np.cumsum(var_exp)\n",
    "\n",
    "import matplotlib.pyplot as plt\n",
    "\n",
    "# 分散説明率の棒グラフを作成\n",
    "plt.bar(range(1, 14), var_exp, alpha=0.5, align='center', label='individual explained variance')\n",
    "# 分散累積和の階段グラフを作成(stepで階段グラフを作成)\n",
    "plt.step(range(1, 14), cum_var_exp, where='mid', label='cumulative explained variance')\n",
    "plt.ylabel('Explained variance ratio')\n",
    "plt.xlabel('Principal components')\n",
    "plt.legend(loc='best')\n",
    "plt.show()"
   ]
  },
  {
   "cell_type": "markdown",
   "metadata": {},
   "source": [
    "上記から1つ目の主成分だけで、分散の40%近くを占め、2つで60％近くになることがわかる<br>\n",
    "また、ランダムフォレストの特徴量の重要度と異なり、これは教師なしのデータ圧縮法であり、クラスラベルに関する情報は使用していない"
   ]
  },
  {
   "cell_type": "markdown",
   "metadata": {},
   "source": [
    "#### 5. 上位k個の固有ベクトルから、射影行列$W$を作成する"
   ]
  },
  {
   "cell_type": "code",
   "execution_count": 5,
   "metadata": {
    "collapsed": false
   },
   "outputs": [
    {
     "name": "stdout",
     "output_type": "stream",
     "text": [
      "Matrix W:\n",
      "[[ 0.14669811  0.50417079]\n",
      " [-0.24224554  0.24216889]\n",
      " [-0.02993442  0.28698484]\n",
      " [-0.25519002 -0.06468718]\n",
      " [ 0.12079772  0.22995385]\n",
      " [ 0.38934455  0.09363991]\n",
      " [ 0.42326486  0.01088622]\n",
      " [-0.30634956  0.01870216]\n",
      " [ 0.30572219  0.03040352]\n",
      " [-0.09869191  0.54527081]\n",
      " [ 0.30032535 -0.27924322]\n",
      " [ 0.36821154 -0.174365  ]\n",
      " [ 0.29259713  0.36315461]]\n"
     ]
    }
   ],
   "source": [
    "# (固有値, 固有ベクトル) のタプルのリストを作成\n",
    "eigen_pairs = [(np.abs(eigen_vals[i]), eigen_vecs[:, i]) for i in range(len(eigen_vals))]\n",
    "# 固有値の降順に並べ替える\n",
    "eigen_pairs.sort(key=lambda k: k[0], reverse=True)\n",
    "# 例として上位2つの固有ベクトルを選択する\n",
    "w = np.hstack((eigen_pairs[0][1][:, np.newaxis], eigen_pairs[1][1][:, np.newaxis]))\n",
    "print 'Matrix W:\\n', w"
   ]
  },
  {
   "cell_type": "markdown",
   "metadata": {},
   "source": [
    "上記により13$\\times$2次元の射影行列$W$が作成される<br>"
   ]
  },
  {
   "cell_type": "markdown",
   "metadata": {},
   "source": [
    "#### 6. 射影行列$W$を利用し、d次元の入力データセット$X$をk次元の部分空間に射影する"
   ]
  },
  {
   "cell_type": "markdown",
   "metadata": {},
   "source": [
    "1サンプルの変換を行う式は以下の通り<br>\n",
    "$$\n",
    "{\\bf x'} = {\\bf xW}\n",
    "$$"
   ]
  },
  {
   "cell_type": "code",
   "execution_count": 6,
   "metadata": {
    "collapsed": false
   },
   "outputs": [
    {
     "data": {
      "text/plain": [
       "array([ 2.59891628,  0.00484089])"
      ]
     },
     "execution_count": 6,
     "metadata": {},
     "output_type": "execute_result"
    }
   ],
   "source": [
    "# 最初のサンプルを変換\n",
    "X_train_std[0].dot(w)"
   ]
  },
  {
   "cell_type": "markdown",
   "metadata": {},
   "source": [
    "同様にすべてのごレーニングデータを変換する式は以下\n",
    "$$\n",
    "{\\bf X'} = {\\bf XW}\n",
    "$$"
   ]
  },
  {
   "cell_type": "code",
   "execution_count": 7,
   "metadata": {
    "collapsed": true
   },
   "outputs": [],
   "source": [
    "X_train_pca = X_train_std.dot(w)"
   ]
  },
  {
   "cell_type": "code",
   "execution_count": 8,
   "metadata": {
    "collapsed": false
   },
   "outputs": [
    {
     "data": {
      "image/png": "[encoded data removed]",
      "text/plain": [
       "<matplotlib.figure.Figure at 0x7fd66114ac50>"
      ]
     },
     "metadata": {},
     "output_type": "display_data"
    }
   ],
   "source": [
    "# 変換後の特徴量をプロット\n",
    "colors = ['red', 'blue', 'green']\n",
    "markers = ['s', 'x', 'o']\n",
    "# クラスラベル、点の色、点の種類の組み合わせからなるリストを生成してプロット\n",
    "for l, c, m in zip(np.unique(y_train), colors, markers):\n",
    "    plt.scatter(X_train_pca[y_train==l, 0], X_train_pca[y_train==l, 1], c=c, label=l, marker=m)\n",
    "    \n",
    "plt.xlabel('PC 1')\n",
    "plt.ylabel('PC 2')\n",
    "plt.legend(loc='lower left')\n",
    "plt.show()"
   ]
  },
  {
   "cell_type": "markdown",
   "metadata": {},
   "source": [
    "#### scikit-learnのpcaを試す"
   ]
  },
  {
   "cell_type": "code",
   "execution_count": 9,
   "metadata": {
    "collapsed": true
   },
   "outputs": [],
   "source": [
    "from matplotlib.colors import ListedColormap\n",
    "import matplotlib.pyplot as plt\n",
    "\n",
    "def plot_decision_regions(X, y, classifier, test_idx=None, resolution=0.02, xlabel='x', ylabel='y', title='title', legend_loc='upper left'):\n",
    "    \n",
    "    # マーカーとカラーマップの準備\n",
    "    markers = ('s', 'o', 'v', '^', 'x')\n",
    "    colors = ('red', 'blue', 'lightgreen', 'gray', 'cyan')\n",
    "    cmap = ListedColormap(colors[:len(np.unique(y))])\n",
    "    \n",
    "    # 決定領域のプロット\n",
    "    x1_min, x1_max = X[:, 0].min() - 1, X[:, 0].max() + 1\n",
    "    x2_min, x2_max = X[:, 1].min() - 1, X[:, 1].max() + 1\n",
    "    # グリッドポイントの生成\n",
    "    xx1, xx2 = np.meshgrid(np.arange(x1_min, x1_max, resolution),\n",
    "                           np.arange(x2_min, x2_max, resolution))\n",
    "    \n",
    "    # 各特徴量を1次元配列に変換して予測を実行\n",
    "    Z = classifier.predict(np.array([xx1.ravel(), xx2.ravel()]).T)\n",
    "    # 予測結果を元のグリッドポイントのデータサイズに変換\n",
    "    Z = Z.reshape(xx1.shape)\n",
    "    # グリッドポイントの等高線のプロット\n",
    "    plt.contourf(xx1, xx2, Z, aplha=0.4, cmap=cmap)\n",
    "    # 軸の範囲の設定\n",
    "    plt.xlim(xx1.min(), xx1.max())\n",
    "    plt.ylim(xx2.min(), xx2.max())\n",
    "    \n",
    "        # クラスごとにサンプルをプロット\n",
    "    for idx, cl in enumerate(np.unique(y)):\n",
    "        plt.scatter(x=X[y == cl, 0], y=X[y == cl, 1], alpha=0.8, c=cmap(idx), marker=markers[idx], label=cl)\n",
    "        \n",
    "    # テストサンプルを目立たせる\n",
    "    if test_idx:\n",
    "        X_test, y_test = X[test_idx, :], y[test_idx]\n",
    "        plt.scatter(X_test[:, 0], X_test[:, 1], c='',\n",
    "                   alpha=1.0, linewidths=1, marker='o',\n",
    "                   s=55, label='test set')\n",
    "        \n",
    "    # 軸のラベルの設定\n",
    "    plt.xlabel(xlabel)\n",
    "    plt.ylabel(ylabel)\n",
    "    # タイトル設定\n",
    "    plt.title(title)\n",
    "    # 凡例の設定\n",
    "    plt.legend(loc=legend_loc)\n",
    "    # 図の表示\n",
    "    plt.show()"
   ]
  },
  {
   "cell_type": "code",
   "execution_count": 10,
   "metadata": {
    "collapsed": false
   },
   "outputs": [
    {
     "data": {
      "image/png": "[encoded data removed]",
      "text/plain": [
       "<matplotlib.figure.Figure at 0x7fd66500c710>"
      ]
     },
     "metadata": {},
     "output_type": "display_data"
    }
   ],
   "source": [
    "from sklearn.linear_model import LogisticRegression\n",
    "from sklearn.decomposition import PCA\n",
    "\n",
    "# 主成分数を指定し、PCAのインスタンスを生成\n",
    "pca = PCA(n_components=2)\n",
    "# ロジスティック回帰のインスタンスを生成\n",
    "lr = LogisticRegression()\n",
    "# データをPCAで変換\n",
    "X_train_pca = pca.fit_transform(X_train_std)\n",
    "X_test_pca = pca.transform(X_test_std)\n",
    "# 変換したデータをロジスティック回帰に適合させる\n",
    "lr.fit(X_train_pca, y_train)\n",
    "# 決定境界をプロット\n",
    "plot_decision_regions(X_train_pca, y_train, classifier=lr, xlabel='PC1', ylabel='PC2')"
   ]
  },
  {
   "cell_type": "code",
   "execution_count": 11,
   "metadata": {
    "collapsed": false
   },
   "outputs": [
    {
     "data": {
      "image/png": "[encoded data removed]",
      "text/plain": [
       "<matplotlib.figure.Figure at 0x7fd698334a90>"
      ]
     },
     "metadata": {},
     "output_type": "display_data"
    }
   ],
   "source": [
    "# テストデータでも同様にプロット\n",
    "plot_decision_regions(X_test_pca, y_test, classifier=lr, xlabel='PC1', ylabel='PC2')"
   ]
  },
  {
   "cell_type": "code",
   "execution_count": 12,
   "metadata": {
    "collapsed": false
   },
   "outputs": [
    {
     "data": {
      "text/plain": [
       "array([ 0.37329648,  0.18818926,  0.10896791,  0.07724389,  0.06478595,\n",
       "        0.04592014,  0.03986936,  0.02521914,  0.02258181,  0.01830924,\n",
       "        0.01635336,  0.01284271,  0.00642076])"
      ]
     },
     "execution_count": 12,
     "metadata": {},
     "output_type": "execute_result"
    }
   ],
   "source": [
    "# すべての主成分の分散説明率に関心がある場合は、以下のようにする\n",
    "pca = PCA(n_components=None)\n",
    "X_train_pca = pca.fit_transform(X_train_std)\n",
    "# 分散説明率を計算\n",
    "pca.explained_variance_ratio_"
   ]
  }
 ],
 "metadata": {
  "kernelspec": {
   "display_name": "Python 2",
   "language": "python",
   "name": "python2"
  },
  "language_info": {
   "codemirror_mode": {
    "name": "ipython",
    "version": 2
   },
   "file_extension": ".py",
   "mimetype": "text/x-python",
   "name": "python",
   "nbconvert_exporter": "python",
   "pygments_lexer": "ipython2",
   "version": "2.7.12"
  }
 },
 "nbformat": 4,
 "nbformat_minor": 1
}
