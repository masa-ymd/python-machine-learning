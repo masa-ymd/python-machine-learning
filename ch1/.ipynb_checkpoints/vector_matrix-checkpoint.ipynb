{
 "cells": [
  {
   "cell_type": "markdown",
   "metadata": {},
   "source": [
    "i番目のトレーニングサンプルを上付き文字iで表し、トレーニングセットのj番目の次元を下付き文字jで表す"
   ]
  },
  {
   "cell_type": "markdown",
   "metadata": {
    "collapsed": false
   },
   "source": [
    "ベクトルは太字の小文字\n",
    "$\\bf{x} \\in \\mathbb{R}^{n\\times1}$\n",
    "で表し、<br>\n",
    "行列は太字の小文字\n",
    "$\\bf{X} \\in \\mathbb{R}^{n\\times m}$\n",
    "で表す"
   ]
  },
  {
   "cell_type": "markdown",
   "metadata": {},
   "source": [
    "${\\bf x} \\in {\\mathbb R}^{4\\times1}$は<br>\n",
    "${\\bf x}^{(i)} = \\bigl[ x^{(i)}_{1}, x^{(i)}_{2}, x^{(i)}_{3}, x^{(i)}_{4} \\bigr]$<br>\n",
    "${\\bf x} \\in \\mathbb{R}^{150\\times1}$は<br>\n",
    "${\\bf x}_{j} = \\left[\n",
    "\\begin{array}{r}\n",
    "x^{(1)}_{j}\\\\\n",
    "x^{(2)}_{j}\\\\\n",
    "x^{(3)}_{j}\\\\\n",
    "\\vdots \\\\\n",
    "x^{(150)}_{j}\\\\\n",
    "\\end{array}\\right]$"
   ]
  }
 ],
 "metadata": {
  "kernelspec": {
   "display_name": "Python 2",
   "language": "python",
   "name": "python2"
  },
  "language_info": {
   "codemirror_mode": {
    "name": "ipython",
    "version": 2
   },
   "file_extension": ".py",
   "mimetype": "text/x-python",
   "name": "python",
   "nbconvert_exporter": "python",
   "pygments_lexer": "ipython2",
   "version": "2.7.12"
  }
 },
 "nbformat": 4,
 "nbformat_minor": 1
}
