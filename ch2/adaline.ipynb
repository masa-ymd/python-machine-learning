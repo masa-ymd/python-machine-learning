{
 "cells": [
  {
   "cell_type": "markdown",
   "metadata": {},
   "source": [
    "目的関数-> 最小化したいコスト関数J（連続値の活性化関数）\n",
    "\n",
    "$$\n",
    "\\begin{eqnarray}\n",
    "J(w) = \\frac{1}{2}\\sum_{i}(y^{(i)}-\\phi(z^{(i)}))^2\n",
    "\\end{eqnarray}\n",
    "$$\n",
    "\n",
    "微分可能、凸関数-> 勾配降下法\n",
    "勾配降下法をつかって重みを更新するには$$J(w)$$の勾配$$\\nabla J(w)$$（重みベクトルwに関する偏導関数）に沿って1ステップ進む\n",
    "\n",
    "$$\n",
    "w := w + \\Delta w\n",
    "$$\n",
    "$$\\Delta w $$は負の勾配に学習率 $$\\eta$$ を掛けたもの\n",
    "$$\n",
    "\\Delta w = - \\eta \\nabla J(w)\n",
    "$$\n",
    "\n",
    "$$\n",
    "\\nabla J(w) = \\frac{\\partial J}{\\partial w_{j}} \n",
    "$$\n",
    "$$\n",
    "= \\frac{\\partial}{\\partial w_{j}} \\frac {1}{2}\\sum_{i}(y^{(i)} - \\phi(x^{(i)}))^{2}\n",
    "$$\n",
    "$$\n",
    "= \\frac{1}{2}\\frac{\\partial}{\\partial w_{j}} \\sum_{i}(y^{(i)} - \\phi(x^{(i)}))^{2}\n",
    "$$\n",
    "$$\n",
    "= \\frac{1}{2}\\sum_i 2(y^{(i)} - \\phi (z^{(i)}))\\frac {\\partial}{\\partial w_j}(y^{(i)} - \\phi(z^{(i)}))\n",
    "$$\n",
    "$$\n",
    "= \\sum_i(y^{(i)} - \\phi(z^{(i)}))\\frac{\\partial}{\\partial w_j}[y^{(i)} - \\sum_k(w_k x_k^{(i)})]\n",
    "$$\n",
    "$$\n",
    "= \\sum_i(y^{(i)} - \\phi(z^{(i)}))(-x_j^{(i)})\n",
    "$$\n",
    "$$\n",
    "= - \\sum_i(y^{(i)} - \\phi(z^{(i)}))x_j^{(i)}\n",
    "$$\n",
    "$$\n",
    "\\Delta w_j = - \\eta \\frac{\\partial J}{\\partial w_j} = \\eta \\sum_i(y^{(i)} - \\phi(z^{(i)}))x_j^{(i)}\n",
    "$$"
   ]
  },
  {
   "cell_type": "code",
   "execution_count": null,
   "metadata": {
    "collapsed": true
   },
   "outputs": [],
   "source": []
  }
 ],
 "metadata": {
  "kernelspec": {
   "display_name": "Python 2",
   "language": "python",
   "name": "python2"
  },
  "language_info": {
   "codemirror_mode": {
    "name": "ipython",
    "version": 2
   },
   "file_extension": ".py",
   "mimetype": "text/x-python",
   "name": "python",
   "nbconvert_exporter": "python",
   "pygments_lexer": "ipython2",
   "version": "2.7.12"
  }
 },
 "nbformat": 4,
 "nbformat_minor": 1
}
