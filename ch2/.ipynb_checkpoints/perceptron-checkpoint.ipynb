{
 "cells": [
  {
   "cell_type": "markdown",
   "metadata": {},
   "source": [
    "Rosenblattによるパーセプトロンの初期の学習規則\n",
    "1. 重みを0または値の小さい乱数で初期化\n",
    "2. トレーニングサンプル $ \\bf{x^{(i)}} $ごとに以下の手順を実行<br>\n",
    "2-1. 出力値 $ \\hat{y} $ を計算する<br>\n",
    "2-2. 重みを更新する"
   ]
  },
  {
   "cell_type": "markdown",
   "metadata": {},
   "source": [
    "重みを更新する式<br>\n",
    "$ {\\bf w}_j := {\\bf w}_j + \\Delta{\\bf w}_j $<br>\n",
    "$ \\Delta{\\bf w}_j = \\eta({\\bf y}^{(i)} - {\\bf\\hat y}^{(i)}){\\bf x}^{(i)} $\n"
   ]
  },
  {
   "cell_type": "code",
   "execution_count": 1,
   "metadata": {
    "collapsed": false
   },
   "outputs": [],
   "source": [
    "import numpy as np\n",
    "\n",
    "class Perceptron(object):\n",
    "    '''\n",
    "    パーセプトロン分類器\n",
    "    \n",
    "    パラメータ\n",
    "    ----\n",
    "    eta : float -学習率 (0.0 <= eta <= 1.0)\n",
    "    n_itr : int -トレーニング回数\n",
    "    \n",
    "    属性\n",
    "    ----\n",
    "    w_ : 一次元配列 -fit後の重み\n",
    "    errors_ : リスト -各エポックでの誤分類数\n",
    "    '''\n",
    "    \n",
    "    \n",
    "    def __init__(self, eta=0.01, n_iter=10):\n",
    "        self.eta = eta\n",
    "        self.n_iter = n_iter\n",
    "    \n",
    "    \n",
    "    def fit(self, X, y):\n",
    "        \"\"\"\n",
    "        トレーニングデータに適合（fit）させる\n",
    "        \n",
    "        パラメータ\n",
    "        ----\n",
    "        X : 配列, shape = [n_samples, n_features] -トレーニングデータ\n",
    "        y : 配列, shape = [n_samples] -目的変数\n",
    "        \n",
    "        戻り値\n",
    "        ----\n",
    "        self : object\n",
    "        \"\"\"\n",
    "        \n",
    "        self.w_ = np.zeros(1 + X.shape[1])\n",
    "        self.errors_ = []\n",
    "        \n",
    "        for _ in range(self.n_iter): # n_iter回トレーニングデータを反復\n",
    "            errors = 0\n",
    "            for xi, target in zip(X, y): # 各サンプルで重みを更新\n",
    "                # 重み w_1…, w_mの更新\n",
    "                # ⊿w_j = η(y_i - ^y_i)x_i_j (j=1,…,m)\n",
    "                update = self.eta * (target - self.predict(xi))\n",
    "                self.w_[1:] += update * xi\n",
    "                # 重み w_0の更新:⊿w_0 = η(y_i - ^y_i)\n",
    "                self.w_[0] += update\n",
    "                # 重みの更新が0でない場合は誤分類としてカウント\n",
    "                errors += int(update != 0.0)\n",
    "            # 反復回数ごとの誤差を格納\n",
    "            self.errors_.append(errors)\n",
    "        return self\n",
    "    \n",
    "    \n",
    "    def net_input(self, X):\n",
    "        \"\"\"\n",
    "        総入力を計算\n",
    "        \"\"\"\n",
    "        return np.dot(X, self.w_[1:]) + self.w_[0]\n",
    "    \n",
    "    \n",
    "    def predict(self, X):\n",
    "        \"\"\"\n",
    "        1ステップ後のクラスラベルを返す\n",
    "        \"\"\"\n",
    "        return np.where(self.net_input(X) >= 0.0, 1, -1)"
   ]
  },
  {
   "cell_type": "code",
   "execution_count": 2,
   "metadata": {
    "collapsed": false
   },
   "outputs": [
    {
     "data": {
      "text/html": [
       "<div>\n",
       "<table border=\"1\" class=\"dataframe\">\n",
       "  <thead>\n",
       "    <tr style=\"text-align: right;\">\n",
       "      <th></th>\n",
       "      <th>0</th>\n",
       "      <th>1</th>\n",
       "      <th>2</th>\n",
       "      <th>3</th>\n",
       "      <th>4</th>\n",
       "    </tr>\n",
       "  </thead>\n",
       "  <tbody>\n",
       "    <tr>\n",
       "      <th>145</th>\n",
       "      <td>6.7</td>\n",
       "      <td>3.0</td>\n",
       "      <td>5.2</td>\n",
       "      <td>2.3</td>\n",
       "      <td>Iris-virginica</td>\n",
       "    </tr>\n",
       "    <tr>\n",
       "      <th>146</th>\n",
       "      <td>6.3</td>\n",
       "      <td>2.5</td>\n",
       "      <td>5.0</td>\n",
       "      <td>1.9</td>\n",
       "      <td>Iris-virginica</td>\n",
       "    </tr>\n",
       "    <tr>\n",
       "      <th>147</th>\n",
       "      <td>6.5</td>\n",
       "      <td>3.0</td>\n",
       "      <td>5.2</td>\n",
       "      <td>2.0</td>\n",
       "      <td>Iris-virginica</td>\n",
       "    </tr>\n",
       "    <tr>\n",
       "      <th>148</th>\n",
       "      <td>6.2</td>\n",
       "      <td>3.4</td>\n",
       "      <td>5.4</td>\n",
       "      <td>2.3</td>\n",
       "      <td>Iris-virginica</td>\n",
       "    </tr>\n",
       "    <tr>\n",
       "      <th>149</th>\n",
       "      <td>5.9</td>\n",
       "      <td>3.0</td>\n",
       "      <td>5.1</td>\n",
       "      <td>1.8</td>\n",
       "      <td>Iris-virginica</td>\n",
       "    </tr>\n",
       "  </tbody>\n",
       "</table>\n",
       "</div>"
      ],
      "text/plain": [
       "       0    1    2    3               4\n",
       "145  6.7  3.0  5.2  2.3  Iris-virginica\n",
       "146  6.3  2.5  5.0  1.9  Iris-virginica\n",
       "147  6.5  3.0  5.2  2.0  Iris-virginica\n",
       "148  6.2  3.4  5.4  2.3  Iris-virginica\n",
       "149  5.9  3.0  5.1  1.8  Iris-virginica"
      ]
     },
     "execution_count": 2,
     "metadata": {},
     "output_type": "execute_result"
    }
   ],
   "source": [
    "import pandas as pd\n",
    "\n",
    "df = pd.read_csv('https://archive.ics.uci.edu/ml/machine-learning-databases/iris/iris.data', header=None)\n",
    "df.tail()"
   ]
  },
  {
   "cell_type": "code",
   "execution_count": 3,
   "metadata": {
    "collapsed": false
   },
   "outputs": [
    {
     "data": {
      "image/png": "[encoded data removed]",
      "text/plain": [
       "<matplotlib.figure.Figure at 0x7fedc36c21d0>"
      ]
     },
     "metadata": {},
     "output_type": "display_data"
    }
   ],
   "source": [
    "import matplotlib.pyplot as plt\n",
    "import numpy as np\n",
    "\n",
    "# 1-100行目の目的変数抽出\n",
    "y = df.iloc[0:100, 4].values\n",
    "# Iris-setosaを-1に、Iris-versicolorを1に変換\n",
    "y = np.where(y == 'Iris-setosa', -1, 1)\n",
    "# 1-100行目の1, 3項目目を抽出\n",
    "X = df.iloc[0:100, [0,2]].values\n",
    "# Iris-setosaのプロット\n",
    "plt.scatter(X[:50, 0], X[:50, 1], color='red', marker='o', label='setosa')\n",
    "# Iris-versicolorのプロット\n",
    "plt.scatter(X[50:100, 0], X[50:100, 1], color='blue', marker='x', label='versicolor')\n",
    "# 軸のラベル設定\n",
    "plt.xlabel('sepal length [cm]')\n",
    "plt.ylabel('petal length [cm]')\n",
    "# 凡例の設定\n",
    "plt.legend(loc='upper left')\n",
    "# 図の表示\n",
    "plt.show()"
   ]
  },
  {
   "cell_type": "code",
   "execution_count": 4,
   "metadata": {
    "collapsed": false
   },
   "outputs": [
    {
     "data": {
      "image/png": "[encoded data removed]",
      "text/plain": [
       "<matplotlib.figure.Figure at 0x7fedbebdeb10>"
      ]
     },
     "metadata": {},
     "output_type": "display_data"
    }
   ],
   "source": [
    "# パーセプトロンのオブジェクト生成（インスタンス化）\n",
    "ppn = Perceptron(eta=0.1, n_iter=10)\n",
    "# トレーニングデータへのモデルの適合\n",
    "ppn.fit(X, y)\n",
    "# エポックと誤分類誤差の関係の折れ線グラフをプロット\n",
    "plt.plot(range(1, len(ppn.errors_) + 1), ppn.errors_, marker='o')\n",
    "# 軸のラベルの設定\n",
    "plt.xlabel('Epochs')\n",
    "plt.ylabel('Number of misclassifications')\n",
    "# 図の表示\n",
    "plt.show()"
   ]
  },
  {
   "cell_type": "code",
   "execution_count": 5,
   "metadata": {
    "collapsed": true
   },
   "outputs": [],
   "source": [
    "from matplotlib.colors import ListedColormap\n",
    "\n",
    "def plot_decision_regions(X, y, classifier, resolution=0.02, xlabel='x', ylabel='y', legend_loc='upper left'):\n",
    "    \n",
    "    # マーカーとカラーマップの準備\n",
    "    markers = ('s', 'o', 'x', '^', 'v')\n",
    "    colors = ('red', 'blue', 'lightgreen', 'gray', 'cyan')\n",
    "    cmap = ListedColormap(colors[:len(np.unique(y))])\n",
    "    \n",
    "    # 決定領域のプロット\n",
    "    x1_min, x1_max = X[:, 0].min() - 1, X[:, 0].max() + 1\n",
    "    x2_min, x2_max = X[:, 1].min() - 1, X[:, 1].max() + 1\n",
    "    # グリッドポイントの生成\n",
    "    xx1, xx2 = np.meshgrid(np.arange(x1_min, x1_max, resolution),\n",
    "                           np.arange(x2_min, x2_max, resolution))\n",
    "    print 'xx1'\n",
    "    print xx1\n",
    "    print 'xx2'\n",
    "    print xx2\n",
    "    print 'xx1.ravel()'\n",
    "    print xx1.ravel()\n",
    "    print 'xx2.ravel()'\n",
    "    print xx2.ravel()\n",
    "    \n",
    "    # 各特徴量を1次元配列に変換して予測を実行\n",
    "    Z = classifier.predict(np.array([xx1.ravel(), xx2.ravel()]).T)\n",
    "    # 予測結果を元のグリッドポイントのデータサイズに変換\n",
    "    Z = Z.reshape(xx1.shape)\n",
    "    print 'Z'\n",
    "    print Z\n",
    "    # グリッドポイントの等高線のプロット\n",
    "    plt.contourf(xx1, xx2, Z, aplha=0.4, cmap=cmap)\n",
    "    # 軸の範囲の設定\n",
    "    plt.xlim(xx1.min(), xx1.max())\n",
    "    plt.ylim(xx2.min(), xx2.max())\n",
    "    \n",
    "    # クラスごとにサンプルをプロット\n",
    "    for idx, cl in enumerate(np.unique(y)):\n",
    "        plt.scatter(x=X[y == cl, 0], y=X[y == cl, 1], alpha=0.8, c=cmap(idx), marker=markers[idx], label=cl)\n",
    "        \n",
    "    # 軸のラベルの設定\n",
    "    plt.xlabel(xlabel)\n",
    "    plt.ylabel(ylabel)\n",
    "    # 凡例の設定\n",
    "    plt.legend(loc=legend_loc)\n",
    "    # 図の表示\n",
    "    plt.show()"
   ]
  },
  {
   "cell_type": "code",
   "execution_count": 6,
   "metadata": {
    "collapsed": false
   },
   "outputs": [
    {
     "name": "stdout",
     "output_type": "stream",
     "text": [
      "xx1\n",
      "[[ 3.3   3.32  3.34 ...,  7.94  7.96  7.98]\n",
      " [ 3.3   3.32  3.34 ...,  7.94  7.96  7.98]\n",
      " [ 3.3   3.32  3.34 ...,  7.94  7.96  7.98]\n",
      " ..., \n",
      " [ 3.3   3.32  3.34 ...,  7.94  7.96  7.98]\n",
      " [ 3.3   3.32  3.34 ...,  7.94  7.96  7.98]\n",
      " [ 3.3   3.32  3.34 ...,  7.94  7.96  7.98]]\n",
      "xx2\n",
      "[[ 0.    0.    0.   ...,  0.    0.    0.  ]\n",
      " [ 0.02  0.02  0.02 ...,  0.02  0.02  0.02]\n",
      " [ 0.04  0.04  0.04 ...,  0.04  0.04  0.04]\n",
      " ..., \n",
      " [ 6.04  6.04  6.04 ...,  6.04  6.04  6.04]\n",
      " [ 6.06  6.06  6.06 ...,  6.06  6.06  6.06]\n",
      " [ 6.08  6.08  6.08 ...,  6.08  6.08  6.08]]\n",
      "xx1.ravel()\n",
      "[ 3.3   3.32  3.34 ...,  7.94  7.96  7.98]\n",
      "xx2.ravel()\n",
      "[ 0.    0.    0.   ...,  6.08  6.08  6.08]\n",
      "Z\n",
      "[[-1 -1 -1 ..., -1 -1 -1]\n",
      " [-1 -1 -1 ..., -1 -1 -1]\n",
      " [-1 -1 -1 ..., -1 -1 -1]\n",
      " ..., \n",
      " [ 1  1  1 ...,  1  1  1]\n",
      " [ 1  1  1 ...,  1  1  1]\n",
      " [ 1  1  1 ...,  1  1  1]]\n"
     ]
    },
    {
     "data": {
      "image/png": "[encoded data removed]",
      "text/plain": [
       "<matplotlib.figure.Figure at 0x7fedc0dbc250>"
      ]
     },
     "metadata": {},
     "output_type": "display_data"
    }
   ],
   "source": [
    "# 決定領域のプロット\n",
    "plot_decision_regions(X, y, classifier=ppn, xlabel='sepal length [cm]', ylabel='petal length [cm]')"
   ]
  },
  {
   "cell_type": "code",
   "execution_count": null,
   "metadata": {
    "collapsed": true
   },
   "outputs": [],
   "source": []
  }
 ],
 "metadata": {
  "kernelspec": {
   "display_name": "Python 2",
   "language": "python",
   "name": "python2"
  },
  "language_info": {
   "codemirror_mode": {
    "name": "ipython",
    "version": 2
   },
   "file_extension": ".py",
   "mimetype": "text/x-python",
   "name": "python",
   "nbconvert_exporter": "python",
   "pygments_lexer": "ipython2",
   "version": "2.7.12"
  }
 },
 "nbformat": 4,
 "nbformat_minor": 1
}
