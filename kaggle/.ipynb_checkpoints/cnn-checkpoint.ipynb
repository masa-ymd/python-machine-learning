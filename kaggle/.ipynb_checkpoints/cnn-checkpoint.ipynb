{
 "cells": [
  {
   "cell_type": "markdown",
   "metadata": {},
   "source": [
    "### 畳み込みニューラルネットワーク (Convolutional Neural Network)"
   ]
  },
  {
   "cell_type": "code",
   "execution_count": 1,
   "metadata": {
    "collapsed": false
   },
   "outputs": [],
   "source": [
    "# データを読み込み\n",
    "import pandas as pd\n",
    "train = pd.read_csv('./data/mnist_train.csv')\n",
    "test = pd.read_csv('./data/mnist_test.csv')\n",
    "\n",
    "X_train = train.ix[:, 1:].values\n",
    "y_train = train.ix[:, 0].values\n",
    "X_test = test.values"
   ]
  },
  {
   "cell_type": "code",
   "execution_count": 2,
   "metadata": {
    "collapsed": false
   },
   "outputs": [
    {
     "name": "stderr",
     "output_type": "stream",
     "text": [
      "Using TensorFlow backend.\n"
     ]
    }
   ],
   "source": [
    "import theano\n",
    "from keras.utils import np_utils\n",
    "\n",
    "# データ型を変換\n",
    "theano.config.floatX = 'float32'\n",
    "\n",
    "X_train = X_train.astype(theano.config.floatX)\n",
    "X_test = X_test.astype(theano.config.floatX)\n",
    "\n",
    "# 正規化\n",
    "X_train /= 255\n",
    "X_test /= 255\n",
    "\n",
    "# one-hot エンコーディング\n",
    "y_train_ohe = np_utils.to_categorical(y_train, num_classes=10)"
   ]
  },
  {
   "cell_type": "code",
   "execution_count": 3,
   "metadata": {
    "collapsed": true
   },
   "outputs": [],
   "source": [
    "from keras import backend as K\n",
    "# theanoとtensorflowで受け付ける４次元配列の並びが違うので表示して確認\n",
    "# print K.image_dim_ordering()"
   ]
  },
  {
   "cell_type": "code",
   "execution_count": 4,
   "metadata": {
    "collapsed": false
   },
   "outputs": [],
   "source": [
    "# 畳み込みニューラルネットでは、入力する画像の形状を保つためにデータを４次元配列に変換\n",
    "# サンプルサイズ, 1画像の縦幅, 横幅, チャネル（白黒なら1）\n",
    "X_train = X_train.reshape(X_train.shape[0], 28, 28, 1)\n",
    "X_test = X_test.reshape(X_test.shape[0], 28, 28, 1)\n",
    "# 第1層の引数に必要な画像サイズを定義\n",
    "input_shape = (28, 28, 1)"
   ]
  },
  {
   "cell_type": "code",
   "execution_count": 5,
   "metadata": {
    "collapsed": false
   },
   "outputs": [],
   "source": [
    "# 重みを可視化\n",
    "import matplotlib.pyplot as plt\n",
    "from sklearn.preprocessing import MinMaxScaler\n",
    "\n",
    "def visualize_filter(model):\n",
    "    # 最初の畳み込み層の重みを取得\n",
    "    # tf => (nb_row, nb_col, nb_channel, nb_filter)\n",
    "    # th => (nb_filter, nb_channel, nb_row, nb_col)\n",
    "    W = model.layers[0].get_weights()[0]\n",
    "\n",
    "    # 次元を並べ替え\n",
    "    if K.image_dim_ordering() == 'tf':\n",
    "        # (nb_filter, nb_channel, nb_row, nb_col)\n",
    "        W = W.transpose(3, 2, 0, 1)\n",
    "\n",
    "    nb_filter, nb_channel, nb_row, nb_col = W.shape\n",
    "    \n",
    "    # フィルタの重みを描画\n",
    "    plt.figure()\n",
    "    for i in range(nb_filter):\n",
    "        # フィルタの画像\n",
    "        im = W[i, 0]\n",
    "\n",
    "        # 重みを0-255のスケールに変換\n",
    "        scaler = MinMaxScaler(feature_range=(0, 255))\n",
    "        im = scaler.fit_transform(im)\n",
    "\n",
    "        plt.subplot(4, 8, i + 1)\n",
    "        plt.axis('off')\n",
    "        plt.imshow(im, cmap=\"gray\")\n",
    "    plt.show()"
   ]
  },
  {
   "cell_type": "code",
   "execution_count": 6,
   "metadata": {
    "collapsed": false
   },
   "outputs": [],
   "source": [
    "# cnn を定義\n",
    "from keras.models import Sequential\n",
    "from keras.layers.convolutional import Conv2D, MaxPooling2D\n",
    "from keras.layers.core import Dense, Dropout, Activation, Flatten\n",
    "from keras.callbacks import EarlyStopping\n",
    "\n",
    "# 各層のパラメータ\n",
    "filters_1 = 20         # 第一層用畳み込みフィルタ数\n",
    "filters_2 = 50         # 第二層用畳み込みフィルタ数\n",
    "kernel_size = (5, 5)   # 畳み込みフィルタの縦横pixel数\n",
    "pool_size = (2, 2)     # プーリングを行う範囲の縦横pixel数\n",
    "hidden_neurons = 500   # 全結合層一層目のニューロン数\n",
    "classes = 10           # 分類するクラス数\n",
    "epochs = 50            # 最適化計算のループ回数\n",
    "\n",
    "model = Sequential()\n",
    "\n",
    "# 畳み込み層1\n",
    "# Conv2Dレイヤーをモデルの第1層に使うときはキーワード引数input_shape （整数のタプル，サンプル軸を含まない）を指定\n",
    "model.add(Conv2D(filters=filters_1, kernel_size=kernel_size, input_shape=input_shape))\n",
    "model.add(Activation('tanh'))\n",
    "# pooling層1\n",
    "model.add(MaxPooling2D(pool_size=pool_size))\n",
    "\n",
    "# 畳み込み層2\n",
    "model.add(Conv2D(filters=filters_2, kernel_size=kernel_size, input_shape=input_shape))\n",
    "model.add(Activation('tanh'))\n",
    "# pooling層1\n",
    "model.add(MaxPooling2D(pool_size=pool_size))\n",
    "\n",
    "# dropout層(正則化的な効果があり、汎化性能を上げることができる)\n",
    "model.add(Dropout(0.2))\n",
    "\n",
    "# 全結合層入力のため、１次元配列に変換\n",
    "model.add(Flatten())\n",
    "\n",
    "# 全結合層1\n",
    "model.add(Dense(hidden_neurons))\n",
    "model.add(Activation('tanh'))\n",
    "\n",
    "# dropout層\n",
    "#model.add(Dropout(0.5))\n",
    "\n",
    "# 全結合層2\n",
    "model.add(Dense(classes))\n",
    "model.add(Activation(\"softmax\"))"
   ]
  },
  {
   "cell_type": "code",
   "execution_count": 7,
   "metadata": {
    "collapsed": false
   },
   "outputs": [
    {
     "name": "stdout",
     "output_type": "stream",
     "text": [
      "_________________________________________________________________\n",
      "Layer (type)                 Output Shape              Param #   \n",
      "=================================================================\n",
      "conv2d_1 (Conv2D)            (None, 24, 24, 20)        520       \n",
      "_________________________________________________________________\n",
      "activation_1 (Activation)    (None, 24, 24, 20)        0         \n",
      "_________________________________________________________________\n",
      "max_pooling2d_1 (MaxPooling2 (None, 12, 12, 20)        0         \n",
      "_________________________________________________________________\n",
      "conv2d_2 (Conv2D)            (None, 8, 8, 50)          25050     \n",
      "_________________________________________________________________\n",
      "activation_2 (Activation)    (None, 8, 8, 50)          0         \n",
      "_________________________________________________________________\n",
      "max_pooling2d_2 (MaxPooling2 (None, 4, 4, 50)          0         \n",
      "_________________________________________________________________\n",
      "dropout_1 (Dropout)          (None, 4, 4, 50)          0         \n",
      "_________________________________________________________________\n",
      "flatten_1 (Flatten)          (None, 800)               0         \n",
      "_________________________________________________________________\n",
      "dense_1 (Dense)              (None, 500)               400500    \n",
      "_________________________________________________________________\n",
      "activation_3 (Activation)    (None, 500)               0         \n",
      "_________________________________________________________________\n",
      "dense_2 (Dense)              (None, 10)                5010      \n",
      "_________________________________________________________________\n",
      "activation_4 (Activation)    (None, 10)                0         \n",
      "=================================================================\n",
      "Total params: 431,080\n",
      "Trainable params: 431,080\n",
      "Non-trainable params: 0\n",
      "_________________________________________________________________\n"
     ]
    }
   ],
   "source": [
    "# モデルを可視化\n",
    "# ShapeのNoneは任意の正の整数を期待することを意味する\n",
    "# (任意のサンプル数, 縦のサイズ, 横のサイズ, フィルタ数)\n",
    "# Paramはチューニング対象となるパラメータの数（畳み込み層ではフィルタ）\n",
    "# 畳み込み層では フィルタ数×フィルタの縦ピクセル数×横ピクセル数+フィルタ数（=バイアス項を示す）\n",
    "# 全入力層では、入力数×ニューロン数+ニューロン数（=バイアス項を示す）\n",
    "model.summary()"
   ]
  },
  {
   "cell_type": "code",
   "execution_count": 8,
   "metadata": {
    "collapsed": false
   },
   "outputs": [
    {
     "data": {
      "image/svg+xml": [
       "<svg height=\"1051pt\" viewBox=\"0.00 0.00 388.00 1051.00\" width=\"388pt\" xmlns=\"http://www.w3.org/2000/svg\" xmlns:xlink=\"http://www.w3.org/1999/xlink\">\n",
       "<g class=\"graph\" id=\"graph0\" transform=\"scale(1 1) rotate(0) translate(4 1047)\">\n",
       "<title>G</title>\n",
       "<polygon fill=\"white\" points=\"-4,4 -4,-1047 384,-1047 384,4 -4,4\" stroke=\"none\"/>\n",
       "<!-- 140242506919568 -->\n",
       "<g class=\"node\" id=\"node1\"><title>140242506919568</title>\n",
       "<polygon fill=\"none\" points=\"21,-996.5 21,-1042.5 359,-1042.5 359,-996.5 21,-996.5\" stroke=\"black\"/>\n",
       "<text font-family=\"Times,serif\" font-size=\"14.00\" text-anchor=\"middle\" x=\"107\" y=\"-1015.8\">conv2d_1_input: InputLayer</text>\n",
       "<polyline fill=\"none\" points=\"193,-996.5 193,-1042.5 \" stroke=\"black\"/>\n",
       "<text font-family=\"Times,serif\" font-size=\"14.00\" text-anchor=\"middle\" x=\"220.5\" y=\"-1027.3\">input:</text>\n",
       "<polyline fill=\"none\" points=\"193,-1019.5 248,-1019.5 \" stroke=\"black\"/>\n",
       "<text font-family=\"Times,serif\" font-size=\"14.00\" text-anchor=\"middle\" x=\"220.5\" y=\"-1004.3\">output:</text>\n",
       "<polyline fill=\"none\" points=\"248,-996.5 248,-1042.5 \" stroke=\"black\"/>\n",
       "<text font-family=\"Times,serif\" font-size=\"14.00\" text-anchor=\"middle\" x=\"303.5\" y=\"-1027.3\">(None, 28, 28, 1)</text>\n",
       "<polyline fill=\"none\" points=\"248,-1019.5 359,-1019.5 \" stroke=\"black\"/>\n",
       "<text font-family=\"Times,serif\" font-size=\"14.00\" text-anchor=\"middle\" x=\"303.5\" y=\"-1004.3\">(None, 28, 28, 1)</text>\n",
       "</g>\n",
       "<!-- 140242506919632 -->\n",
       "<g class=\"node\" id=\"node2\"><title>140242506919632</title>\n",
       "<polygon fill=\"none\" points=\"42,-913.5 42,-959.5 338,-959.5 338,-913.5 42,-913.5\" stroke=\"black\"/>\n",
       "<text font-family=\"Times,serif\" font-size=\"14.00\" text-anchor=\"middle\" x=\"103.5\" y=\"-932.8\">conv2d_1: Conv2D</text>\n",
       "<polyline fill=\"none\" points=\"165,-913.5 165,-959.5 \" stroke=\"black\"/>\n",
       "<text font-family=\"Times,serif\" font-size=\"14.00\" text-anchor=\"middle\" x=\"192.5\" y=\"-944.3\">input:</text>\n",
       "<polyline fill=\"none\" points=\"165,-936.5 220,-936.5 \" stroke=\"black\"/>\n",
       "<text font-family=\"Times,serif\" font-size=\"14.00\" text-anchor=\"middle\" x=\"192.5\" y=\"-921.3\">output:</text>\n",
       "<polyline fill=\"none\" points=\"220,-913.5 220,-959.5 \" stroke=\"black\"/>\n",
       "<text font-family=\"Times,serif\" font-size=\"14.00\" text-anchor=\"middle\" x=\"279\" y=\"-944.3\">(None, 28, 28, 1)</text>\n",
       "<polyline fill=\"none\" points=\"220,-936.5 338,-936.5 \" stroke=\"black\"/>\n",
       "<text font-family=\"Times,serif\" font-size=\"14.00\" text-anchor=\"middle\" x=\"279\" y=\"-921.3\">(None, 24, 24, 20)</text>\n",
       "</g>\n",
       "<!-- 140242506919568&#45;&gt;140242506919632 -->\n",
       "<g class=\"edge\" id=\"edge1\"><title>140242506919568-&gt;140242506919632</title>\n",
       "<path d=\"M190,-996.366C190,-988.152 190,-978.658 190,-969.725\" fill=\"none\" stroke=\"black\"/>\n",
       "<polygon fill=\"black\" points=\"193.5,-969.607 190,-959.607 186.5,-969.607 193.5,-969.607\" stroke=\"black\"/>\n",
       "</g>\n",
       "<!-- 140242506919760 -->\n",
       "<g class=\"node\" id=\"node3\"><title>140242506919760</title>\n",
       "<polygon fill=\"none\" points=\"29.5,-830.5 29.5,-876.5 350.5,-876.5 350.5,-830.5 29.5,-830.5\" stroke=\"black\"/>\n",
       "<text font-family=\"Times,serif\" font-size=\"14.00\" text-anchor=\"middle\" x=\"103.5\" y=\"-849.8\">activation_1: Activation</text>\n",
       "<polyline fill=\"none\" points=\"177.5,-830.5 177.5,-876.5 \" stroke=\"black\"/>\n",
       "<text font-family=\"Times,serif\" font-size=\"14.00\" text-anchor=\"middle\" x=\"205\" y=\"-861.3\">input:</text>\n",
       "<polyline fill=\"none\" points=\"177.5,-853.5 232.5,-853.5 \" stroke=\"black\"/>\n",
       "<text font-family=\"Times,serif\" font-size=\"14.00\" text-anchor=\"middle\" x=\"205\" y=\"-838.3\">output:</text>\n",
       "<polyline fill=\"none\" points=\"232.5,-830.5 232.5,-876.5 \" stroke=\"black\"/>\n",
       "<text font-family=\"Times,serif\" font-size=\"14.00\" text-anchor=\"middle\" x=\"291.5\" y=\"-861.3\">(None, 24, 24, 20)</text>\n",
       "<polyline fill=\"none\" points=\"232.5,-853.5 350.5,-853.5 \" stroke=\"black\"/>\n",
       "<text font-family=\"Times,serif\" font-size=\"14.00\" text-anchor=\"middle\" x=\"291.5\" y=\"-838.3\">(None, 24, 24, 20)</text>\n",
       "</g>\n",
       "<!-- 140242506919632&#45;&gt;140242506919760 -->\n",
       "<g class=\"edge\" id=\"edge2\"><title>140242506919632-&gt;140242506919760</title>\n",
       "<path d=\"M190,-913.366C190,-905.152 190,-895.658 190,-886.725\" fill=\"none\" stroke=\"black\"/>\n",
       "<polygon fill=\"black\" points=\"193.5,-886.607 190,-876.607 186.5,-886.607 193.5,-886.607\" stroke=\"black\"/>\n",
       "</g>\n",
       "<!-- 140242501792080 -->\n",
       "<g class=\"node\" id=\"node4\"><title>140242501792080</title>\n",
       "<polygon fill=\"none\" points=\"0,-747.5 0,-793.5 380,-793.5 380,-747.5 0,-747.5\" stroke=\"black\"/>\n",
       "<text font-family=\"Times,serif\" font-size=\"14.00\" text-anchor=\"middle\" x=\"103.5\" y=\"-766.8\">max_pooling2d_1: MaxPooling2D</text>\n",
       "<polyline fill=\"none\" points=\"207,-747.5 207,-793.5 \" stroke=\"black\"/>\n",
       "<text font-family=\"Times,serif\" font-size=\"14.00\" text-anchor=\"middle\" x=\"234.5\" y=\"-778.3\">input:</text>\n",
       "<polyline fill=\"none\" points=\"207,-770.5 262,-770.5 \" stroke=\"black\"/>\n",
       "<text font-family=\"Times,serif\" font-size=\"14.00\" text-anchor=\"middle\" x=\"234.5\" y=\"-755.3\">output:</text>\n",
       "<polyline fill=\"none\" points=\"262,-747.5 262,-793.5 \" stroke=\"black\"/>\n",
       "<text font-family=\"Times,serif\" font-size=\"14.00\" text-anchor=\"middle\" x=\"321\" y=\"-778.3\">(None, 24, 24, 20)</text>\n",
       "<polyline fill=\"none\" points=\"262,-770.5 380,-770.5 \" stroke=\"black\"/>\n",
       "<text font-family=\"Times,serif\" font-size=\"14.00\" text-anchor=\"middle\" x=\"321\" y=\"-755.3\">(None, 12, 12, 20)</text>\n",
       "</g>\n",
       "<!-- 140242506919760&#45;&gt;140242501792080 -->\n",
       "<g class=\"edge\" id=\"edge3\"><title>140242506919760-&gt;140242501792080</title>\n",
       "<path d=\"M190,-830.366C190,-822.152 190,-812.658 190,-803.725\" fill=\"none\" stroke=\"black\"/>\n",
       "<polygon fill=\"black\" points=\"193.5,-803.607 190,-793.607 186.5,-803.607 193.5,-803.607\" stroke=\"black\"/>\n",
       "</g>\n",
       "<!-- 140242501792912 -->\n",
       "<g class=\"node\" id=\"node5\"><title>140242501792912</title>\n",
       "<polygon fill=\"none\" points=\"42,-664.5 42,-710.5 338,-710.5 338,-664.5 42,-664.5\" stroke=\"black\"/>\n",
       "<text font-family=\"Times,serif\" font-size=\"14.00\" text-anchor=\"middle\" x=\"103.5\" y=\"-683.8\">conv2d_2: Conv2D</text>\n",
       "<polyline fill=\"none\" points=\"165,-664.5 165,-710.5 \" stroke=\"black\"/>\n",
       "<text font-family=\"Times,serif\" font-size=\"14.00\" text-anchor=\"middle\" x=\"192.5\" y=\"-695.3\">input:</text>\n",
       "<polyline fill=\"none\" points=\"165,-687.5 220,-687.5 \" stroke=\"black\"/>\n",
       "<text font-family=\"Times,serif\" font-size=\"14.00\" text-anchor=\"middle\" x=\"192.5\" y=\"-672.3\">output:</text>\n",
       "<polyline fill=\"none\" points=\"220,-664.5 220,-710.5 \" stroke=\"black\"/>\n",
       "<text font-family=\"Times,serif\" font-size=\"14.00\" text-anchor=\"middle\" x=\"279\" y=\"-695.3\">(None, 12, 12, 20)</text>\n",
       "<polyline fill=\"none\" points=\"220,-687.5 338,-687.5 \" stroke=\"black\"/>\n",
       "<text font-family=\"Times,serif\" font-size=\"14.00\" text-anchor=\"middle\" x=\"279\" y=\"-672.3\">(None, 8, 8, 50)</text>\n",
       "</g>\n",
       "<!-- 140242501792080&#45;&gt;140242501792912 -->\n",
       "<g class=\"edge\" id=\"edge4\"><title>140242501792080-&gt;140242501792912</title>\n",
       "<path d=\"M190,-747.366C190,-739.152 190,-729.658 190,-720.725\" fill=\"none\" stroke=\"black\"/>\n",
       "<polygon fill=\"black\" points=\"193.5,-720.607 190,-710.607 186.5,-720.607 193.5,-720.607\" stroke=\"black\"/>\n",
       "</g>\n",
       "<!-- 140242501795664 -->\n",
       "<g class=\"node\" id=\"node6\"><title>140242501795664</title>\n",
       "<polygon fill=\"none\" points=\"36.5,-581.5 36.5,-627.5 343.5,-627.5 343.5,-581.5 36.5,-581.5\" stroke=\"black\"/>\n",
       "<text font-family=\"Times,serif\" font-size=\"14.00\" text-anchor=\"middle\" x=\"110.5\" y=\"-600.8\">activation_2: Activation</text>\n",
       "<polyline fill=\"none\" points=\"184.5,-581.5 184.5,-627.5 \" stroke=\"black\"/>\n",
       "<text font-family=\"Times,serif\" font-size=\"14.00\" text-anchor=\"middle\" x=\"212\" y=\"-612.3\">input:</text>\n",
       "<polyline fill=\"none\" points=\"184.5,-604.5 239.5,-604.5 \" stroke=\"black\"/>\n",
       "<text font-family=\"Times,serif\" font-size=\"14.00\" text-anchor=\"middle\" x=\"212\" y=\"-589.3\">output:</text>\n",
       "<polyline fill=\"none\" points=\"239.5,-581.5 239.5,-627.5 \" stroke=\"black\"/>\n",
       "<text font-family=\"Times,serif\" font-size=\"14.00\" text-anchor=\"middle\" x=\"291.5\" y=\"-612.3\">(None, 8, 8, 50)</text>\n",
       "<polyline fill=\"none\" points=\"239.5,-604.5 343.5,-604.5 \" stroke=\"black\"/>\n",
       "<text font-family=\"Times,serif\" font-size=\"14.00\" text-anchor=\"middle\" x=\"291.5\" y=\"-589.3\">(None, 8, 8, 50)</text>\n",
       "</g>\n",
       "<!-- 140242501792912&#45;&gt;140242501795664 -->\n",
       "<g class=\"edge\" id=\"edge5\"><title>140242501792912-&gt;140242501795664</title>\n",
       "<path d=\"M190,-664.366C190,-656.152 190,-646.658 190,-637.725\" fill=\"none\" stroke=\"black\"/>\n",
       "<polygon fill=\"black\" points=\"193.5,-637.607 190,-627.607 186.5,-637.607 193.5,-637.607\" stroke=\"black\"/>\n",
       "</g>\n",
       "<!-- 140242501914448 -->\n",
       "<g class=\"node\" id=\"node7\"><title>140242501914448</title>\n",
       "<polygon fill=\"none\" points=\"7,-498.5 7,-544.5 373,-544.5 373,-498.5 7,-498.5\" stroke=\"black\"/>\n",
       "<text font-family=\"Times,serif\" font-size=\"14.00\" text-anchor=\"middle\" x=\"110.5\" y=\"-517.8\">max_pooling2d_2: MaxPooling2D</text>\n",
       "<polyline fill=\"none\" points=\"214,-498.5 214,-544.5 \" stroke=\"black\"/>\n",
       "<text font-family=\"Times,serif\" font-size=\"14.00\" text-anchor=\"middle\" x=\"241.5\" y=\"-529.3\">input:</text>\n",
       "<polyline fill=\"none\" points=\"214,-521.5 269,-521.5 \" stroke=\"black\"/>\n",
       "<text font-family=\"Times,serif\" font-size=\"14.00\" text-anchor=\"middle\" x=\"241.5\" y=\"-506.3\">output:</text>\n",
       "<polyline fill=\"none\" points=\"269,-498.5 269,-544.5 \" stroke=\"black\"/>\n",
       "<text font-family=\"Times,serif\" font-size=\"14.00\" text-anchor=\"middle\" x=\"321\" y=\"-529.3\">(None, 8, 8, 50)</text>\n",
       "<polyline fill=\"none\" points=\"269,-521.5 373,-521.5 \" stroke=\"black\"/>\n",
       "<text font-family=\"Times,serif\" font-size=\"14.00\" text-anchor=\"middle\" x=\"321\" y=\"-506.3\">(None, 4, 4, 50)</text>\n",
       "</g>\n",
       "<!-- 140242501795664&#45;&gt;140242501914448 -->\n",
       "<g class=\"edge\" id=\"edge6\"><title>140242501795664-&gt;140242501914448</title>\n",
       "<path d=\"M190,-581.366C190,-573.152 190,-563.658 190,-554.725\" fill=\"none\" stroke=\"black\"/>\n",
       "<polygon fill=\"black\" points=\"193.5,-554.607 190,-544.607 186.5,-554.607 193.5,-554.607\" stroke=\"black\"/>\n",
       "</g>\n",
       "<!-- 140242501491088 -->\n",
       "<g class=\"node\" id=\"node8\"><title>140242501491088</title>\n",
       "<polygon fill=\"none\" points=\"48,-415.5 48,-461.5 332,-461.5 332,-415.5 48,-415.5\" stroke=\"black\"/>\n",
       "<text font-family=\"Times,serif\" font-size=\"14.00\" text-anchor=\"middle\" x=\"110.5\" y=\"-434.8\">dropout_1: Dropout</text>\n",
       "<polyline fill=\"none\" points=\"173,-415.5 173,-461.5 \" stroke=\"black\"/>\n",
       "<text font-family=\"Times,serif\" font-size=\"14.00\" text-anchor=\"middle\" x=\"200.5\" y=\"-446.3\">input:</text>\n",
       "<polyline fill=\"none\" points=\"173,-438.5 228,-438.5 \" stroke=\"black\"/>\n",
       "<text font-family=\"Times,serif\" font-size=\"14.00\" text-anchor=\"middle\" x=\"200.5\" y=\"-423.3\">output:</text>\n",
       "<polyline fill=\"none\" points=\"228,-415.5 228,-461.5 \" stroke=\"black\"/>\n",
       "<text font-family=\"Times,serif\" font-size=\"14.00\" text-anchor=\"middle\" x=\"280\" y=\"-446.3\">(None, 4, 4, 50)</text>\n",
       "<polyline fill=\"none\" points=\"228,-438.5 332,-438.5 \" stroke=\"black\"/>\n",
       "<text font-family=\"Times,serif\" font-size=\"14.00\" text-anchor=\"middle\" x=\"280\" y=\"-423.3\">(None, 4, 4, 50)</text>\n",
       "</g>\n",
       "<!-- 140242501914448&#45;&gt;140242501491088 -->\n",
       "<g class=\"edge\" id=\"edge7\"><title>140242501914448-&gt;140242501491088</title>\n",
       "<path d=\"M190,-498.366C190,-490.152 190,-480.658 190,-471.725\" fill=\"none\" stroke=\"black\"/>\n",
       "<polygon fill=\"black\" points=\"193.5,-471.607 190,-461.607 186.5,-471.607 193.5,-471.607\" stroke=\"black\"/>\n",
       "</g>\n",
       "<!-- 140242501491024 -->\n",
       "<g class=\"node\" id=\"node9\"><title>140242501491024</title>\n",
       "<polygon fill=\"none\" points=\"55.5,-332.5 55.5,-378.5 324.5,-378.5 324.5,-332.5 55.5,-332.5\" stroke=\"black\"/>\n",
       "<text font-family=\"Times,serif\" font-size=\"14.00\" text-anchor=\"middle\" x=\"110.5\" y=\"-351.8\">flatten_1: Flatten</text>\n",
       "<polyline fill=\"none\" points=\"165.5,-332.5 165.5,-378.5 \" stroke=\"black\"/>\n",
       "<text font-family=\"Times,serif\" font-size=\"14.00\" text-anchor=\"middle\" x=\"193\" y=\"-363.3\">input:</text>\n",
       "<polyline fill=\"none\" points=\"165.5,-355.5 220.5,-355.5 \" stroke=\"black\"/>\n",
       "<text font-family=\"Times,serif\" font-size=\"14.00\" text-anchor=\"middle\" x=\"193\" y=\"-340.3\">output:</text>\n",
       "<polyline fill=\"none\" points=\"220.5,-332.5 220.5,-378.5 \" stroke=\"black\"/>\n",
       "<text font-family=\"Times,serif\" font-size=\"14.00\" text-anchor=\"middle\" x=\"272.5\" y=\"-363.3\">(None, 4, 4, 50)</text>\n",
       "<polyline fill=\"none\" points=\"220.5,-355.5 324.5,-355.5 \" stroke=\"black\"/>\n",
       "<text font-family=\"Times,serif\" font-size=\"14.00\" text-anchor=\"middle\" x=\"272.5\" y=\"-340.3\">(None, 800)</text>\n",
       "</g>\n",
       "<!-- 140242501491088&#45;&gt;140242501491024 -->\n",
       "<g class=\"edge\" id=\"edge8\"><title>140242501491088-&gt;140242501491024</title>\n",
       "<path d=\"M190,-415.366C190,-407.152 190,-397.658 190,-388.725\" fill=\"none\" stroke=\"black\"/>\n",
       "<polygon fill=\"black\" points=\"193.5,-388.607 190,-378.607 186.5,-388.607 193.5,-388.607\" stroke=\"black\"/>\n",
       "</g>\n",
       "<!-- 140242501574096 -->\n",
       "<g class=\"node\" id=\"node10\"><title>140242501574096</title>\n",
       "<polygon fill=\"none\" points=\"70,-249.5 70,-295.5 310,-295.5 310,-249.5 70,-249.5\" stroke=\"black\"/>\n",
       "<text font-family=\"Times,serif\" font-size=\"14.00\" text-anchor=\"middle\" x=\"121\" y=\"-268.8\">dense_1: Dense</text>\n",
       "<polyline fill=\"none\" points=\"172,-249.5 172,-295.5 \" stroke=\"black\"/>\n",
       "<text font-family=\"Times,serif\" font-size=\"14.00\" text-anchor=\"middle\" x=\"199.5\" y=\"-280.3\">input:</text>\n",
       "<polyline fill=\"none\" points=\"172,-272.5 227,-272.5 \" stroke=\"black\"/>\n",
       "<text font-family=\"Times,serif\" font-size=\"14.00\" text-anchor=\"middle\" x=\"199.5\" y=\"-257.3\">output:</text>\n",
       "<polyline fill=\"none\" points=\"227,-249.5 227,-295.5 \" stroke=\"black\"/>\n",
       "<text font-family=\"Times,serif\" font-size=\"14.00\" text-anchor=\"middle\" x=\"268.5\" y=\"-280.3\">(None, 800)</text>\n",
       "<polyline fill=\"none\" points=\"227,-272.5 310,-272.5 \" stroke=\"black\"/>\n",
       "<text font-family=\"Times,serif\" font-size=\"14.00\" text-anchor=\"middle\" x=\"268.5\" y=\"-257.3\">(None, 500)</text>\n",
       "</g>\n",
       "<!-- 140242501491024&#45;&gt;140242501574096 -->\n",
       "<g class=\"edge\" id=\"edge9\"><title>140242501491024-&gt;140242501574096</title>\n",
       "<path d=\"M190,-332.366C190,-324.152 190,-314.658 190,-305.725\" fill=\"none\" stroke=\"black\"/>\n",
       "<polygon fill=\"black\" points=\"193.5,-305.607 190,-295.607 186.5,-305.607 193.5,-305.607\" stroke=\"black\"/>\n",
       "</g>\n",
       "<!-- 140242501647888 -->\n",
       "<g class=\"node\" id=\"node11\"><title>140242501647888</title>\n",
       "<polygon fill=\"none\" points=\"47,-166.5 47,-212.5 333,-212.5 333,-166.5 47,-166.5\" stroke=\"black\"/>\n",
       "<text font-family=\"Times,serif\" font-size=\"14.00\" text-anchor=\"middle\" x=\"121\" y=\"-185.8\">activation_3: Activation</text>\n",
       "<polyline fill=\"none\" points=\"195,-166.5 195,-212.5 \" stroke=\"black\"/>\n",
       "<text font-family=\"Times,serif\" font-size=\"14.00\" text-anchor=\"middle\" x=\"222.5\" y=\"-197.3\">input:</text>\n",
       "<polyline fill=\"none\" points=\"195,-189.5 250,-189.5 \" stroke=\"black\"/>\n",
       "<text font-family=\"Times,serif\" font-size=\"14.00\" text-anchor=\"middle\" x=\"222.5\" y=\"-174.3\">output:</text>\n",
       "<polyline fill=\"none\" points=\"250,-166.5 250,-212.5 \" stroke=\"black\"/>\n",
       "<text font-family=\"Times,serif\" font-size=\"14.00\" text-anchor=\"middle\" x=\"291.5\" y=\"-197.3\">(None, 500)</text>\n",
       "<polyline fill=\"none\" points=\"250,-189.5 333,-189.5 \" stroke=\"black\"/>\n",
       "<text font-family=\"Times,serif\" font-size=\"14.00\" text-anchor=\"middle\" x=\"291.5\" y=\"-174.3\">(None, 500)</text>\n",
       "</g>\n",
       "<!-- 140242501574096&#45;&gt;140242501647888 -->\n",
       "<g class=\"edge\" id=\"edge10\"><title>140242501574096-&gt;140242501647888</title>\n",
       "<path d=\"M190,-249.366C190,-241.152 190,-231.658 190,-222.725\" fill=\"none\" stroke=\"black\"/>\n",
       "<polygon fill=\"black\" points=\"193.5,-222.607 190,-212.607 186.5,-222.607 193.5,-222.607\" stroke=\"black\"/>\n",
       "</g>\n",
       "<!-- 140242501375312 -->\n",
       "<g class=\"node\" id=\"node12\"><title>140242501375312</title>\n",
       "<polygon fill=\"none\" points=\"70,-83.5 70,-129.5 310,-129.5 310,-83.5 70,-83.5\" stroke=\"black\"/>\n",
       "<text font-family=\"Times,serif\" font-size=\"14.00\" text-anchor=\"middle\" x=\"121\" y=\"-102.8\">dense_2: Dense</text>\n",
       "<polyline fill=\"none\" points=\"172,-83.5 172,-129.5 \" stroke=\"black\"/>\n",
       "<text font-family=\"Times,serif\" font-size=\"14.00\" text-anchor=\"middle\" x=\"199.5\" y=\"-114.3\">input:</text>\n",
       "<polyline fill=\"none\" points=\"172,-106.5 227,-106.5 \" stroke=\"black\"/>\n",
       "<text font-family=\"Times,serif\" font-size=\"14.00\" text-anchor=\"middle\" x=\"199.5\" y=\"-91.3\">output:</text>\n",
       "<polyline fill=\"none\" points=\"227,-83.5 227,-129.5 \" stroke=\"black\"/>\n",
       "<text font-family=\"Times,serif\" font-size=\"14.00\" text-anchor=\"middle\" x=\"268.5\" y=\"-114.3\">(None, 500)</text>\n",
       "<polyline fill=\"none\" points=\"227,-106.5 310,-106.5 \" stroke=\"black\"/>\n",
       "<text font-family=\"Times,serif\" font-size=\"14.00\" text-anchor=\"middle\" x=\"268.5\" y=\"-91.3\">(None, 10)</text>\n",
       "</g>\n",
       "<!-- 140242501647888&#45;&gt;140242501375312 -->\n",
       "<g class=\"edge\" id=\"edge11\"><title>140242501647888-&gt;140242501375312</title>\n",
       "<path d=\"M190,-166.366C190,-158.152 190,-148.658 190,-139.725\" fill=\"none\" stroke=\"black\"/>\n",
       "<polygon fill=\"black\" points=\"193.5,-139.607 190,-129.607 186.5,-139.607 193.5,-139.607\" stroke=\"black\"/>\n",
       "</g>\n",
       "<!-- 140242501377040 -->\n",
       "<g class=\"node\" id=\"node13\"><title>140242501377040</title>\n",
       "<polygon fill=\"none\" points=\"50.5,-0.5 50.5,-46.5 329.5,-46.5 329.5,-0.5 50.5,-0.5\" stroke=\"black\"/>\n",
       "<text font-family=\"Times,serif\" font-size=\"14.00\" text-anchor=\"middle\" x=\"124.5\" y=\"-19.8\">activation_4: Activation</text>\n",
       "<polyline fill=\"none\" points=\"198.5,-0.5 198.5,-46.5 \" stroke=\"black\"/>\n",
       "<text font-family=\"Times,serif\" font-size=\"14.00\" text-anchor=\"middle\" x=\"226\" y=\"-31.3\">input:</text>\n",
       "<polyline fill=\"none\" points=\"198.5,-23.5 253.5,-23.5 \" stroke=\"black\"/>\n",
       "<text font-family=\"Times,serif\" font-size=\"14.00\" text-anchor=\"middle\" x=\"226\" y=\"-8.3\">output:</text>\n",
       "<polyline fill=\"none\" points=\"253.5,-0.5 253.5,-46.5 \" stroke=\"black\"/>\n",
       "<text font-family=\"Times,serif\" font-size=\"14.00\" text-anchor=\"middle\" x=\"291.5\" y=\"-31.3\">(None, 10)</text>\n",
       "<polyline fill=\"none\" points=\"253.5,-23.5 329.5,-23.5 \" stroke=\"black\"/>\n",
       "<text font-family=\"Times,serif\" font-size=\"14.00\" text-anchor=\"middle\" x=\"291.5\" y=\"-8.3\">(None, 10)</text>\n",
       "</g>\n",
       "<!-- 140242501375312&#45;&gt;140242501377040 -->\n",
       "<g class=\"edge\" id=\"edge12\"><title>140242501375312-&gt;140242501377040</title>\n",
       "<path d=\"M190,-83.3664C190,-75.1516 190,-65.6579 190,-56.7252\" fill=\"none\" stroke=\"black\"/>\n",
       "<polygon fill=\"black\" points=\"193.5,-56.6068 190,-46.6068 186.5,-56.6069 193.5,-56.6068\" stroke=\"black\"/>\n",
       "</g>\n",
       "</g>\n",
       "</svg>"
      ],
      "text/plain": [
       "<IPython.core.display.SVG object>"
      ]
     },
     "execution_count": 8,
     "metadata": {},
     "output_type": "execute_result"
    }
   ],
   "source": [
    "from IPython.display import SVG\n",
    "from keras.utils.vis_utils import model_to_dot\n",
    "\n",
    "SVG(model_to_dot(model, show_shapes=True).create(prog='dot', format='svg'))"
   ]
  },
  {
   "cell_type": "code",
   "execution_count": 9,
   "metadata": {
    "collapsed": true
   },
   "outputs": [],
   "source": [
    "# モデルをコンパイル\n",
    "# loss - 損失関数 = 目的関数（この関数の値が小さくなるように学習していく）\n",
    "# 参考) https://keras.io/ja/objectives/\n",
    "# optimizer - 最適化の手法\n",
    "# 参考) https://keras.io/ja/optimizers/\n",
    "# metrics - 評価関数\n",
    "# 参考) https://keras.io/ja/metrics/\n",
    "model.compile(loss='categorical_crossentropy', optimizer='adadelta', metrics=['accuracy'])"
   ]
  },
  {
   "cell_type": "code",
   "execution_count": 10,
   "metadata": {
    "collapsed": false
   },
   "outputs": [
    {
     "data": {
      "image/png": "[encoded data removed]",
      "text/plain": [
       "<matplotlib.figure.Figure at 0x7f8cfc63fb10>"
      ]
     },
     "metadata": {},
     "output_type": "display_data"
    }
   ],
   "source": [
    "# 学習前の重みを表示\n",
    "visualize_filter(model)"
   ]
  },
  {
   "cell_type": "code",
   "execution_count": 11,
   "metadata": {
    "collapsed": false,
    "scrolled": true
   },
   "outputs": [
    {
     "name": "stdout",
     "output_type": "stream",
     "text": [
      "Train on 33600 samples, validate on 8400 samples\n",
      "Epoch 1/50\n",
      "33600/33600 [==============================] - 29s - loss: 0.3596 - acc: 0.8986 - val_loss: 0.1396 - val_acc: 0.9594\n",
      "Epoch 2/50\n",
      "33600/33600 [==============================] - 38s - loss: 0.1205 - acc: 0.9642 - val_loss: 0.0871 - val_acc: 0.9733\n",
      "Epoch 3/50\n",
      "33600/33600 [==============================] - 44s - loss: 0.0873 - acc: 0.9732 - val_loss: 0.0687 - val_acc: 0.9776\n",
      "Epoch 4/50\n",
      "33600/33600 [==============================] - 45s - loss: 0.0693 - acc: 0.9793 - val_loss: 0.0687 - val_acc: 0.9792\n",
      "Epoch 5/50\n",
      "33600/33600 [==============================] - 47s - loss: 0.0587 - acc: 0.9827 - val_loss: 0.0532 - val_acc: 0.9827\n",
      "Epoch 6/50\n",
      "33600/33600 [==============================] - 49s - loss: 0.0505 - acc: 0.9846 - val_loss: 0.0506 - val_acc: 0.9839\n",
      "Epoch 7/50\n",
      "33600/33600 [==============================] - 52s - loss: 0.0437 - acc: 0.9867 - val_loss: 0.0531 - val_acc: 0.9835\n",
      "Epoch 8/50\n",
      "33600/33600 [==============================] - 49s - loss: 0.0397 - acc: 0.9880 - val_loss: 0.0411 - val_acc: 0.9868\n",
      "Epoch 9/50\n",
      "33600/33600 [==============================] - 57s - loss: 0.0343 - acc: 0.9893 - val_loss: 0.0401 - val_acc: 0.9871\n",
      "Epoch 10/50\n",
      "33600/33600 [==============================] - 72s - loss: 0.0303 - acc: 0.9910 - val_loss: 0.0493 - val_acc: 0.9852\n",
      "Epoch 11/50\n",
      "33600/33600 [==============================] - 66s - loss: 0.0291 - acc: 0.9904 - val_loss: 0.0352 - val_acc: 0.9888\n",
      "Epoch 12/50\n",
      "33600/33600 [==============================] - 65s - loss: 0.0247 - acc: 0.9921 - val_loss: 0.0410 - val_acc: 0.9865\n",
      "Epoch 13/50\n",
      "33600/33600 [==============================] - 54s - loss: 0.0226 - acc: 0.9931 - val_loss: 0.0331 - val_acc: 0.9894\n",
      "Epoch 14/50\n",
      "33600/33600 [==============================] - 53s - loss: 0.0205 - acc: 0.9935 - val_loss: 0.0343 - val_acc: 0.9892\n",
      "Epoch 15/50\n",
      "33600/33600 [==============================] - 50s - loss: 0.0181 - acc: 0.9942 - val_loss: 0.0367 - val_acc: 0.9876\n",
      "Epoch 16/50\n",
      "33600/33600 [==============================] - 54s - loss: 0.0166 - acc: 0.9948 - val_loss: 0.0344 - val_acc: 0.9898\n",
      "Epoch 00015: early stopping\n"
     ]
    },
    {
     "data": {
      "text/plain": [
       "<keras.callbacks.History at 0x7f8cbc4b2710>"
      ]
     },
     "execution_count": 11,
     "metadata": {},
     "output_type": "execute_result"
    }
   ],
   "source": [
    "# モデルの学習\n",
    "# 過学習を防ぐために収束判定を自動で行ってくれるのが、early stopping関数\n",
    "# 評価用データを用いた最適化計算が収束したら予測精度が下がる前に計算ループを止めてくれる\n",
    "# patientce：何回連続で損失の最小値が更新されなかったらループを止めるか\n",
    "# verbose：コマンドラインにコメントを出力する場合は\"1\"と設定\n",
    "early_stopping = EarlyStopping(patience=2, verbose=1)\n",
    "\n",
    "# batch_size：計算効率化のために分割された訓練データの１グループあたりのデータ数\n",
    "# validation_split：全ての画像の内、評価画像として用いる割合（0.2なら最後の20％）\n",
    "model.fit(X_train, y_train_ohe, epochs=epochs, batch_size=128, verbose=1, validation_split=0.2, callbacks=[early_stopping])"
   ]
  },
  {
   "cell_type": "code",
   "execution_count": 12,
   "metadata": {
    "collapsed": false
   },
   "outputs": [
    {
     "name": "stdout",
     "output_type": "stream",
     "text": [
      "27904/28000 [============================>.] - ETA: 0s"
     ]
    }
   ],
   "source": [
    "# 結果を保存\n",
    "submission = pd.DataFrame({\n",
    "        'ImageId': test.index.values + 1,\n",
    "        'Label': model.predict_classes(X_test, verbose=True).astype(int)\n",
    "    })\n",
    "submission.to_csv('result/predict_nn.csv', index=False)"
   ]
  },
  {
   "cell_type": "code",
   "execution_count": 13,
   "metadata": {
    "collapsed": false
   },
   "outputs": [
    {
     "data": {
      "image/png": "[encoded data removed]",
      "text/plain": [
       "<matplotlib.figure.Figure at 0x7f8cbc5d4f50>"
      ]
     },
     "metadata": {},
     "output_type": "display_data"
    }
   ],
   "source": [
    "# 学習後の重みを表示\n",
    "visualize_filter(model)"
   ]
  },
  {
   "cell_type": "code",
   "execution_count": null,
   "metadata": {
    "collapsed": true
   },
   "outputs": [],
   "source": []
  }
 ],
 "metadata": {
  "kernelspec": {
   "display_name": "Python 2",
   "language": "python",
   "name": "python2"
  },
  "language_info": {
   "codemirror_mode": {
    "name": "ipython",
    "version": 2
   },
   "file_extension": ".py",
   "mimetype": "text/x-python",
   "name": "python",
   "nbconvert_exporter": "python",
   "pygments_lexer": "ipython2",
   "version": "2.7.12"
  }
 },
 "nbformat": 4,
 "nbformat_minor": 1
}
