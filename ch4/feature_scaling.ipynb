{
 "cells": [
  {
   "cell_type": "markdown",
   "metadata": {},
   "source": [
    "機械学習の大半のアルゴリズムは特徴量の尺度が同じ場合、はるかにうまく機能する<br>\n",
    "尺度の大きい特徴量の方が寄与率が高いため<br>\n",
    "* 正規化(normalization) … 特徴量の[0, 1]の範囲にする\n",
    "* 標準化(standardization) … 平均値0, 標準偏差1となるようにバラつき具合を変換する"
   ]
  },
  {
   "cell_type": "markdown",
   "metadata": {},
   "source": [
    "#### 正規化"
   ]
  },
  {
   "cell_type": "markdown",
   "metadata": {},
   "source": [
    "$$\n",
    "x_{norm}^{(i)} = \\frac{x^{(i)} - x_{min}}{x_{max} - x_{min}}\n",
    "$$"
   ]
  },
  {
   "cell_type": "code",
   "execution_count": 1,
   "metadata": {
    "collapsed": true
   },
   "outputs": [],
   "source": [
    "# Wineデータセットを読み込み\n",
    "import pandas as pd\n",
    "import numpy as np\n",
    "df_wine = pd.read_csv(\n",
    "    'https://archive.ics.uci.edu/ml/machine-learning-databases/wine/wine.data',\n",
    "    header=None)\n",
    "# 列名を設定\n",
    "df_wine.columns = [\n",
    "    'Class label', 'Alcohol', 'Malic acid', 'Ash', 'Alcalinity of ash', 'Magnesium', 'Total phenols', 'Flavanoides', 'Nonflavanoid phenols',\n",
    "    'Proanthocyanins', 'Color intensity', 'Hue', 'OD280/OD315 ofdiluted wines', 'Proline']\n",
    "# train_test_split関数でデータセットをランダムに分割する\n",
    "from sklearn.model_selection import train_test_split\n",
    "# 特徴量とラベルを別々に抽出\n",
    "X, y = df_wine.iloc[:, 1:].values, df_wine.iloc[:, 0].values\n",
    "# 全体の30%をテストデータにして分割\n",
    "X_train, X_test, y_train, y_test = train_test_split(X, y, test_size=0.3, random_state=0)"
   ]
  },
  {
   "cell_type": "code",
   "execution_count": 2,
   "metadata": {
    "collapsed": true
   },
   "outputs": [],
   "source": [
    "# min-maxスケーリングを実行\n",
    "from sklearn.preprocessing import MinMaxScaler\n",
    "# インスタンス生成\n",
    "mms = MinMaxScaler()\n",
    "# トレーニングデータをスケーリング\n",
    "X_train_norm = mms.fit_transform(X_train)\n",
    "# テストデータをスケーリング\n",
    "X_test_norm = mms.fit_transform(X_test)"
   ]
  },
  {
   "cell_type": "code",
   "execution_count": 3,
   "metadata": {
    "collapsed": false
   },
   "outputs": [
    {
     "data": {
      "text/plain": [
       "array([[  1.37100000e+01,   1.86000000e+00,   2.36000000e+00, ...,\n",
       "          1.11000000e+00,   4.00000000e+00,   1.03500000e+03],\n",
       "       [  1.22200000e+01,   1.29000000e+00,   1.94000000e+00, ...,\n",
       "          8.60000000e-01,   3.02000000e+00,   3.12000000e+02],\n",
       "       [  1.32700000e+01,   4.28000000e+00,   2.26000000e+00, ...,\n",
       "          5.90000000e-01,   1.56000000e+00,   8.35000000e+02],\n",
       "       ..., \n",
       "       [  1.24200000e+01,   1.61000000e+00,   2.19000000e+00, ...,\n",
       "          1.06000000e+00,   2.96000000e+00,   3.45000000e+02],\n",
       "       [  1.39000000e+01,   1.68000000e+00,   2.12000000e+00, ...,\n",
       "          9.10000000e-01,   3.33000000e+00,   9.85000000e+02],\n",
       "       [  1.41600000e+01,   2.51000000e+00,   2.48000000e+00, ...,\n",
       "          6.20000000e-01,   1.71000000e+00,   6.60000000e+02]])"
      ]
     },
     "execution_count": 3,
     "metadata": {},
     "output_type": "execute_result"
    }
   ],
   "source": [
    "X_train"
   ]
  },
  {
   "cell_type": "code",
   "execution_count": 4,
   "metadata": {
    "collapsed": false
   },
   "outputs": [
    {
     "data": {
      "text/plain": [
       "array([[ 0.72043011,  0.20378151,  0.53763441, ...,  0.48717949,\n",
       "         1.        ,  0.5854251 ],\n",
       "       [ 0.31989247,  0.08403361,  0.31182796, ...,  0.27350427,\n",
       "         0.64102564,  0.        ],\n",
       "       [ 0.60215054,  0.71218487,  0.48387097, ...,  0.04273504,\n",
       "         0.10622711,  0.42348178],\n",
       "       ..., \n",
       "       [ 0.37365591,  0.1512605 ,  0.44623656, ...,  0.44444444,\n",
       "         0.61904762,  0.02672065],\n",
       "       [ 0.77150538,  0.16596639,  0.40860215, ...,  0.31623932,\n",
       "         0.75457875,  0.54493927],\n",
       "       [ 0.84139785,  0.34033613,  0.60215054, ...,  0.06837607,\n",
       "         0.16117216,  0.28178138]])"
      ]
     },
     "execution_count": 4,
     "metadata": {},
     "output_type": "execute_result"
    }
   ],
   "source": [
    "X_train_norm"
   ]
  },
  {
   "cell_type": "markdown",
   "metadata": {},
   "source": [
    "#### 標準化"
   ]
  },
  {
   "cell_type": "markdown",
   "metadata": {},
   "source": [
    "多くのアルゴリズムの場合こちらのほうが有効かもしれない<br>\n",
    "多くの線形モデルが重みを0か0に近い小さな乱数に初期化する<br>\n",
    "特徴量の列は正規分布に従うため、重みを学習しやすくなる<br>\n",
    "外れ値に関して、標準化による変換を行っても、外れ値のままになっている<br>\n",
    "\n",
    "$$\n",
    "x_{std}^{(i)} = \\frac{x^{(i)} - \\mu_x}{\\sigma_x}\n",
    "$$"
   ]
  },
  {
   "cell_type": "code",
   "execution_count": 5,
   "metadata": {
    "collapsed": false
   },
   "outputs": [],
   "source": [
    "from sklearn.preprocessing import StandardScaler\n",
    "# インスタンス生成\n",
    "stdsc = StandardScaler()\n",
    "X_train_std = stdsc.fit_transform(X_train)\n",
    "X_test_std = stdsc.fit_transform(X_test)"
   ]
  },
  {
   "cell_type": "code",
   "execution_count": 6,
   "metadata": {
    "collapsed": false
   },
   "outputs": [
    {
     "data": {
      "text/plain": [
       "array([[  1.37100000e+01,   1.86000000e+00,   2.36000000e+00, ...,\n",
       "          1.11000000e+00,   4.00000000e+00,   1.03500000e+03],\n",
       "       [  1.22200000e+01,   1.29000000e+00,   1.94000000e+00, ...,\n",
       "          8.60000000e-01,   3.02000000e+00,   3.12000000e+02],\n",
       "       [  1.32700000e+01,   4.28000000e+00,   2.26000000e+00, ...,\n",
       "          5.90000000e-01,   1.56000000e+00,   8.35000000e+02],\n",
       "       ..., \n",
       "       [  1.24200000e+01,   1.61000000e+00,   2.19000000e+00, ...,\n",
       "          1.06000000e+00,   2.96000000e+00,   3.45000000e+02],\n",
       "       [  1.39000000e+01,   1.68000000e+00,   2.12000000e+00, ...,\n",
       "          9.10000000e-01,   3.33000000e+00,   9.85000000e+02],\n",
       "       [  1.41600000e+01,   2.51000000e+00,   2.48000000e+00, ...,\n",
       "          6.20000000e-01,   1.71000000e+00,   6.60000000e+02]])"
      ]
     },
     "execution_count": 6,
     "metadata": {},
     "output_type": "execute_result"
    }
   ],
   "source": [
    "X_train"
   ]
  },
  {
   "cell_type": "code",
   "execution_count": 7,
   "metadata": {
    "collapsed": false
   },
   "outputs": [
    {
     "data": {
      "text/plain": [
       "array([[ 0.91083058, -0.46259897, -0.01142613, ...,  0.65706596,\n",
       "         1.94354495,  0.93700997],\n",
       "       [-0.95609928, -0.96608672, -1.53725357, ..., -0.40859506,\n",
       "         0.58118003, -1.41336684],\n",
       "       [ 0.35952243,  1.67501572, -0.37471838, ..., -1.55950896,\n",
       "        -1.44846566,  0.28683658],\n",
       "       ..., \n",
       "       [-0.70550467, -0.68342693, -0.62902295, ...,  0.44393375,\n",
       "         0.49776993, -1.30608823],\n",
       "       [ 1.14889546, -0.6215951 , -0.88332752, ..., -0.19546286,\n",
       "         1.0121322 ,  0.77446662],\n",
       "       [ 1.47466845,  0.11155374,  0.42452457, ..., -1.43162964,\n",
       "        -1.23994042, -0.28206514]])"
      ]
     },
     "execution_count": 7,
     "metadata": {},
     "output_type": "execute_result"
    }
   ],
   "source": [
    "X_train_std"
   ]
  }
 ],
 "metadata": {
  "kernelspec": {
   "display_name": "Python 2",
   "language": "python",
   "name": "python2"
  },
  "language_info": {
   "codemirror_mode": {
    "name": "ipython",
    "version": 2
   },
   "file_extension": ".py",
   "mimetype": "text/x-python",
   "name": "python",
   "nbconvert_exporter": "python",
   "pygments_lexer": "ipython2",
   "version": "2.7.12"
  }
 },
 "nbformat": 4,
 "nbformat_minor": 1
}
