{
 "cells": [
  {
   "cell_type": "markdown",
   "metadata": {},
   "source": [
    "確率的勾配降下法（stochastic gradient descent）\n",
    "\n",
    "以下のようにトレーニングサンプルごとに段階的に重みを更新する（sumではない）\n",
    "$$\n",
    "\\eta (y^{(i)} - \\phi(z^{(i)}))x_j^{(i)}\n",
    "$$"
   ]
  },
  {
   "cell_type": "code",
   "execution_count": 1,
   "metadata": {
    "collapsed": true
   },
   "outputs": [],
   "source": [
    "import numpy as np\n",
    "from numpy.random import seed\n",
    "import pandas as pd\n",
    "import matplotlib.pyplot as plt"
   ]
  },
  {
   "cell_type": "code",
   "execution_count": 2,
   "metadata": {
    "collapsed": false
   },
   "outputs": [],
   "source": [
    "df = pd.read_csv('https://archive.ics.uci.edu/ml/machine-learning-databases/iris/iris.data', header=None)\n",
    "# 1-100行目の目的変数抽出\n",
    "y = df.iloc[0:100, 4].values\n",
    "# Iris-setosaを-1に、Iris-versicolorを1に変換\n",
    "y = np.where(y == 'Iris-setosa', -1, 1)\n",
    "# 1-100行目の1, 3項目目を抽出\n",
    "X = df.iloc[0:100, [0,2]].values"
   ]
  },
  {
   "cell_type": "code",
   "execution_count": 3,
   "metadata": {
    "collapsed": true
   },
   "outputs": [],
   "source": [
    "class AdalineSGD(object):\n",
    "    \"\"\"\n",
    "    ADAptive LInear NEuron 分類器\n",
    "    \n",
    "    パラメータ\n",
    "    ----------\n",
    "    eta : float\n",
    "        学習率（0.0 <= eta <= 1.0)\n",
    "    n_iter : int\n",
    "        トレーニング回数\n",
    "        \n",
    "    属性\n",
    "    ----------\n",
    "    w_ : 一次元配列\n",
    "       重み\n",
    "    errors_ : リスト\n",
    "       各トレーニングでの誤分類数\n",
    "    shuffle : bool (デフォルト : True)\n",
    "       循環を回避するために各トレーニングでデータをシャッフル\n",
    "    random_state : int (デフォルト : None)\n",
    "       乱数種を設定するときに使う\n",
    "    \"\"\"\n",
    "    \n",
    "    def __init__(self, eta=0.01, n_iter=10, shuffle=True, random_state=None):\n",
    "        self.eta = eta\n",
    "        self.n_iter = n_iter\n",
    "        # 重みの初期化はしない\n",
    "        self.w_initialized = False\n",
    "        self.shuffle = shuffle\n",
    "        # random_state が指定された時は乱数種を設定\n",
    "        if random_state:\n",
    "            seed(random_state)\n",
    "        \n",
    "    def fit(self, X, y):\n",
    "        \"\"\"\n",
    "        トレーニングデータに適合させる\n",
    "        \n",
    "        パラメータ\n",
    "        ----------\n",
    "        X : {サンプル数, 特徴量の個数} \n",
    "          トレーニングデータ\n",
    "        y : {サンプル数}\n",
    "          目的変数\n",
    "          \n",
    "        戻り値\n",
    "        ----------\n",
    "        self : object\n",
    "        \"\"\"\n",
    "        \n",
    "        # 重みベクトルの生成\n",
    "        self._initialize_weights(X.shape[1])\n",
    "        # コスト初期化\n",
    "        self.cost_ = []\n",
    "        \n",
    "        for i in range(self.n_iter): # n_iter回反復してトレーニング\n",
    "            # 指定された場合はトレーニングデータをシャッフル\n",
    "            if self.shuffle:\n",
    "                X, y = self._shuffle(X, y)\n",
    "            # コスト\n",
    "            cost = []\n",
    "            # 各サンプルに対する計算\n",
    "            for xi, target in zip(X, y):\n",
    "                # 重みを更新し、コストを計算\n",
    "                cost.append(self._update_weights(xi, target))\n",
    "            # サンプルの平均コスト\n",
    "            avg_cost = sum(cost) / len(y)\n",
    "            # 活性化関数の出力の計算 phi(w^Tx) = w^Tx\n",
    "            output = self.net_input(X)\n",
    "            # コストを保存\n",
    "            self.cost_.append(avg_cost)\n",
    "        return self\n",
    "    \n",
    "    def partial_fit(self, X, y):\n",
    "        \"\"\"\n",
    "        重みを再初期化することなくfitを行う\n",
    "        \"\"\"\n",
    "        # 初期化されていない場合初期化\n",
    "        if not self.w_initialized:\n",
    "            self._initialize_weights(X.shape[1])\n",
    "        # 目的変数yの要素数が2以上の場合はサンプル１つずつで更新\n",
    "        if y.rabel().shape[0] > 1:\n",
    "            for xi, target in zip(X, y):\n",
    "                self._update_weights(xi, target)\n",
    "        # 目的変数yの要素数が1の場合はサンプル全体で更新\n",
    "        else:\n",
    "            self._update_weights(X, y)\n",
    "        return self\n",
    "    \n",
    "    def _shuffle(self, X, y):\n",
    "        \"\"\"\n",
    "        トレーニングデータをシャッフル\n",
    "        \"\"\"\n",
    "        r = np.random.permutation(len(y))\n",
    "        return X[r], y[r]\n",
    "    \n",
    "    def _initialize_weights(self, m):\n",
    "        \"\"\"\n",
    "        重みを0に初期化\n",
    "        \"\"\"\n",
    "        self.w_ = np.zeros(1 + m)\n",
    "        self.w_initialized = True\n",
    "        \n",
    "    def _update_weights(self, xi, target):\n",
    "        \"\"\"\n",
    "        Adalineの学習規則で重みを更新\n",
    "        \"\"\"\n",
    "        # 出力\n",
    "        output = self.net_input(xi)\n",
    "        # 誤差\n",
    "        error = (target - output)\n",
    "        # 重み更新(1サンプル xi で更新)\n",
    "        self.w_[1:] += self.eta * xi.dot(error)\n",
    "        self.w_[0] += self.eta * 1 * error\n",
    "        # コスト\n",
    "        cost = 0.5 * error**2\n",
    "        return cost\n",
    "    \n",
    "    def net_input(self, X):\n",
    "        \"\"\"総入力を計算\"\"\"\n",
    "        return np.dot(X, self.w_[1:]) + self.w_[0] * 1\n",
    "    \n",
    "    def activation(self, X):\n",
    "        \"\"\"線形活性化関数の出力を計算\"\"\"\n",
    "        return self.net_input(X)\n",
    "    \n",
    "    def predict(self, X):\n",
    "        \"\"\"1ステップ後のクラスラベルを返す\"\"\"\n",
    "        return np.where(self.activation(X) >= 0.0, 1, -1)"
   ]
  },
  {
   "cell_type": "code",
   "execution_count": 4,
   "metadata": {
    "collapsed": false
   },
   "outputs": [],
   "source": [
    "# データコピー\n",
    "X_std = np.copy(X)\n",
    "# 各列の標準化\n",
    "X_std[:, 0] = (X[:, 0] - X[:, 0].mean()) / X[:, 0].std()\n",
    "X_std[:, 1] = (X[:, 1] - X[:, 1].mean()) / X[:, 1].std()"
   ]
  },
  {
   "cell_type": "code",
   "execution_count": 5,
   "metadata": {
    "collapsed": true
   },
   "outputs": [],
   "source": [
    "from matplotlib.colors import ListedColormap\n",
    "\n",
    "def plot_decision_regions(X, y, classifier, resolution=0.02, xlabel='x', ylabel='y', title='title', legend_loc='upper left'):\n",
    "    \n",
    "    # マーカーとカラーマップの準備\n",
    "    markers = ('s', 'o', 'x', '^', 'v')\n",
    "    colors = ('red', 'blue', 'lightgreen', 'gray', 'cyan')\n",
    "    cmap = ListedColormap(colors[:len(np.unique(y))])\n",
    "    \n",
    "    # 決定領域のプロット\n",
    "    x1_min, x1_max = X[:, 0].min() - 1, X[:, 0].max() + 1\n",
    "    x2_min, x2_max = X[:, 1].min() - 1, X[:, 1].max() + 1\n",
    "    # グリッドポイントの生成\n",
    "    xx1, xx2 = np.meshgrid(np.arange(x1_min, x1_max, resolution),\n",
    "                           np.arange(x2_min, x2_max, resolution))\n",
    "    print 'xx1'\n",
    "    print xx1\n",
    "    print 'xx2'\n",
    "    print xx2\n",
    "    print 'xx1.ravel()'\n",
    "    print xx1.ravel()\n",
    "    print 'xx2.ravel()'\n",
    "    print xx2.ravel()\n",
    "    \n",
    "    # 各特徴量を1次元配列に変換して予測を実行\n",
    "    Z = classifier.predict(np.array([xx1.ravel(), xx2.ravel()]).T)\n",
    "    # 予測結果を元のグリッドポイントのデータサイズに変換\n",
    "    Z = Z.reshape(xx1.shape)\n",
    "    print 'Z'\n",
    "    print Z\n",
    "    # グリッドポイントの等高線のプロット\n",
    "    plt.contourf(xx1, xx2, Z, aplha=0.4, cmap=cmap)\n",
    "    # 軸の範囲の設定\n",
    "    plt.xlim(xx1.min(), xx1.max())\n",
    "    plt.ylim(xx2.min(), xx2.max())\n",
    "    \n",
    "    # クラスごとにサンプルをプロット\n",
    "    for idx, cl in enumerate(np.unique(y)):\n",
    "        plt.scatter(x=X[y == cl, 0], y=X[y == cl, 1], alpha=0.8, c=cmap(idx), marker=markers[idx], label=cl)\n",
    "        \n",
    "    # 軸のラベルの設定\n",
    "    plt.xlabel(xlabel)\n",
    "    plt.ylabel(ylabel)\n",
    "    # タイトル設定\n",
    "    plt.title(title)\n",
    "    # 凡例の設定\n",
    "    plt.legend(loc=legend_loc)\n",
    "    # 図の表示\n",
    "    plt.show()"
   ]
  },
  {
   "cell_type": "code",
   "execution_count": 6,
   "metadata": {
    "collapsed": false
   },
   "outputs": [
    {
     "name": "stdout",
     "output_type": "stream",
     "text": [
      "xx1\n",
      "[[-2.8340382 -2.8140382 -2.7940382 ...,  3.3459618  3.3659618  3.3859618]\n",
      " [-2.8340382 -2.8140382 -2.7940382 ...,  3.3459618  3.3659618  3.3859618]\n",
      " [-2.8340382 -2.8140382 -2.7940382 ...,  3.3459618  3.3659618  3.3859618]\n",
      " ..., \n",
      " [-2.8340382 -2.8140382 -2.7940382 ...,  3.3459618  3.3659618  3.3859618]\n",
      " [-2.8340382 -2.8140382 -2.7940382 ...,  3.3459618  3.3659618  3.3859618]\n",
      " [-2.8340382 -2.8140382 -2.7940382 ...,  3.3459618  3.3659618  3.3859618]]\n",
      "xx2\n",
      "[[-2.29188606 -2.29188606 -2.29188606 ..., -2.29188606 -2.29188606\n",
      "  -2.29188606]\n",
      " [-2.27188606 -2.27188606 -2.27188606 ..., -2.27188606 -2.27188606\n",
      "  -2.27188606]\n",
      " [-2.25188606 -2.25188606 -2.25188606 ..., -2.25188606 -2.25188606\n",
      "  -2.25188606]\n",
      " ..., \n",
      " [ 2.50811394  2.50811394  2.50811394 ...,  2.50811394  2.50811394\n",
      "   2.50811394]\n",
      " [ 2.52811394  2.52811394  2.52811394 ...,  2.52811394  2.52811394\n",
      "   2.52811394]\n",
      " [ 2.54811394  2.54811394  2.54811394 ...,  2.54811394  2.54811394\n",
      "   2.54811394]]\n",
      "xx1.ravel()\n",
      "[-2.8340382 -2.8140382 -2.7940382 ...,  3.3459618  3.3659618  3.3859618]\n",
      "xx2.ravel()\n",
      "[-2.29188606 -2.29188606 -2.29188606 ...,  2.54811394  2.54811394\n",
      "  2.54811394]\n",
      "Z\n",
      "[[-1 -1 -1 ..., -1 -1 -1]\n",
      " [-1 -1 -1 ..., -1 -1 -1]\n",
      " [-1 -1 -1 ..., -1 -1 -1]\n",
      " ..., \n",
      " [ 1  1  1 ...,  1  1  1]\n",
      " [ 1  1  1 ...,  1  1  1]\n",
      " [ 1  1  1 ...,  1  1  1]]\n"
     ]
    },
    {
     "data": {
      "image/png": "[encoded data removed]",
      "text/plain": [
       "<matplotlib.figure.Figure at 0x7f2076be2a90>"
      ]
     },
     "metadata": {},
     "output_type": "display_data"
    },
    {
     "data": {
      "image/png": "[encoded data removed]",
      "text/plain": [
       "<matplotlib.figure.Figure at 0x7f2075fb2fd0>"
      ]
     },
     "metadata": {},
     "output_type": "display_data"
    }
   ],
   "source": [
    "# 学習\n",
    "ada = AdalineSGD(n_iter=15, eta=0.01, random_state=1)\n",
    "# モデルの適合\n",
    "ada.fit(X_std, y)\n",
    "# 決定境界のプロット\n",
    "plot_decision_regions(X_std, y, classifier=ada, xlabel='sepal length [standardized]', ylabel='petal length [standardized]', title='Adaline - Stochastic Gradient Descent')\n",
    "# トレーニング回数とコストのプロット\n",
    "plt.plot(range(1, len(ada.cost_) + 1), ada.cost_, marker='o')\n",
    "# 軸のラベル設定\n",
    "plt.xlabel('Epochs')\n",
    "plt.ylabel('Avarage Cost')\n",
    "# タイトルの設定\n",
    "plt.title('Adaline - Learning rate 0.01')\n",
    "# 図の表示\n",
    "plt.show()"
   ]
  },
  {
   "cell_type": "code",
   "execution_count": null,
   "metadata": {
    "collapsed": true
   },
   "outputs": [],
   "source": []
  }
 ],
 "metadata": {
  "kernelspec": {
   "display_name": "Python 2",
   "language": "python",
   "name": "python2"
  },
  "language_info": {
   "codemirror_mode": {
    "name": "ipython",
    "version": 2
   },
   "file_extension": ".py",
   "mimetype": "text/x-python",
   "name": "python",
   "nbconvert_exporter": "python",
   "pygments_lexer": "ipython2",
   "version": "2.7.12"
  }
 },
 "nbformat": 4,
 "nbformat_minor": 1
}
